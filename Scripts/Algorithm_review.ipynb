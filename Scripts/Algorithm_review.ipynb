{
 "cells": [
  {
   "cell_type": "markdown",
   "id": "9611cdbc-c625-4478-a971-1e5975de4830",
   "metadata": {
    "tags": []
   },
   "source": [
    "# Review an algorithm using jupyter lab"
   ]
  },
  {
   "cell_type": "code",
   "execution_count": 116,
   "id": "9fc089ee-0bab-4c0b-889a-498d5d4f3be3",
   "metadata": {},
   "outputs": [],
   "source": [
    "import pandas as pd\n",
    "import numpy as np\n",
    "import seaborn as sns                       #visualisation\n",
    "import matplotlib.pyplot as plt             #visualisation\n",
    "import os\n",
    "import plotly.graph_objects as go\n",
    "import plotly.express as px\n",
    "%matplotlib inline     \n",
    "sns.set(color_codes=True)"
   ]
  },
  {
   "cell_type": "code",
   "execution_count": 117,
   "id": "04591c5b-6a97-479e-82f4-75a72978eda7",
   "metadata": {},
   "outputs": [
    {
     "data": {
      "text/plain": [
       "'/home/shoff/Projekte/Automatically-Estimating-Task-Durations/Scripts'"
      ]
     },
     "execution_count": 117,
     "metadata": {},
     "output_type": "execute_result"
    }
   ],
   "source": [
    "%pwd"
   ]
  },
  {
   "cell_type": "code",
   "execution_count": 118,
   "id": "ba16880a-d6d2-4e67-9267-9ebb9166e2b4",
   "metadata": {},
   "outputs": [
    {
     "data": {
      "text/html": [
       "<div>\n",
       "<style scoped>\n",
       "    .dataframe tbody tr th:only-of-type {\n",
       "        vertical-align: middle;\n",
       "    }\n",
       "\n",
       "    .dataframe tbody tr th {\n",
       "        vertical-align: top;\n",
       "    }\n",
       "\n",
       "    .dataframe thead th {\n",
       "        text-align: right;\n",
       "    }\n",
       "</style>\n",
       "<table border=\"1\" class=\"dataframe\">\n",
       "  <thead>\n",
       "    <tr style=\"text-align: right;\">\n",
       "      <th></th>\n",
       "      <th>Name</th>\n",
       "      <th>Column</th>\n",
       "      <th>Color</th>\n",
       "      <th>Time spent</th>\n",
       "      <th>DurationInSeconds</th>\n",
       "      <th>EstimateInSeconds</th>\n",
       "      <th>EstimationErrorInSeconds</th>\n",
       "      <th>DurationInHours</th>\n",
       "      <th>DurationAsHour</th>\n",
       "      <th>EstimationErrorInHours</th>\n",
       "    </tr>\n",
       "  </thead>\n",
       "  <tbody>\n",
       "    <tr>\n",
       "      <th>1022</th>\n",
       "      <td>IT-Service: Ticketsystem einrichten 28.12.2020...</td>\n",
       "      <td>12.202</td>\n",
       "      <td>White</td>\n",
       "      <td>0.575</td>\n",
       "      <td>2070.0</td>\n",
       "      <td>2431.655303</td>\n",
       "      <td>361.655303</td>\n",
       "      <td>0.575</td>\n",
       "      <td>1.0</td>\n",
       "      <td>0.10046</td>\n",
       "    </tr>\n",
       "  </tbody>\n",
       "</table>\n",
       "</div>"
      ],
      "text/plain": [
       "                                                   Name  Column  Color  \\\n",
       "1022  IT-Service: Ticketsystem einrichten 28.12.2020...  12.202  White   \n",
       "\n",
       "      Time spent  DurationInSeconds  EstimateInSeconds  \\\n",
       "1022       0.575             2070.0        2431.655303   \n",
       "\n",
       "      EstimationErrorInSeconds  DurationInHours  DurationAsHour  \\\n",
       "1022                361.655303            0.575             1.0   \n",
       "\n",
       "      EstimationErrorInHours  \n",
       "1022                 0.10046  "
      ]
     },
     "execution_count": 118,
     "metadata": {},
     "output_type": "execute_result"
    }
   ],
   "source": [
    "df = pd.read_csv(\"./output/A004_SWE-Archiv-2020_SWE-Archiv-2020_.csv\")\n",
    "df['EstimationErrorInSeconds'] = df.apply (lambda row: row[\"EstimateInSeconds\"] - row[\"DurationInSeconds\"], axis=1)\n",
    "df['DurationInHours'] = df.apply (lambda row: row[\"DurationInSeconds\"]/60/60, axis=1)\n",
    "df['DurationAsHour'] = df.apply (lambda row: round(row[\"DurationInSeconds\"]/60/60,0), axis=1)\n",
    "df['EstimationErrorInHours'] = df.apply (lambda row: (row[\"EstimateInSeconds\"] - row[\"DurationInSeconds\"])/60/60, axis=1)\n",
    "df.tail(1)\n"
   ]
  },
  {
   "cell_type": "code",
   "execution_count": 119,
   "id": "638bbced-4e20-4292-9006-0871ee2b5502",
   "metadata": {},
   "outputs": [
    {
     "data": {
      "text/html": [
       "<div>\n",
       "<style scoped>\n",
       "    .dataframe tbody tr th:only-of-type {\n",
       "        vertical-align: middle;\n",
       "    }\n",
       "\n",
       "    .dataframe tbody tr th {\n",
       "        vertical-align: top;\n",
       "    }\n",
       "\n",
       "    .dataframe thead th {\n",
       "        text-align: right;\n",
       "    }\n",
       "</style>\n",
       "<table border=\"1\" class=\"dataframe\">\n",
       "  <thead>\n",
       "    <tr style=\"text-align: right;\">\n",
       "      <th></th>\n",
       "      <th>task_duration_in_about_hours</th>\n",
       "      <th>taskCount</th>\n",
       "      <th>mean</th>\n",
       "      <th>standard_deviation</th>\n",
       "      <th>standard_deviation_minus</th>\n",
       "      <th>standard_deviation_plus</th>\n",
       "    </tr>\n",
       "  </thead>\n",
       "  <tbody>\n",
       "    <tr>\n",
       "      <th>0</th>\n",
       "      <td>0</td>\n",
       "      <td>592</td>\n",
       "      <td>0.946915</td>\n",
       "      <td>1.448336</td>\n",
       "      <td>-0.501421</td>\n",
       "      <td>2.395251</td>\n",
       "    </tr>\n",
       "    <tr>\n",
       "      <th>1</th>\n",
       "      <td>1</td>\n",
       "      <td>241</td>\n",
       "      <td>0.564019</td>\n",
       "      <td>1.264006</td>\n",
       "      <td>-0.699986</td>\n",
       "      <td>1.828025</td>\n",
       "    </tr>\n",
       "    <tr>\n",
       "      <th>2</th>\n",
       "      <td>2</td>\n",
       "      <td>64</td>\n",
       "      <td>0.451647</td>\n",
       "      <td>1.398671</td>\n",
       "      <td>-0.947025</td>\n",
       "      <td>1.850318</td>\n",
       "    </tr>\n",
       "    <tr>\n",
       "      <th>3</th>\n",
       "      <td>3</td>\n",
       "      <td>39</td>\n",
       "      <td>-0.296576</td>\n",
       "      <td>1.341479</td>\n",
       "      <td>-1.638054</td>\n",
       "      <td>1.044903</td>\n",
       "    </tr>\n",
       "    <tr>\n",
       "      <th>4</th>\n",
       "      <td>4</td>\n",
       "      <td>21</td>\n",
       "      <td>-0.656669</td>\n",
       "      <td>2.414340</td>\n",
       "      <td>-3.071008</td>\n",
       "      <td>1.757671</td>\n",
       "    </tr>\n",
       "    <tr>\n",
       "      <th>5</th>\n",
       "      <td>5</td>\n",
       "      <td>12</td>\n",
       "      <td>-0.675948</td>\n",
       "      <td>1.556078</td>\n",
       "      <td>-2.232025</td>\n",
       "      <td>0.880130</td>\n",
       "    </tr>\n",
       "    <tr>\n",
       "      <th>6</th>\n",
       "      <td>6</td>\n",
       "      <td>11</td>\n",
       "      <td>-2.572081</td>\n",
       "      <td>0.824439</td>\n",
       "      <td>-3.396520</td>\n",
       "      <td>-1.747642</td>\n",
       "    </tr>\n",
       "    <tr>\n",
       "      <th>7</th>\n",
       "      <td>7</td>\n",
       "      <td>5</td>\n",
       "      <td>-2.037891</td>\n",
       "      <td>1.587846</td>\n",
       "      <td>-3.625737</td>\n",
       "      <td>-0.450045</td>\n",
       "    </tr>\n",
       "    <tr>\n",
       "      <th>8</th>\n",
       "      <td>8</td>\n",
       "      <td>5</td>\n",
       "      <td>0.557462</td>\n",
       "      <td>4.157188</td>\n",
       "      <td>-3.599726</td>\n",
       "      <td>4.714650</td>\n",
       "    </tr>\n",
       "    <tr>\n",
       "      <th>9</th>\n",
       "      <td>9</td>\n",
       "      <td>2</td>\n",
       "      <td>-4.615215</td>\n",
       "      <td>0.355145</td>\n",
       "      <td>-4.970360</td>\n",
       "      <td>-4.260071</td>\n",
       "    </tr>\n",
       "    <tr>\n",
       "      <th>10</th>\n",
       "      <td>10</td>\n",
       "      <td>3</td>\n",
       "      <td>-6.716595</td>\n",
       "      <td>0.828371</td>\n",
       "      <td>-7.544966</td>\n",
       "      <td>-5.888224</td>\n",
       "    </tr>\n",
       "    <tr>\n",
       "      <th>11</th>\n",
       "      <td>11</td>\n",
       "      <td>1</td>\n",
       "      <td>-0.759388</td>\n",
       "      <td>NaN</td>\n",
       "      <td>NaN</td>\n",
       "      <td>NaN</td>\n",
       "    </tr>\n",
       "    <tr>\n",
       "      <th>12</th>\n",
       "      <td>12</td>\n",
       "      <td>1</td>\n",
       "      <td>-6.882400</td>\n",
       "      <td>NaN</td>\n",
       "      <td>NaN</td>\n",
       "      <td>NaN</td>\n",
       "    </tr>\n",
       "    <tr>\n",
       "      <th>13</th>\n",
       "      <td>13</td>\n",
       "      <td>3</td>\n",
       "      <td>-3.560242</td>\n",
       "      <td>3.177777</td>\n",
       "      <td>-6.738019</td>\n",
       "      <td>-0.382464</td>\n",
       "    </tr>\n",
       "    <tr>\n",
       "      <th>14</th>\n",
       "      <td>14</td>\n",
       "      <td>0</td>\n",
       "      <td>NaN</td>\n",
       "      <td>NaN</td>\n",
       "      <td>NaN</td>\n",
       "      <td>NaN</td>\n",
       "    </tr>\n",
       "    <tr>\n",
       "      <th>15</th>\n",
       "      <td>15</td>\n",
       "      <td>1</td>\n",
       "      <td>-8.577949</td>\n",
       "      <td>NaN</td>\n",
       "      <td>NaN</td>\n",
       "      <td>NaN</td>\n",
       "    </tr>\n",
       "    <tr>\n",
       "      <th>16</th>\n",
       "      <td>16</td>\n",
       "      <td>1</td>\n",
       "      <td>-9.488537</td>\n",
       "      <td>NaN</td>\n",
       "      <td>NaN</td>\n",
       "      <td>NaN</td>\n",
       "    </tr>\n",
       "    <tr>\n",
       "      <th>17</th>\n",
       "      <td>17</td>\n",
       "      <td>1</td>\n",
       "      <td>-7.948534</td>\n",
       "      <td>NaN</td>\n",
       "      <td>NaN</td>\n",
       "      <td>NaN</td>\n",
       "    </tr>\n",
       "    <tr>\n",
       "      <th>18</th>\n",
       "      <td>18</td>\n",
       "      <td>4</td>\n",
       "      <td>-9.121418</td>\n",
       "      <td>3.783514</td>\n",
       "      <td>-12.904932</td>\n",
       "      <td>-5.337904</td>\n",
       "    </tr>\n",
       "    <tr>\n",
       "      <th>19</th>\n",
       "      <td>19</td>\n",
       "      <td>1</td>\n",
       "      <td>-13.863623</td>\n",
       "      <td>NaN</td>\n",
       "      <td>NaN</td>\n",
       "      <td>NaN</td>\n",
       "    </tr>\n",
       "    <tr>\n",
       "      <th>20</th>\n",
       "      <td>20</td>\n",
       "      <td>2</td>\n",
       "      <td>-9.761647</td>\n",
       "      <td>5.296825</td>\n",
       "      <td>-15.058472</td>\n",
       "      <td>-4.464822</td>\n",
       "    </tr>\n",
       "    <tr>\n",
       "      <th>21</th>\n",
       "      <td>21</td>\n",
       "      <td>1</td>\n",
       "      <td>-9.984412</td>\n",
       "      <td>NaN</td>\n",
       "      <td>NaN</td>\n",
       "      <td>NaN</td>\n",
       "    </tr>\n",
       "    <tr>\n",
       "      <th>22</th>\n",
       "      <td>22</td>\n",
       "      <td>0</td>\n",
       "      <td>NaN</td>\n",
       "      <td>NaN</td>\n",
       "      <td>NaN</td>\n",
       "      <td>NaN</td>\n",
       "    </tr>\n",
       "    <tr>\n",
       "      <th>23</th>\n",
       "      <td>23</td>\n",
       "      <td>0</td>\n",
       "      <td>NaN</td>\n",
       "      <td>NaN</td>\n",
       "      <td>NaN</td>\n",
       "      <td>NaN</td>\n",
       "    </tr>\n",
       "    <tr>\n",
       "      <th>24</th>\n",
       "      <td>24</td>\n",
       "      <td>0</td>\n",
       "      <td>NaN</td>\n",
       "      <td>NaN</td>\n",
       "      <td>NaN</td>\n",
       "      <td>NaN</td>\n",
       "    </tr>\n",
       "    <tr>\n",
       "      <th>25</th>\n",
       "      <td>25</td>\n",
       "      <td>0</td>\n",
       "      <td>NaN</td>\n",
       "      <td>NaN</td>\n",
       "      <td>NaN</td>\n",
       "      <td>NaN</td>\n",
       "    </tr>\n",
       "    <tr>\n",
       "      <th>26</th>\n",
       "      <td>26</td>\n",
       "      <td>0</td>\n",
       "      <td>NaN</td>\n",
       "      <td>NaN</td>\n",
       "      <td>NaN</td>\n",
       "      <td>NaN</td>\n",
       "    </tr>\n",
       "    <tr>\n",
       "      <th>27</th>\n",
       "      <td>27</td>\n",
       "      <td>0</td>\n",
       "      <td>NaN</td>\n",
       "      <td>NaN</td>\n",
       "      <td>NaN</td>\n",
       "      <td>NaN</td>\n",
       "    </tr>\n",
       "    <tr>\n",
       "      <th>28</th>\n",
       "      <td>28</td>\n",
       "      <td>1</td>\n",
       "      <td>-8.551635</td>\n",
       "      <td>NaN</td>\n",
       "      <td>NaN</td>\n",
       "      <td>NaN</td>\n",
       "    </tr>\n",
       "    <tr>\n",
       "      <th>29</th>\n",
       "      <td>29</td>\n",
       "      <td>1</td>\n",
       "      <td>-13.522675</td>\n",
       "      <td>NaN</td>\n",
       "      <td>NaN</td>\n",
       "      <td>NaN</td>\n",
       "    </tr>\n",
       "    <tr>\n",
       "      <th>30</th>\n",
       "      <td>30</td>\n",
       "      <td>0</td>\n",
       "      <td>NaN</td>\n",
       "      <td>NaN</td>\n",
       "      <td>NaN</td>\n",
       "      <td>NaN</td>\n",
       "    </tr>\n",
       "    <tr>\n",
       "      <th>31</th>\n",
       "      <td>31</td>\n",
       "      <td>0</td>\n",
       "      <td>NaN</td>\n",
       "      <td>NaN</td>\n",
       "      <td>NaN</td>\n",
       "      <td>NaN</td>\n",
       "    </tr>\n",
       "    <tr>\n",
       "      <th>32</th>\n",
       "      <td>32</td>\n",
       "      <td>0</td>\n",
       "      <td>NaN</td>\n",
       "      <td>NaN</td>\n",
       "      <td>NaN</td>\n",
       "      <td>NaN</td>\n",
       "    </tr>\n",
       "    <tr>\n",
       "      <th>33</th>\n",
       "      <td>33</td>\n",
       "      <td>1</td>\n",
       "      <td>-24.780757</td>\n",
       "      <td>NaN</td>\n",
       "      <td>NaN</td>\n",
       "      <td>NaN</td>\n",
       "    </tr>\n",
       "    <tr>\n",
       "      <th>34</th>\n",
       "      <td>34</td>\n",
       "      <td>1</td>\n",
       "      <td>-28.894542</td>\n",
       "      <td>NaN</td>\n",
       "      <td>NaN</td>\n",
       "      <td>NaN</td>\n",
       "    </tr>\n",
       "    <tr>\n",
       "      <th>35</th>\n",
       "      <td>35</td>\n",
       "      <td>0</td>\n",
       "      <td>NaN</td>\n",
       "      <td>NaN</td>\n",
       "      <td>NaN</td>\n",
       "      <td>NaN</td>\n",
       "    </tr>\n",
       "    <tr>\n",
       "      <th>36</th>\n",
       "      <td>36</td>\n",
       "      <td>0</td>\n",
       "      <td>NaN</td>\n",
       "      <td>NaN</td>\n",
       "      <td>NaN</td>\n",
       "      <td>NaN</td>\n",
       "    </tr>\n",
       "    <tr>\n",
       "      <th>37</th>\n",
       "      <td>37</td>\n",
       "      <td>1</td>\n",
       "      <td>-17.004177</td>\n",
       "      <td>NaN</td>\n",
       "      <td>NaN</td>\n",
       "      <td>NaN</td>\n",
       "    </tr>\n",
       "    <tr>\n",
       "      <th>38</th>\n",
       "      <td>38</td>\n",
       "      <td>0</td>\n",
       "      <td>NaN</td>\n",
       "      <td>NaN</td>\n",
       "      <td>NaN</td>\n",
       "      <td>NaN</td>\n",
       "    </tr>\n",
       "    <tr>\n",
       "      <th>39</th>\n",
       "      <td>39</td>\n",
       "      <td>0</td>\n",
       "      <td>NaN</td>\n",
       "      <td>NaN</td>\n",
       "      <td>NaN</td>\n",
       "      <td>NaN</td>\n",
       "    </tr>\n",
       "  </tbody>\n",
       "</table>\n",
       "</div>"
      ],
      "text/plain": [
       "    task_duration_in_about_hours  taskCount       mean  standard_deviation  \\\n",
       "0                              0        592   0.946915            1.448336   \n",
       "1                              1        241   0.564019            1.264006   \n",
       "2                              2         64   0.451647            1.398671   \n",
       "3                              3         39  -0.296576            1.341479   \n",
       "4                              4         21  -0.656669            2.414340   \n",
       "5                              5         12  -0.675948            1.556078   \n",
       "6                              6         11  -2.572081            0.824439   \n",
       "7                              7          5  -2.037891            1.587846   \n",
       "8                              8          5   0.557462            4.157188   \n",
       "9                              9          2  -4.615215            0.355145   \n",
       "10                            10          3  -6.716595            0.828371   \n",
       "11                            11          1  -0.759388                 NaN   \n",
       "12                            12          1  -6.882400                 NaN   \n",
       "13                            13          3  -3.560242            3.177777   \n",
       "14                            14          0        NaN                 NaN   \n",
       "15                            15          1  -8.577949                 NaN   \n",
       "16                            16          1  -9.488537                 NaN   \n",
       "17                            17          1  -7.948534                 NaN   \n",
       "18                            18          4  -9.121418            3.783514   \n",
       "19                            19          1 -13.863623                 NaN   \n",
       "20                            20          2  -9.761647            5.296825   \n",
       "21                            21          1  -9.984412                 NaN   \n",
       "22                            22          0        NaN                 NaN   \n",
       "23                            23          0        NaN                 NaN   \n",
       "24                            24          0        NaN                 NaN   \n",
       "25                            25          0        NaN                 NaN   \n",
       "26                            26          0        NaN                 NaN   \n",
       "27                            27          0        NaN                 NaN   \n",
       "28                            28          1  -8.551635                 NaN   \n",
       "29                            29          1 -13.522675                 NaN   \n",
       "30                            30          0        NaN                 NaN   \n",
       "31                            31          0        NaN                 NaN   \n",
       "32                            32          0        NaN                 NaN   \n",
       "33                            33          1 -24.780757                 NaN   \n",
       "34                            34          1 -28.894542                 NaN   \n",
       "35                            35          0        NaN                 NaN   \n",
       "36                            36          0        NaN                 NaN   \n",
       "37                            37          1 -17.004177                 NaN   \n",
       "38                            38          0        NaN                 NaN   \n",
       "39                            39          0        NaN                 NaN   \n",
       "\n",
       "    standard_deviation_minus  standard_deviation_plus  \n",
       "0                  -0.501421                 2.395251  \n",
       "1                  -0.699986                 1.828025  \n",
       "2                  -0.947025                 1.850318  \n",
       "3                  -1.638054                 1.044903  \n",
       "4                  -3.071008                 1.757671  \n",
       "5                  -2.232025                 0.880130  \n",
       "6                  -3.396520                -1.747642  \n",
       "7                  -3.625737                -0.450045  \n",
       "8                  -3.599726                 4.714650  \n",
       "9                  -4.970360                -4.260071  \n",
       "10                 -7.544966                -5.888224  \n",
       "11                       NaN                      NaN  \n",
       "12                       NaN                      NaN  \n",
       "13                 -6.738019                -0.382464  \n",
       "14                       NaN                      NaN  \n",
       "15                       NaN                      NaN  \n",
       "16                       NaN                      NaN  \n",
       "17                       NaN                      NaN  \n",
       "18                -12.904932                -5.337904  \n",
       "19                       NaN                      NaN  \n",
       "20                -15.058472                -4.464822  \n",
       "21                       NaN                      NaN  \n",
       "22                       NaN                      NaN  \n",
       "23                       NaN                      NaN  \n",
       "24                       NaN                      NaN  \n",
       "25                       NaN                      NaN  \n",
       "26                       NaN                      NaN  \n",
       "27                       NaN                      NaN  \n",
       "28                       NaN                      NaN  \n",
       "29                       NaN                      NaN  \n",
       "30                       NaN                      NaN  \n",
       "31                       NaN                      NaN  \n",
       "32                       NaN                      NaN  \n",
       "33                       NaN                      NaN  \n",
       "34                       NaN                      NaN  \n",
       "35                       NaN                      NaN  \n",
       "36                       NaN                      NaN  \n",
       "37                       NaN                      NaN  \n",
       "38                       NaN                      NaN  \n",
       "39                       NaN                      NaN  "
      ]
     },
     "execution_count": 119,
     "metadata": {},
     "output_type": "execute_result"
    }
   ],
   "source": [
    "result = list()\n",
    "\n",
    "for i in range(0,40):\n",
    "    taskCount=len(df[df[\"DurationAsHour\"]==i])\n",
    "    mean = df[df[\"DurationAsHour\"]==i][\"EstimationErrorInHours\"].mean()\n",
    "    standard_deviation = df[df[\"DurationAsHour\"]==i][\"EstimationErrorInHours\"].std()\n",
    "    standard_deviation_minus = mean - standard_deviation\n",
    "    standard_deviation_plus = mean + standard_deviation\n",
    "    result.append(dict (\n",
    "        task_duration_in_about_hours = i,\n",
    "        taskCount = taskCount,\n",
    "        mean = mean,\n",
    "        standard_deviation = standard_deviation,\n",
    "        standard_deviation_minus = standard_deviation_minus,\n",
    "        standard_deviation_plus = standard_deviation_plus\n",
    "    ))\n",
    "\n",
    "error_distribution = pd.DataFrame(result)\n",
    "error_distribution"
   ]
  },
  {
   "cell_type": "code",
   "execution_count": 120,
   "id": "1bd0380b-8f1a-4e45-9e7b-7b7b544cf9c6",
   "metadata": {},
   "outputs": [
    {
     "data": {
      "application/vnd.plotly.v1+json": {
       "config": {
        "plotlyServerURL": "https://plot.ly"
       },
       "data": [
        {
         "mode": "lines",
         "name": "mean error",
         "type": "scatter",
         "x": [
          0,
          1,
          2,
          3,
          4,
          5,
          6,
          7,
          8,
          9,
          10,
          11,
          12,
          13,
          14,
          15,
          16,
          17,
          18,
          19,
          20,
          21,
          22,
          23,
          24,
          25,
          26,
          27,
          28,
          29,
          30,
          31,
          32,
          33,
          34,
          35,
          36,
          37,
          38,
          39
         ],
         "y": [
          0.9469149773029123,
          0.5640194428695775,
          0.45164659029143694,
          -0.29657566190750917,
          -0.6566685508471864,
          -0.6759477393377846,
          -2.5720811322660997,
          -2.0378906799146224,
          0.5574617687640657,
          -4.6152153042259645,
          -6.716595001252376,
          -0.7593879465057761,
          -6.882399716354525,
          -3.5602416443150724,
          null,
          -8.577948703213641,
          -9.488537224205167,
          -7.948534096626358,
          -9.121417608389454,
          -13.863622651810857,
          -9.761647102965094,
          -9.984412231971987,
          null,
          null,
          null,
          null,
          null,
          null,
          -8.551634963706823,
          -13.522674772713241,
          null,
          null,
          null,
          -24.78075650064968,
          -28.89454191020177,
          null,
          null,
          -17.004177045177045,
          null,
          null
         ]
        },
        {
         "mode": "lines",
         "name": "+",
         "type": "scatter",
         "x": [
          0,
          1,
          2,
          3,
          4,
          5,
          6,
          7,
          8,
          9,
          10,
          11,
          12,
          13,
          14,
          15,
          16,
          17,
          18,
          19,
          20,
          21,
          22,
          23,
          24,
          25,
          26,
          27,
          28,
          29,
          30,
          31,
          32,
          33,
          34,
          35,
          36,
          37,
          38,
          39
         ],
         "y": [
          2.3952507933842035,
          1.8280252516431272,
          1.850317969152826,
          1.0449029586966954,
          1.7576710660658432,
          0.8801298691402777,
          -1.7476417861084026,
          -0.4500447671662293,
          4.714649567347409,
          -4.260070633404248,
          -5.888223652506539,
          null,
          null,
          -0.38246446494048225,
          null,
          null,
          null,
          null,
          -5.337903694544401,
          null,
          -4.464821803696244,
          null,
          null,
          null,
          null,
          null,
          null,
          null,
          null,
          null,
          null,
          null,
          null,
          null,
          null,
          null,
          null,
          null,
          null,
          null
         ]
        },
        {
         "mode": "lines",
         "name": "-",
         "type": "scatter",
         "x": [
          0,
          1,
          2,
          3,
          4,
          5,
          6,
          7,
          8,
          9,
          10,
          11,
          12,
          13,
          14,
          15,
          16,
          17,
          18,
          19,
          20,
          21,
          22,
          23,
          24,
          25,
          26,
          27,
          28,
          29,
          30,
          31,
          32,
          33,
          34,
          35,
          36,
          37,
          38,
          39
         ],
         "y": [
          -0.5014208387783788,
          -0.6999863659039722,
          -0.947024788569952,
          -1.6380542825117135,
          -3.071008167760216,
          -2.232025347815847,
          -3.396520478423797,
          -3.6257365926630154,
          -3.5997260298192773,
          -4.970359975047681,
          -7.544966349998213,
          null,
          null,
          -6.7380188236896625,
          null,
          null,
          null,
          null,
          -12.904931522234506,
          null,
          -15.058472402233944,
          null,
          null,
          null,
          null,
          null,
          null,
          null,
          null,
          null,
          null,
          null,
          null,
          null,
          null,
          null,
          null,
          null,
          null,
          null
         ]
        }
       ],
       "layout": {
        "autosize": true,
        "template": {
         "data": {
          "bar": [
           {
            "error_x": {
             "color": "#2a3f5f"
            },
            "error_y": {
             "color": "#2a3f5f"
            },
            "marker": {
             "line": {
              "color": "#E5ECF6",
              "width": 0.5
             },
             "pattern": {
              "fillmode": "overlay",
              "size": 10,
              "solidity": 0.2
             }
            },
            "type": "bar"
           }
          ],
          "barpolar": [
           {
            "marker": {
             "line": {
              "color": "#E5ECF6",
              "width": 0.5
             },
             "pattern": {
              "fillmode": "overlay",
              "size": 10,
              "solidity": 0.2
             }
            },
            "type": "barpolar"
           }
          ],
          "carpet": [
           {
            "aaxis": {
             "endlinecolor": "#2a3f5f",
             "gridcolor": "white",
             "linecolor": "white",
             "minorgridcolor": "white",
             "startlinecolor": "#2a3f5f"
            },
            "baxis": {
             "endlinecolor": "#2a3f5f",
             "gridcolor": "white",
             "linecolor": "white",
             "minorgridcolor": "white",
             "startlinecolor": "#2a3f5f"
            },
            "type": "carpet"
           }
          ],
          "choropleth": [
           {
            "colorbar": {
             "outlinewidth": 0,
             "ticks": ""
            },
            "type": "choropleth"
           }
          ],
          "contour": [
           {
            "colorbar": {
             "outlinewidth": 0,
             "ticks": ""
            },
            "colorscale": [
             [
              0,
              "#0d0887"
             ],
             [
              0.1111111111111111,
              "#46039f"
             ],
             [
              0.2222222222222222,
              "#7201a8"
             ],
             [
              0.3333333333333333,
              "#9c179e"
             ],
             [
              0.4444444444444444,
              "#bd3786"
             ],
             [
              0.5555555555555556,
              "#d8576b"
             ],
             [
              0.6666666666666666,
              "#ed7953"
             ],
             [
              0.7777777777777778,
              "#fb9f3a"
             ],
             [
              0.8888888888888888,
              "#fdca26"
             ],
             [
              1,
              "#f0f921"
             ]
            ],
            "type": "contour"
           }
          ],
          "contourcarpet": [
           {
            "colorbar": {
             "outlinewidth": 0,
             "ticks": ""
            },
            "type": "contourcarpet"
           }
          ],
          "heatmap": [
           {
            "colorbar": {
             "outlinewidth": 0,
             "ticks": ""
            },
            "colorscale": [
             [
              0,
              "#0d0887"
             ],
             [
              0.1111111111111111,
              "#46039f"
             ],
             [
              0.2222222222222222,
              "#7201a8"
             ],
             [
              0.3333333333333333,
              "#9c179e"
             ],
             [
              0.4444444444444444,
              "#bd3786"
             ],
             [
              0.5555555555555556,
              "#d8576b"
             ],
             [
              0.6666666666666666,
              "#ed7953"
             ],
             [
              0.7777777777777778,
              "#fb9f3a"
             ],
             [
              0.8888888888888888,
              "#fdca26"
             ],
             [
              1,
              "#f0f921"
             ]
            ],
            "type": "heatmap"
           }
          ],
          "heatmapgl": [
           {
            "colorbar": {
             "outlinewidth": 0,
             "ticks": ""
            },
            "colorscale": [
             [
              0,
              "#0d0887"
             ],
             [
              0.1111111111111111,
              "#46039f"
             ],
             [
              0.2222222222222222,
              "#7201a8"
             ],
             [
              0.3333333333333333,
              "#9c179e"
             ],
             [
              0.4444444444444444,
              "#bd3786"
             ],
             [
              0.5555555555555556,
              "#d8576b"
             ],
             [
              0.6666666666666666,
              "#ed7953"
             ],
             [
              0.7777777777777778,
              "#fb9f3a"
             ],
             [
              0.8888888888888888,
              "#fdca26"
             ],
             [
              1,
              "#f0f921"
             ]
            ],
            "type": "heatmapgl"
           }
          ],
          "histogram": [
           {
            "marker": {
             "pattern": {
              "fillmode": "overlay",
              "size": 10,
              "solidity": 0.2
             }
            },
            "type": "histogram"
           }
          ],
          "histogram2d": [
           {
            "colorbar": {
             "outlinewidth": 0,
             "ticks": ""
            },
            "colorscale": [
             [
              0,
              "#0d0887"
             ],
             [
              0.1111111111111111,
              "#46039f"
             ],
             [
              0.2222222222222222,
              "#7201a8"
             ],
             [
              0.3333333333333333,
              "#9c179e"
             ],
             [
              0.4444444444444444,
              "#bd3786"
             ],
             [
              0.5555555555555556,
              "#d8576b"
             ],
             [
              0.6666666666666666,
              "#ed7953"
             ],
             [
              0.7777777777777778,
              "#fb9f3a"
             ],
             [
              0.8888888888888888,
              "#fdca26"
             ],
             [
              1,
              "#f0f921"
             ]
            ],
            "type": "histogram2d"
           }
          ],
          "histogram2dcontour": [
           {
            "colorbar": {
             "outlinewidth": 0,
             "ticks": ""
            },
            "colorscale": [
             [
              0,
              "#0d0887"
             ],
             [
              0.1111111111111111,
              "#46039f"
             ],
             [
              0.2222222222222222,
              "#7201a8"
             ],
             [
              0.3333333333333333,
              "#9c179e"
             ],
             [
              0.4444444444444444,
              "#bd3786"
             ],
             [
              0.5555555555555556,
              "#d8576b"
             ],
             [
              0.6666666666666666,
              "#ed7953"
             ],
             [
              0.7777777777777778,
              "#fb9f3a"
             ],
             [
              0.8888888888888888,
              "#fdca26"
             ],
             [
              1,
              "#f0f921"
             ]
            ],
            "type": "histogram2dcontour"
           }
          ],
          "mesh3d": [
           {
            "colorbar": {
             "outlinewidth": 0,
             "ticks": ""
            },
            "type": "mesh3d"
           }
          ],
          "parcoords": [
           {
            "line": {
             "colorbar": {
              "outlinewidth": 0,
              "ticks": ""
             }
            },
            "type": "parcoords"
           }
          ],
          "pie": [
           {
            "automargin": true,
            "type": "pie"
           }
          ],
          "scatter": [
           {
            "marker": {
             "colorbar": {
              "outlinewidth": 0,
              "ticks": ""
             }
            },
            "type": "scatter"
           }
          ],
          "scatter3d": [
           {
            "line": {
             "colorbar": {
              "outlinewidth": 0,
              "ticks": ""
             }
            },
            "marker": {
             "colorbar": {
              "outlinewidth": 0,
              "ticks": ""
             }
            },
            "type": "scatter3d"
           }
          ],
          "scattercarpet": [
           {
            "marker": {
             "colorbar": {
              "outlinewidth": 0,
              "ticks": ""
             }
            },
            "type": "scattercarpet"
           }
          ],
          "scattergeo": [
           {
            "marker": {
             "colorbar": {
              "outlinewidth": 0,
              "ticks": ""
             }
            },
            "type": "scattergeo"
           }
          ],
          "scattergl": [
           {
            "marker": {
             "colorbar": {
              "outlinewidth": 0,
              "ticks": ""
             }
            },
            "type": "scattergl"
           }
          ],
          "scattermapbox": [
           {
            "marker": {
             "colorbar": {
              "outlinewidth": 0,
              "ticks": ""
             }
            },
            "type": "scattermapbox"
           }
          ],
          "scatterpolar": [
           {
            "marker": {
             "colorbar": {
              "outlinewidth": 0,
              "ticks": ""
             }
            },
            "type": "scatterpolar"
           }
          ],
          "scatterpolargl": [
           {
            "marker": {
             "colorbar": {
              "outlinewidth": 0,
              "ticks": ""
             }
            },
            "type": "scatterpolargl"
           }
          ],
          "scatterternary": [
           {
            "marker": {
             "colorbar": {
              "outlinewidth": 0,
              "ticks": ""
             }
            },
            "type": "scatterternary"
           }
          ],
          "surface": [
           {
            "colorbar": {
             "outlinewidth": 0,
             "ticks": ""
            },
            "colorscale": [
             [
              0,
              "#0d0887"
             ],
             [
              0.1111111111111111,
              "#46039f"
             ],
             [
              0.2222222222222222,
              "#7201a8"
             ],
             [
              0.3333333333333333,
              "#9c179e"
             ],
             [
              0.4444444444444444,
              "#bd3786"
             ],
             [
              0.5555555555555556,
              "#d8576b"
             ],
             [
              0.6666666666666666,
              "#ed7953"
             ],
             [
              0.7777777777777778,
              "#fb9f3a"
             ],
             [
              0.8888888888888888,
              "#fdca26"
             ],
             [
              1,
              "#f0f921"
             ]
            ],
            "type": "surface"
           }
          ],
          "table": [
           {
            "cells": {
             "fill": {
              "color": "#EBF0F8"
             },
             "line": {
              "color": "white"
             }
            },
            "header": {
             "fill": {
              "color": "#C8D4E3"
             },
             "line": {
              "color": "white"
             }
            },
            "type": "table"
           }
          ]
         },
         "layout": {
          "annotationdefaults": {
           "arrowcolor": "#2a3f5f",
           "arrowhead": 0,
           "arrowwidth": 1
          },
          "autotypenumbers": "strict",
          "coloraxis": {
           "colorbar": {
            "outlinewidth": 0,
            "ticks": ""
           }
          },
          "colorscale": {
           "diverging": [
            [
             0,
             "#8e0152"
            ],
            [
             0.1,
             "#c51b7d"
            ],
            [
             0.2,
             "#de77ae"
            ],
            [
             0.3,
             "#f1b6da"
            ],
            [
             0.4,
             "#fde0ef"
            ],
            [
             0.5,
             "#f7f7f7"
            ],
            [
             0.6,
             "#e6f5d0"
            ],
            [
             0.7,
             "#b8e186"
            ],
            [
             0.8,
             "#7fbc41"
            ],
            [
             0.9,
             "#4d9221"
            ],
            [
             1,
             "#276419"
            ]
           ],
           "sequential": [
            [
             0,
             "#0d0887"
            ],
            [
             0.1111111111111111,
             "#46039f"
            ],
            [
             0.2222222222222222,
             "#7201a8"
            ],
            [
             0.3333333333333333,
             "#9c179e"
            ],
            [
             0.4444444444444444,
             "#bd3786"
            ],
            [
             0.5555555555555556,
             "#d8576b"
            ],
            [
             0.6666666666666666,
             "#ed7953"
            ],
            [
             0.7777777777777778,
             "#fb9f3a"
            ],
            [
             0.8888888888888888,
             "#fdca26"
            ],
            [
             1,
             "#f0f921"
            ]
           ],
           "sequentialminus": [
            [
             0,
             "#0d0887"
            ],
            [
             0.1111111111111111,
             "#46039f"
            ],
            [
             0.2222222222222222,
             "#7201a8"
            ],
            [
             0.3333333333333333,
             "#9c179e"
            ],
            [
             0.4444444444444444,
             "#bd3786"
            ],
            [
             0.5555555555555556,
             "#d8576b"
            ],
            [
             0.6666666666666666,
             "#ed7953"
            ],
            [
             0.7777777777777778,
             "#fb9f3a"
            ],
            [
             0.8888888888888888,
             "#fdca26"
            ],
            [
             1,
             "#f0f921"
            ]
           ]
          },
          "colorway": [
           "#636efa",
           "#EF553B",
           "#00cc96",
           "#ab63fa",
           "#FFA15A",
           "#19d3f3",
           "#FF6692",
           "#B6E880",
           "#FF97FF",
           "#FECB52"
          ],
          "font": {
           "color": "#2a3f5f"
          },
          "geo": {
           "bgcolor": "white",
           "lakecolor": "white",
           "landcolor": "#E5ECF6",
           "showlakes": true,
           "showland": true,
           "subunitcolor": "white"
          },
          "hoverlabel": {
           "align": "left"
          },
          "hovermode": "closest",
          "mapbox": {
           "style": "light"
          },
          "paper_bgcolor": "white",
          "plot_bgcolor": "#E5ECF6",
          "polar": {
           "angularaxis": {
            "gridcolor": "white",
            "linecolor": "white",
            "ticks": ""
           },
           "bgcolor": "#E5ECF6",
           "radialaxis": {
            "gridcolor": "white",
            "linecolor": "white",
            "ticks": ""
           }
          },
          "scene": {
           "xaxis": {
            "backgroundcolor": "#E5ECF6",
            "gridcolor": "white",
            "gridwidth": 2,
            "linecolor": "white",
            "showbackground": true,
            "ticks": "",
            "zerolinecolor": "white"
           },
           "yaxis": {
            "backgroundcolor": "#E5ECF6",
            "gridcolor": "white",
            "gridwidth": 2,
            "linecolor": "white",
            "showbackground": true,
            "ticks": "",
            "zerolinecolor": "white"
           },
           "zaxis": {
            "backgroundcolor": "#E5ECF6",
            "gridcolor": "white",
            "gridwidth": 2,
            "linecolor": "white",
            "showbackground": true,
            "ticks": "",
            "zerolinecolor": "white"
           }
          },
          "shapedefaults": {
           "line": {
            "color": "#2a3f5f"
           }
          },
          "ternary": {
           "aaxis": {
            "gridcolor": "white",
            "linecolor": "white",
            "ticks": ""
           },
           "baxis": {
            "gridcolor": "white",
            "linecolor": "white",
            "ticks": ""
           },
           "bgcolor": "#E5ECF6",
           "caxis": {
            "gridcolor": "white",
            "linecolor": "white",
            "ticks": ""
           }
          },
          "title": {
           "x": 0.05
          },
          "xaxis": {
           "automargin": true,
           "gridcolor": "white",
           "linecolor": "white",
           "ticks": "",
           "title": {
            "standoff": 15
           },
           "zerolinecolor": "white",
           "zerolinewidth": 2
          },
          "yaxis": {
           "automargin": true,
           "gridcolor": "white",
           "linecolor": "white",
           "ticks": "",
           "title": {
            "standoff": 15
           },
           "zerolinecolor": "white",
           "zerolinewidth": 2
          }
         }
        },
        "xaxis": {
         "autorange": true,
         "range": [
          0,
          39
         ],
         "type": "linear"
        },
        "yaxis": {
         "range": [
          -1,
          40
         ],
         "type": "linear"
        }
       }
      },
      "image/png": "[encoded data removed]",
      "text/html": [
       "<div>                            <div id=\"f87ce945-eebe-4d35-b032-27aba277871b\" class=\"plotly-graph-div\" style=\"height:525px; width:100%;\"></div>            <script type=\"text/javascript\">                require([\"plotly\"], function(Plotly) {                    window.PLOTLYENV=window.PLOTLYENV || {};                                    if (document.getElementById(\"f87ce945-eebe-4d35-b032-27aba277871b\")) {                    Plotly.newPlot(                        \"f87ce945-eebe-4d35-b032-27aba277871b\",                        [{\"mode\":\"lines\",\"name\":\"mean error\",\"type\":\"scatter\",\"x\":[0,1,2,3,4,5,6,7,8,9,10,11,12,13,14,15,16,17,18,19,20,21,22,23,24,25,26,27,28,29,30,31,32,33,34,35,36,37,38,39],\"y\":[0.9469149773029123,0.5640194428695775,0.45164659029143694,-0.29657566190750917,-0.6566685508471864,-0.6759477393377846,-2.5720811322660997,-2.0378906799146224,0.5574617687640657,-4.6152153042259645,-6.716595001252376,-0.7593879465057761,-6.882399716354525,-3.5602416443150724,null,-8.577948703213641,-9.488537224205167,-7.948534096626358,-9.121417608389454,-13.863622651810857,-9.761647102965094,-9.984412231971987,null,null,null,null,null,null,-8.551634963706823,-13.522674772713241,null,null,null,-24.78075650064968,-28.89454191020177,null,null,-17.004177045177045,null,null]},{\"mode\":\"lines\",\"name\":\"+\",\"type\":\"scatter\",\"x\":[0,1,2,3,4,5,6,7,8,9,10,11,12,13,14,15,16,17,18,19,20,21,22,23,24,25,26,27,28,29,30,31,32,33,34,35,36,37,38,39],\"y\":[2.3952507933842035,1.8280252516431272,1.850317969152826,1.0449029586966954,1.7576710660658432,0.8801298691402777,-1.7476417861084026,-0.4500447671662293,4.714649567347409,-4.260070633404248,-5.888223652506539,null,null,-0.38246446494048225,null,null,null,null,-5.337903694544401,null,-4.464821803696244,null,null,null,null,null,null,null,null,null,null,null,null,null,null,null,null,null,null,null]},{\"mode\":\"lines\",\"name\":\"-\",\"type\":\"scatter\",\"x\":[0,1,2,3,4,5,6,7,8,9,10,11,12,13,14,15,16,17,18,19,20,21,22,23,24,25,26,27,28,29,30,31,32,33,34,35,36,37,38,39],\"y\":[-0.5014208387783788,-0.6999863659039722,-0.947024788569952,-1.6380542825117135,-3.071008167760216,-2.232025347815847,-3.396520478423797,-3.6257365926630154,-3.5997260298192773,-4.970359975047681,-7.544966349998213,null,null,-6.7380188236896625,null,null,null,null,-12.904931522234506,null,-15.058472402233944,null,null,null,null,null,null,null,null,null,null,null,null,null,null,null,null,null,null,null]}],                        {\"template\":{\"data\":{\"bar\":[{\"error_x\":{\"color\":\"#2a3f5f\"},\"error_y\":{\"color\":\"#2a3f5f\"},\"marker\":{\"line\":{\"color\":\"#E5ECF6\",\"width\":0.5},\"pattern\":{\"fillmode\":\"overlay\",\"size\":10,\"solidity\":0.2}},\"type\":\"bar\"}],\"barpolar\":[{\"marker\":{\"line\":{\"color\":\"#E5ECF6\",\"width\":0.5},\"pattern\":{\"fillmode\":\"overlay\",\"size\":10,\"solidity\":0.2}},\"type\":\"barpolar\"}],\"carpet\":[{\"aaxis\":{\"endlinecolor\":\"#2a3f5f\",\"gridcolor\":\"white\",\"linecolor\":\"white\",\"minorgridcolor\":\"white\",\"startlinecolor\":\"#2a3f5f\"},\"baxis\":{\"endlinecolor\":\"#2a3f5f\",\"gridcolor\":\"white\",\"linecolor\":\"white\",\"minorgridcolor\":\"white\",\"startlinecolor\":\"#2a3f5f\"},\"type\":\"carpet\"}],\"choropleth\":[{\"colorbar\":{\"outlinewidth\":0,\"ticks\":\"\"},\"type\":\"choropleth\"}],\"contour\":[{\"colorbar\":{\"outlinewidth\":0,\"ticks\":\"\"},\"colorscale\":[[0.0,\"#0d0887\"],[0.1111111111111111,\"#46039f\"],[0.2222222222222222,\"#7201a8\"],[0.3333333333333333,\"#9c179e\"],[0.4444444444444444,\"#bd3786\"],[0.5555555555555556,\"#d8576b\"],[0.6666666666666666,\"#ed7953\"],[0.7777777777777778,\"#fb9f3a\"],[0.8888888888888888,\"#fdca26\"],[1.0,\"#f0f921\"]],\"type\":\"contour\"}],\"contourcarpet\":[{\"colorbar\":{\"outlinewidth\":0,\"ticks\":\"\"},\"type\":\"contourcarpet\"}],\"heatmap\":[{\"colorbar\":{\"outlinewidth\":0,\"ticks\":\"\"},\"colorscale\":[[0.0,\"#0d0887\"],[0.1111111111111111,\"#46039f\"],[0.2222222222222222,\"#7201a8\"],[0.3333333333333333,\"#9c179e\"],[0.4444444444444444,\"#bd3786\"],[0.5555555555555556,\"#d8576b\"],[0.6666666666666666,\"#ed7953\"],[0.7777777777777778,\"#fb9f3a\"],[0.8888888888888888,\"#fdca26\"],[1.0,\"#f0f921\"]],\"type\":\"heatmap\"}],\"heatmapgl\":[{\"colorbar\":{\"outlinewidth\":0,\"ticks\":\"\"},\"colorscale\":[[0.0,\"#0d0887\"],[0.1111111111111111,\"#46039f\"],[0.2222222222222222,\"#7201a8\"],[0.3333333333333333,\"#9c179e\"],[0.4444444444444444,\"#bd3786\"],[0.5555555555555556,\"#d8576b\"],[0.6666666666666666,\"#ed7953\"],[0.7777777777777778,\"#fb9f3a\"],[0.8888888888888888,\"#fdca26\"],[1.0,\"#f0f921\"]],\"type\":\"heatmapgl\"}],\"histogram\":[{\"marker\":{\"pattern\":{\"fillmode\":\"overlay\",\"size\":10,\"solidity\":0.2}},\"type\":\"histogram\"}],\"histogram2d\":[{\"colorbar\":{\"outlinewidth\":0,\"ticks\":\"\"},\"colorscale\":[[0.0,\"#0d0887\"],[0.1111111111111111,\"#46039f\"],[0.2222222222222222,\"#7201a8\"],[0.3333333333333333,\"#9c179e\"],[0.4444444444444444,\"#bd3786\"],[0.5555555555555556,\"#d8576b\"],[0.6666666666666666,\"#ed7953\"],[0.7777777777777778,\"#fb9f3a\"],[0.8888888888888888,\"#fdca26\"],[1.0,\"#f0f921\"]],\"type\":\"histogram2d\"}],\"histogram2dcontour\":[{\"colorbar\":{\"outlinewidth\":0,\"ticks\":\"\"},\"colorscale\":[[0.0,\"#0d0887\"],[0.1111111111111111,\"#46039f\"],[0.2222222222222222,\"#7201a8\"],[0.3333333333333333,\"#9c179e\"],[0.4444444444444444,\"#bd3786\"],[0.5555555555555556,\"#d8576b\"],[0.6666666666666666,\"#ed7953\"],[0.7777777777777778,\"#fb9f3a\"],[0.8888888888888888,\"#fdca26\"],[1.0,\"#f0f921\"]],\"type\":\"histogram2dcontour\"}],\"mesh3d\":[{\"colorbar\":{\"outlinewidth\":0,\"ticks\":\"\"},\"type\":\"mesh3d\"}],\"parcoords\":[{\"line\":{\"colorbar\":{\"outlinewidth\":0,\"ticks\":\"\"}},\"type\":\"parcoords\"}],\"pie\":[{\"automargin\":true,\"type\":\"pie\"}],\"scatter\":[{\"marker\":{\"colorbar\":{\"outlinewidth\":0,\"ticks\":\"\"}},\"type\":\"scatter\"}],\"scatter3d\":[{\"line\":{\"colorbar\":{\"outlinewidth\":0,\"ticks\":\"\"}},\"marker\":{\"colorbar\":{\"outlinewidth\":0,\"ticks\":\"\"}},\"type\":\"scatter3d\"}],\"scattercarpet\":[{\"marker\":{\"colorbar\":{\"outlinewidth\":0,\"ticks\":\"\"}},\"type\":\"scattercarpet\"}],\"scattergeo\":[{\"marker\":{\"colorbar\":{\"outlinewidth\":0,\"ticks\":\"\"}},\"type\":\"scattergeo\"}],\"scattergl\":[{\"marker\":{\"colorbar\":{\"outlinewidth\":0,\"ticks\":\"\"}},\"type\":\"scattergl\"}],\"scattermapbox\":[{\"marker\":{\"colorbar\":{\"outlinewidth\":0,\"ticks\":\"\"}},\"type\":\"scattermapbox\"}],\"scatterpolar\":[{\"marker\":{\"colorbar\":{\"outlinewidth\":0,\"ticks\":\"\"}},\"type\":\"scatterpolar\"}],\"scatterpolargl\":[{\"marker\":{\"colorbar\":{\"outlinewidth\":0,\"ticks\":\"\"}},\"type\":\"scatterpolargl\"}],\"scatterternary\":[{\"marker\":{\"colorbar\":{\"outlinewidth\":0,\"ticks\":\"\"}},\"type\":\"scatterternary\"}],\"surface\":[{\"colorbar\":{\"outlinewidth\":0,\"ticks\":\"\"},\"colorscale\":[[0.0,\"#0d0887\"],[0.1111111111111111,\"#46039f\"],[0.2222222222222222,\"#7201a8\"],[0.3333333333333333,\"#9c179e\"],[0.4444444444444444,\"#bd3786\"],[0.5555555555555556,\"#d8576b\"],[0.6666666666666666,\"#ed7953\"],[0.7777777777777778,\"#fb9f3a\"],[0.8888888888888888,\"#fdca26\"],[1.0,\"#f0f921\"]],\"type\":\"surface\"}],\"table\":[{\"cells\":{\"fill\":{\"color\":\"#EBF0F8\"},\"line\":{\"color\":\"white\"}},\"header\":{\"fill\":{\"color\":\"#C8D4E3\"},\"line\":{\"color\":\"white\"}},\"type\":\"table\"}]},\"layout\":{\"annotationdefaults\":{\"arrowcolor\":\"#2a3f5f\",\"arrowhead\":0,\"arrowwidth\":1},\"autotypenumbers\":\"strict\",\"coloraxis\":{\"colorbar\":{\"outlinewidth\":0,\"ticks\":\"\"}},\"colorscale\":{\"diverging\":[[0,\"#8e0152\"],[0.1,\"#c51b7d\"],[0.2,\"#de77ae\"],[0.3,\"#f1b6da\"],[0.4,\"#fde0ef\"],[0.5,\"#f7f7f7\"],[0.6,\"#e6f5d0\"],[0.7,\"#b8e186\"],[0.8,\"#7fbc41\"],[0.9,\"#4d9221\"],[1,\"#276419\"]],\"sequential\":[[0.0,\"#0d0887\"],[0.1111111111111111,\"#46039f\"],[0.2222222222222222,\"#7201a8\"],[0.3333333333333333,\"#9c179e\"],[0.4444444444444444,\"#bd3786\"],[0.5555555555555556,\"#d8576b\"],[0.6666666666666666,\"#ed7953\"],[0.7777777777777778,\"#fb9f3a\"],[0.8888888888888888,\"#fdca26\"],[1.0,\"#f0f921\"]],\"sequentialminus\":[[0.0,\"#0d0887\"],[0.1111111111111111,\"#46039f\"],[0.2222222222222222,\"#7201a8\"],[0.3333333333333333,\"#9c179e\"],[0.4444444444444444,\"#bd3786\"],[0.5555555555555556,\"#d8576b\"],[0.6666666666666666,\"#ed7953\"],[0.7777777777777778,\"#fb9f3a\"],[0.8888888888888888,\"#fdca26\"],[1.0,\"#f0f921\"]]},\"colorway\":[\"#636efa\",\"#EF553B\",\"#00cc96\",\"#ab63fa\",\"#FFA15A\",\"#19d3f3\",\"#FF6692\",\"#B6E880\",\"#FF97FF\",\"#FECB52\"],\"font\":{\"color\":\"#2a3f5f\"},\"geo\":{\"bgcolor\":\"white\",\"lakecolor\":\"white\",\"landcolor\":\"#E5ECF6\",\"showlakes\":true,\"showland\":true,\"subunitcolor\":\"white\"},\"hoverlabel\":{\"align\":\"left\"},\"hovermode\":\"closest\",\"mapbox\":{\"style\":\"light\"},\"paper_bgcolor\":\"white\",\"plot_bgcolor\":\"#E5ECF6\",\"polar\":{\"angularaxis\":{\"gridcolor\":\"white\",\"linecolor\":\"white\",\"ticks\":\"\"},\"bgcolor\":\"#E5ECF6\",\"radialaxis\":{\"gridcolor\":\"white\",\"linecolor\":\"white\",\"ticks\":\"\"}},\"scene\":{\"xaxis\":{\"backgroundcolor\":\"#E5ECF6\",\"gridcolor\":\"white\",\"gridwidth\":2,\"linecolor\":\"white\",\"showbackground\":true,\"ticks\":\"\",\"zerolinecolor\":\"white\"},\"yaxis\":{\"backgroundcolor\":\"#E5ECF6\",\"gridcolor\":\"white\",\"gridwidth\":2,\"linecolor\":\"white\",\"showbackground\":true,\"ticks\":\"\",\"zerolinecolor\":\"white\"},\"zaxis\":{\"backgroundcolor\":\"#E5ECF6\",\"gridcolor\":\"white\",\"gridwidth\":2,\"linecolor\":\"white\",\"showbackground\":true,\"ticks\":\"\",\"zerolinecolor\":\"white\"}},\"shapedefaults\":{\"line\":{\"color\":\"#2a3f5f\"}},\"ternary\":{\"aaxis\":{\"gridcolor\":\"white\",\"linecolor\":\"white\",\"ticks\":\"\"},\"baxis\":{\"gridcolor\":\"white\",\"linecolor\":\"white\",\"ticks\":\"\"},\"bgcolor\":\"#E5ECF6\",\"caxis\":{\"gridcolor\":\"white\",\"linecolor\":\"white\",\"ticks\":\"\"}},\"title\":{\"x\":0.05},\"xaxis\":{\"automargin\":true,\"gridcolor\":\"white\",\"linecolor\":\"white\",\"ticks\":\"\",\"title\":{\"standoff\":15},\"zerolinecolor\":\"white\",\"zerolinewidth\":2},\"yaxis\":{\"automargin\":true,\"gridcolor\":\"white\",\"linecolor\":\"white\",\"ticks\":\"\",\"title\":{\"standoff\":15},\"zerolinecolor\":\"white\",\"zerolinewidth\":2}}},\"yaxis\":{\"range\":[-1,40]}},                        {\"responsive\": true}                    ).then(function(){\n",
       "                            \n",
       "var gd = document.getElementById('f87ce945-eebe-4d35-b032-27aba277871b');\n",
       "var x = new MutationObserver(function (mutations, observer) {{\n",
       "        var display = window.getComputedStyle(gd).display;\n",
       "        if (!display || display === 'none') {{\n",
       "            console.log([gd, 'removed!']);\n",
       "            Plotly.purge(gd);\n",
       "            observer.disconnect();\n",
       "        }}\n",
       "}});\n",
       "\n",
       "// Listen for the removal of the full notebook cells\n",
       "var notebookContainer = gd.closest('#notebook-container');\n",
       "if (notebookContainer) {{\n",
       "    x.observe(notebookContainer, {childList: true});\n",
       "}}\n",
       "\n",
       "// Listen for the clearing of the current output cell\n",
       "var outputEl = gd.closest('.output');\n",
       "if (outputEl) {{\n",
       "    x.observe(outputEl, {childList: true});\n",
       "}}\n",
       "\n",
       "                        })                };                });            </script>        </div>"
      ]
     },
     "metadata": {},
     "output_type": "display_data"
    }
   ],
   "source": [
    "fig = go.Figure()\n",
    "\n",
    "fig.add_trace(go.Scatter(x=error_distribution[\"task_duration_in_about_hours\"], y=error_distribution[\"mean\"], mode='lines',name='mean error'))\n",
    "fig.add_trace(go.Scatter(x=error_distribution[\"task_duration_in_about_hours\"], y=error_distribution[\"standard_deviation_plus\"], mode='lines',name='+'))\n",
    "fig.add_trace(go.Scatter(x=error_distribution[\"task_duration_in_about_hours\"], y=error_distribution[\"standard_deviation_minus\"], mode='lines',name='-'))\n",
    "\n",
    "fig.update(layout_yaxis_range = [-1,40])\n",
    "\n"
   ]
  },
  {
   "cell_type": "code",
   "execution_count": 121,
   "id": "791ea246-2421-4665-ba79-025869470354",
   "metadata": {},
   "outputs": [
    {
     "data": {
      "application/vnd.plotly.v1+json": {
       "config": {
        "plotlyServerURL": "https://plot.ly"
       },
       "data": [
        {
         "alignmentgroup": "True",
         "hovertemplate": "DurationAsHour=%{x}<br>EstimationErrorInHours=%{y}<extra></extra>",
         "legendgroup": "",
         "marker": {
          "color": "#636efa"
         },
         "name": "",
         "notched": false,
         "offsetgroup": "",
         "orientation": "v",
         "showlegend": false,
         "type": "box",
         "x": [
          1,
          0,
          0,
          1,
          1,
          0,
          1,
          0,
          0,
          2,
          0,
          0,
          6,
          1,
          0,
          12,
          2,
          0,
          0,
          0,
          1,
          1,
          0,
          0,
          0,
          0,
          4,
          3,
          0,
          0,
          0,
          0,
          1,
          0,
          0,
          1,
          0,
          0,
          1,
          0,
          0,
          0,
          0,
          0,
          1,
          5,
          0,
          0,
          0,
          3,
          0,
          1,
          0,
          1,
          1,
          1,
          1,
          0,
          1,
          2,
          0,
          0,
          0,
          2,
          0,
          0,
          1,
          1,
          0,
          0,
          0,
          1,
          1,
          0,
          0,
          0,
          1,
          0,
          0,
          0,
          0,
          0,
          1,
          0,
          0,
          0,
          0,
          0,
          0,
          2,
          6,
          1,
          0,
          0,
          0,
          2,
          2,
          2,
          1,
          0,
          0,
          0,
          0,
          0,
          18,
          1,
          0,
          1,
          0,
          0,
          0,
          0,
          3,
          8,
          1,
          1,
          0,
          0,
          0,
          1,
          3,
          0,
          10,
          1,
          0,
          0,
          5,
          0,
          20,
          2,
          0,
          0,
          1,
          0,
          1,
          3,
          1,
          0,
          2,
          37,
          1,
          0,
          0,
          1,
          1,
          0,
          4,
          0,
          2,
          0,
          0,
          1,
          0,
          1,
          3,
          0,
          1,
          1,
          1,
          2,
          0,
          4,
          18,
          7,
          1,
          0,
          0,
          1,
          1,
          1,
          1,
          0,
          0,
          0,
          0,
          0,
          0,
          0,
          0,
          0,
          0,
          0,
          0,
          0,
          0,
          0,
          2,
          0,
          1,
          18,
          1,
          0,
          0,
          0,
          0,
          1,
          1,
          1,
          2,
          3,
          0,
          1,
          0,
          0,
          1,
          1,
          0,
          2,
          1,
          0,
          6,
          1,
          0,
          0,
          0,
          0,
          0,
          1,
          0,
          0,
          0,
          0,
          1,
          0,
          0,
          2,
          0,
          0,
          0,
          0,
          0,
          0,
          0,
          0,
          3,
          0,
          0,
          0,
          3,
          0,
          1,
          2,
          0,
          6,
          0,
          0,
          0,
          0,
          0,
          1,
          0,
          1,
          11,
          1,
          2,
          1,
          3,
          0,
          0,
          0,
          1,
          0,
          0,
          0,
          0,
          1,
          1,
          1,
          0,
          0,
          2,
          3,
          3,
          0,
          1,
          4,
          0,
          3,
          1,
          8,
          0,
          0,
          2,
          0,
          0,
          13,
          0,
          0,
          0,
          0,
          1,
          1,
          1,
          0,
          0,
          3,
          3,
          0,
          0,
          1,
          0,
          0,
          0,
          1,
          0,
          1,
          0,
          0,
          1,
          1,
          1,
          0,
          2,
          0,
          0,
          1,
          0,
          1,
          2,
          0,
          0,
          0,
          0,
          0,
          1,
          2,
          0,
          1,
          9,
          0,
          7,
          0,
          2,
          0,
          0,
          1,
          1,
          3,
          2,
          8,
          28,
          0,
          1,
          0,
          0,
          1,
          0,
          1,
          1,
          0,
          9,
          0,
          3,
          0,
          0,
          1,
          1,
          0,
          0,
          1,
          0,
          0,
          0,
          1,
          0,
          5,
          0,
          1,
          1,
          0,
          1,
          1,
          1,
          0,
          0,
          0,
          8,
          0,
          0,
          0,
          0,
          1,
          0,
          0,
          0,
          0,
          0,
          1,
          1,
          1,
          0,
          6,
          0,
          0,
          1,
          0,
          2,
          0,
          0,
          0,
          0,
          1,
          0,
          0,
          0,
          0,
          1,
          0,
          0,
          0,
          0,
          1,
          1,
          0,
          1,
          0,
          0,
          0,
          0,
          3,
          0,
          4,
          0,
          0,
          0,
          0,
          0,
          0,
          0,
          4,
          1,
          2,
          0,
          4,
          0,
          3,
          0,
          3,
          1,
          0,
          1,
          1,
          1,
          0,
          1,
          0,
          0,
          0,
          0,
          2,
          1,
          1,
          1,
          0,
          1,
          0,
          0,
          3,
          1,
          0,
          1,
          1,
          2,
          0,
          2,
          0,
          4,
          1,
          1,
          1,
          5,
          0,
          2,
          0,
          29,
          0,
          7,
          2,
          0,
          0,
          0,
          1,
          0,
          1,
          2,
          1,
          1,
          0,
          0,
          0,
          1,
          0,
          1,
          1,
          0,
          0,
          0,
          0,
          0,
          0,
          13,
          1,
          0,
          3,
          0,
          0,
          0,
          5,
          1,
          0,
          0,
          2,
          0,
          1,
          0,
          5,
          0,
          4,
          0,
          0,
          1,
          0,
          1,
          3,
          0,
          0,
          1,
          1,
          1,
          0,
          0,
          1,
          0,
          1,
          1,
          1,
          0,
          1,
          1,
          0,
          6,
          0,
          0,
          1,
          4,
          0,
          1,
          2,
          0,
          1,
          2,
          2,
          0,
          0,
          0,
          0,
          1,
          0,
          1,
          0,
          4,
          1,
          1,
          1,
          0,
          10,
          0,
          0,
          0,
          0,
          0,
          34,
          0,
          0,
          0,
          0,
          0,
          2,
          33,
          1,
          1,
          0,
          0,
          0,
          0,
          0,
          1,
          3,
          0,
          1,
          0,
          2,
          1,
          0,
          1,
          4,
          1,
          0,
          0,
          0,
          1,
          1,
          1,
          3,
          1,
          2,
          0,
          1,
          0,
          0,
          1,
          0,
          1,
          0,
          1,
          3,
          1,
          0,
          0,
          0,
          0,
          0,
          0,
          0,
          0,
          2,
          1,
          0,
          0,
          2,
          2,
          0,
          0,
          0,
          0,
          3,
          0,
          0,
          0,
          0,
          0,
          0,
          1,
          0,
          0,
          0,
          1,
          1,
          2,
          0,
          0,
          0,
          0,
          0,
          1,
          2,
          1,
          1,
          0,
          0,
          0,
          0,
          0,
          0,
          2,
          0,
          0,
          0,
          1,
          0,
          0,
          1,
          20,
          0,
          6,
          1,
          0,
          1,
          0,
          1,
          0,
          0,
          0,
          0,
          0,
          1,
          0,
          0,
          0,
          0,
          0,
          0,
          0,
          0,
          0,
          1,
          0,
          0,
          1,
          0,
          0,
          0,
          1,
          0,
          6,
          0,
          0,
          0,
          0,
          3,
          1,
          0,
          0,
          1,
          1,
          5,
          0,
          2,
          0,
          0,
          0,
          0,
          0,
          0,
          0,
          0,
          0,
          0,
          3,
          0,
          1,
          0,
          19,
          0,
          0,
          0,
          1,
          0,
          0,
          0,
          0,
          0,
          1,
          1,
          2,
          0,
          5,
          0,
          1,
          6,
          4,
          0,
          1,
          0,
          3,
          1,
          0,
          1,
          4,
          0,
          1,
          0,
          0,
          0,
          0,
          0,
          0,
          0,
          0,
          2,
          0,
          0,
          1,
          0,
          1,
          5,
          0,
          4,
          1,
          0,
          1,
          0,
          17,
          2,
          5,
          0,
          0,
          0,
          3,
          0,
          0,
          0,
          1,
          0,
          0,
          0,
          3,
          0,
          0,
          0,
          2,
          0,
          21,
          0,
          0,
          0,
          0,
          4,
          2,
          0,
          2,
          0,
          0,
          0,
          0,
          0,
          0,
          1,
          0,
          0,
          0,
          1,
          0,
          0,
          0,
          0,
          2,
          2,
          3,
          4,
          0,
          1,
          4,
          0,
          2,
          0,
          2,
          0,
          0,
          7,
          0,
          0,
          1,
          0,
          16,
          0,
          0,
          0,
          0,
          0,
          0,
          0,
          0,
          0,
          0,
          4,
          0,
          1,
          0,
          0,
          0,
          1,
          0,
          8,
          0,
          0,
          0,
          0,
          1,
          3,
          0,
          0,
          3,
          1,
          0,
          1,
          0,
          0,
          2,
          6,
          0,
          0,
          1,
          0,
          0,
          1,
          7,
          1,
          0,
          3,
          15,
          0,
          0,
          0,
          0,
          0,
          1,
          0,
          1,
          0,
          0,
          0,
          0,
          0,
          0,
          0,
          1,
          0,
          0,
          6,
          0,
          10,
          0,
          0,
          0,
          0,
          1,
          0,
          0,
          0,
          1,
          0,
          0,
          0,
          0,
          1,
          3,
          1,
          0,
          0,
          18,
          0,
          4,
          0,
          0,
          0,
          0,
          0,
          0,
          0,
          2,
          4,
          0,
          1,
          1,
          0,
          1,
          1,
          0,
          0,
          2,
          1,
          1,
          1,
          1,
          0,
          0,
          0,
          13,
          1,
          0,
          5,
          1,
          2,
          1,
          3,
          0,
          0,
          3,
          1,
          0,
          0,
          0,
          1,
          0,
          0,
          0,
          0,
          0,
          0,
          0,
          0,
          0,
          0,
          2,
          0,
          0,
          0,
          0,
          2,
          5,
          0,
          0,
          1,
          0,
          0,
          0,
          0,
          0,
          0,
          0,
          0,
          0,
          0,
          0,
          1,
          1,
          1,
          1,
          0,
          0,
          0,
          1,
          2,
          0,
          1
         ],
         "x0": " ",
         "xaxis": "x",
         "y": [
          1.8049504989690386,
          0.4008751994062484,
          0.1417310074955908,
          0.05013009750556648,
          -0.10612500000000018,
          0.3600299234774444,
          -0.11335022016142261,
          0.22119869719291613,
          0.12227126523202028,
          1.5336449072799934,
          0.22476471154734712,
          0.8178417526028798,
          -2.793208007134409,
          -0.0199294947768639,
          1.4538959028216405,
          -6.882399716354525,
          0.130647806422291,
          0.5091725354721893,
          1.3086515623265622,
          0.3432027900308679,
          -0.12120249766573302,
          0.07642748507170394,
          1.2854296474358973,
          1.055981684981685,
          0.05028433140933145,
          1.1487462740718895,
          -0.9384555555555563,
          0.6696133690331776,
          1.158845644783773,
          0.2539804724778166,
          0.022540740740740736,
          0.5132719783002734,
          -0.48124585000666936,
          1.0793104548229548,
          0.13175061175695502,
          0.9945431158423649,
          0.8331169715407285,
          0.3019545546470088,
          0.24392973692973682,
          1.2682134316275853,
          1.8869397289309533,
          0.557396101557385,
          0.15939847500481827,
          0.09473180833815159,
          0.5911153125203156,
          -0.8825199559336816,
          0.22444228176938016,
          0.5584264272022178,
          2.7581632341354694,
          0.23965771245190154,
          0.4618433750239411,
          -0.18135903852250987,
          1.1974896214896213,
          -0.33373555491943774,
          1.5106975603146233,
          1.0068836984812368,
          -0.18617231635417458,
          0.11036411996216347,
          -0.061643185491260764,
          -1.1420813903121714,
          0.12913214285714286,
          0.5168469713989786,
          0.687877721331015,
          5.827717954822956,
          0.6720595138358534,
          0.3235340094278864,
          -0.4045967705826907,
          1.733495499085919,
          0.4854813610864091,
          0.4422900938041626,
          0.8580369569307353,
          -0.5246070917582507,
          -0.2227576520134331,
          1.1057104168543703,
          1.0872068485834145,
          1.5363789353728885,
          0.01909834541477797,
          0.9938161094566413,
          0.159421531447855,
          0.1642813841120258,
          0.12073180833815161,
          0.1530671881048747,
          -0.2634198213256022,
          0.37951286559350716,
          0.9631944096765986,
          0.24656224833782556,
          0.6589760314469065,
          0.0879277430099321,
          1.1124896214896214,
          -0.7498783790545203,
          -1.5972087896139135,
          -0.25866422340788003,
          0.4643646431873627,
          0.7961612804813947,
          1.9194391748755717,
          0.9177233269226679,
          -0.04606081793804657,
          -0.5412093991967125,
          -0.07110494037322142,
          0.8947392596574778,
          -0.08071566859066864,
          -0.012128968253968284,
          0.10594946706831034,
          1.6372993176417254,
          -14.162625628787941,
          -0.033098987992268826,
          0.11975061175695503,
          0.05018682016887573,
          0.17775061175695503,
          0.13434964609294403,
          0.9337108465064602,
          0.20362158079079992,
          1.589878840571905,
          -2.1588437053940783,
          -0.06144590828212396,
          -0.09300180952380957,
          0.8274896214896214,
          0.42923191734223554,
          1.0503198313280486,
          0.014860266511422601,
          -1.2679355082004546,
          2.004445371387871,
          -6.50257487294999,
          1.36253666584618,
          0.18129306584757987,
          0.25093462739619343,
          0.5920500000000003,
          0.5816845067034095,
          -13.507068190838561,
          0.04317402970455355,
          0.4195281516459786,
          0.07770871851332023,
          0.025905178674397702,
          0.15384221663333977,
          0.9061954988863774,
          -0.2591294261294267,
          -0.10027028428856523,
          0.6985159161482141,
          -0.6242087663296346,
          -17.004177045177045,
          -0.19807225699006797,
          0.19139391151275478,
          0.3143484750048184,
          -0.7537320335721378,
          0.016938512007730982,
          1.8054055091085703,
          -1.9264657899199564,
          0.09662083797997885,
          1.116185964534739,
          0.22743765392940582,
          1.0042690481200127,
          0.3942700266704478,
          0.3997691771160203,
          1.230666417147667,
          -0.162129426129427,
          0.2506513096267786,
          -0.02449610172945591,
          -0.3728789682539683,
          0.3095577279758797,
          -1.1990791966762337,
          0.7408512654772554,
          4.027862053494224,
          -4.988710350529101,
          -1.380012341968657,
          -0.08368471689879155,
          2.079937701065656,
          1.0488258410645546,
          2.110428538359789,
          -0.11585338235861829,
          0.3412344785305916,
          1.588609562791887,
          0.2922843314093314,
          1.335093091781476,
          1.2442986256704027,
          3.26550066652323,
          0.45973532144965074,
          0.40885318893889216,
          1.100763668815678,
          1.077041446593456,
          1.0187136688156784,
          0.4231156054415848,
          0.41682046655269595,
          2.696344256661589,
          0.535718671038887,
          2.4433725049604744,
          1.4626270504920251,
          -0.04813159063159093,
          0.4265495675382903,
          1.577870573870573,
          -8.527170429104395,
          0.14372926084359008,
          0.843414306551766,
          0.16518388756132596,
          0.5465476358241655,
          0.1461485478486412,
          -0.3232586423325968,
          -0.09459843275910342,
          -0.5072512343936257,
          2.88545808979823,
          1.1305053461199288,
          1.8669226050307621,
          0.0879545546470089,
          0.486519434730138,
          0.9904288910864679,
          2.291827944337773,
          0.9572100672242472,
          0.9168358541112974,
          -0.6940161762698335,
          -0.3463762558267141,
          0.7076421071842253,
          -3.1215596912999186,
          0.017615043646682503,
          0.13713214285714284,
          0.18271894547448922,
          1.7046675810685021,
          1.5855347428250253,
          0.9348736226455099,
          -0.17012592592592593,
          0.2790422208971768,
          0.42965036980682025,
          0.3779908767208053,
          0.10468312437726449,
          0.2354361073450361,
          1.0643666784575816,
          0.21606527836240166,
          -0.5118611456770431,
          0.21424871360285358,
          2.989384606064754,
          0.4058563390512499,
          0.11435383136958636,
          0.4284053071124962,
          0.4918661909702895,
          0.31943979104393105,
          0.5347384715620083,
          -1.0642181098006285,
          0.1764930658475799,
          2.402854022802261,
          2.2191724580547794,
          -1.2530624587685444,
          0.44589269185702113,
          0.027366990410941476,
          0.02776930712960368,
          0.7169278226208303,
          -3.6971294261294267,
          3.6577566449814967,
          7.144823591955764,
          0.7859948781325381,
          2.420769307129604,
          0.5074928240670676,
          -0.018124905823076586,
          0.47689671933529215,
          2.315055032411108,
          -0.7593879465057761,
          0.022812594176923415,
          -0.9745946928875039,
          0.38899234305645475,
          -2.2265914720851288,
          0.4814085279148711,
          0.5477412478603267,
          0.22671186926638323,
          0.12555426084358998,
          0.0968710317460317,
          0.1312843314093314,
          0.33012613816468367,
          0.4329357095450231,
          2.11030679335653,
          -0.27687028461095536,
          0.8153497049918544,
          0.16465107654690989,
          1.304207796117516,
          -0.5947621205725947,
          0.5610355169717514,
          -0.8281294261294271,
          0.2611127862388318,
          -0.44808566534717226,
          -2.3706201595143983,
          0.18886914179597106,
          0.021335128556765996,
          -0.32313144993730986,
          -2.7539305744305924,
          0.3550048528969492,
          0.22597148788585156,
          1.4832981812169317,
          3.0126291093409825,
          0.8657532897721925,
          -1.2564929577721302,
          1.006441848021024,
          1.3128711678799514,
          0.2786955889141061,
          0.2810549660730547,
          1.3026833540429144,
          0.05328119533847807,
          1.0252018490494832,
          0.9735956950549448,
          0.3841710071476466,
          -0.8553428906671445,
          -1.0755390082863954,
          0.6026473799654034,
          0.34761464746370063,
          -0.5194718261129316,
          1.9748415746971126,
          0.13524871360285354,
          0.17113214285714282,
          0.12128448960176001,
          0.6749612315067911,
          0.49541945944819454,
          1.4506351828610233,
          1.7356269424939723,
          0.674655096109964,
          1.1820016950200938,
          -0.1335948229565967,
          1.2341368583851444,
          -0.4532309299658434,
          0.6261274989618207,
          1.9122132978813207,
          0.575156288156288,
          0.5945983572252528,
          -0.07712073915640973,
          -0.08631037846516695,
          0.5222168365044298,
          0.47728143926278255,
          0.7975600118149365,
          0.24371556401660951,
          0.31124871360285356,
          -0.11487494670775769,
          0.22161085957693152,
          0.4107037978806271,
          1.0087844187709611,
          -4.866340509266265,
          1.7770054611360329,
          -3.692459478750223,
          3.612509562717671,
          0.9236193754096299,
          1.2211473027585769,
          1.8198000000000003,
          0.40040995012774133,
          0.04101234307680241,
          -1.6338823063641643,
          2.762710232655372,
          0.7953620534942244,
          -8.551634963706823,
          0.7476691723944218,
          0.04610555331262946,
          0.4404085279148712,
          0.12413214285714286,
          -0.639374608204029,
          0.16328433140933138,
          0.7719583221234729,
          0.2765977737378608,
          0.6161826872211592,
          -4.364090099185665,
          0.43520562354594045,
          -0.543501149313634,
          0.657552951631392,
          0.11471186926638334,
          0.01257605222996795,
          2.8306761144662707,
          1.388946768164757,
          0.7003831919201792,
          0.8128684093684092,
          0.4646959513525836,
          0.11970508204922212,
          -0.02208813073361676,
          -0.005355348082682414,
          0.561241947275603,
          1.2832991452991438,
          0.5105566866741013,
          3.162509562717671,
          0.09961849019659061,
          1.1711446646226247,
          0.9569986941428171,
          -0.21233041054185314,
          0.10082885766740307,
          2.462614617055194,
          2.1903349377199515,
          0.6160274861227603,
          -0.6687881283068772,
          0.40241939229024926,
          0.20143345550963201,
          1.0102071097813534,
          0.8995214667823642,
          -0.41357357279778206,
          0.16413214285714287,
          3.763616411032925,
          0.4827303012296119,
          0.3711026976285823,
          0.868869198710718,
          1.1561807668257666,
          0.16453647444189654,
          0.8031958091810723,
          0.4924005093714104,
          -2.042460378510379,
          1.823944561587747,
          0.44699024941586085,
          0.06487238192661923,
          2.913795218925842,
          1.2604206517362277,
          0.09470299270933594,
          0.9053963412525217,
          0.8751337558935791,
          0.28863661660779305,
          -0.10691308379810847,
          0.6939918423190722,
          0.3335140934523858,
          0.20243467955610114,
          0.36693764325305517,
          -0.36524621908167026,
          0.20831186926638326,
          1.067478554642632,
          0.09941412237487739,
          0.5010782920687701,
          -0.2837928059951404,
          0,
          0.3092069735829937,
          0.022087136352743578,
          0.5365556980550088,
          2.050823999027492,
          0.5724784822287947,
          3.270940757016353,
          -1.3213704138840705,
          0.4232241937746778,
          -0.04376206054830012,
          1.5890519014300777,
          1.1875572107058867,
          0.09606514167148493,
          0.4353780639473533,
          0.2871837304593555,
          0.9187646514490191,
          1.5239341335267034,
          -3.245805557702034,
          13.303323822267,
          1.5919964826553723,
          23.379472970011623,
          -0.21209412921269682,
          2.8412245247991157,
          1.4852149037033955,
          0.5536359911015062,
          -0.9929855528962617,
          1.2791196264037206,
          0.9199506665153845,
          2.2074231994718976,
          0.7659281834577167,
          -0.29316113703384983,
          0.10587103174603173,
          -0.21362896825396824,
          2.3674023267081585,
          0.4935607822141578,
          0.16929306584757986,
          0.9838229548229548,
          -0.6557950153202337,
          0.166204760458136,
          -0.3033116972890317,
          3.5170043904805417,
          0.8143488240898694,
          -0.2414556998608205,
          0.3565161410055618,
          1.6898296169775813,
          -0.7601445303649845,
          0.28290801319645714,
          0.06714749898958024,
          0.9283121865231571,
          1.9182019004743465,
          1.7164983172542339,
          0.6025287142676745,
          -0.482359506391996,
          0.7926117150887805,
          -1.5509339790438095,
          -0.3800204725913979,
          -0.43257010320115963,
          1.1384372376310805,
          -1.0512604740518847,
          3.3872010684588734,
          1.899602913171831,
          2.520728605757983,
          -13.522674772713241,
          1.6369594624080304,
          0.38504778722661387,
          0.4342020568611249,
          0.1562203301635485,
          0.14479464285714286,
          1.951373519345578,
          1.0512742454689454,
          0.4507415492339286,
          1.4155879752800216,
          0.04051406802364934,
          -0.058455357142857135,
          -0.18447193552630767,
          1.1086237437635023,
          0.9695353851414481,
          1.4585815893488445,
          0.5924727756276997,
          0.25444938466266886,
          0.6456497770416042,
          0.9645032367385813,
          0.8669953577958417,
          0.8920717943446961,
          0.3587253918821259,
          1.1427211319844588,
          1.1948089856369002,
          0.8385188003026592,
          -7.185539585293308,
          0.029205335394132954,
          0.17487727207632486,
          -0.5602505492435285,
          2.50590562131205,
          1.733967887935669,
          1.6954261987685337,
          -2.984666859252975,
          -0.028201300657055475,
          1.1303792641363921,
          1.2958926697568884,
          0.5941625485000622,
          1.2773225811808084,
          0.2907027234630951,
          0.40931509703920427,
          -1.5449666227535999,
          1.5309228467700942,
          -2.110705980458982,
          0.6428996538334083,
          0.7736103958149362,
          1.8423649642295166,
          0.21957283175477652,
          0.23693694266248044,
          -0.6016612527087172,
          1.6505898585978118,
          0.6356516407403182,
          -0.41400426623640896,
          -0.16737226613965742,
          1.0928302099262717,
          0.45838213605568157,
          0.5733936439921894,
          0.11142491348248693,
          2.6178571806652036,
          0.3615729965856311,
          -0.13904333333333346,
          3.1556834685861075,
          0.6187484685350909,
          0.3902812881562881,
          1.4463033460605177,
          -0.05963337725076852,
          -1.3472897673446282,
          3.9364334685861087,
          4.1987102326553725,
          0.48968963018224815,
          -1.4577055992231307,
          2.2410809062983135,
          -0.021148315638541818,
          -0.4140703631161253,
          0.9255290318119277,
          0.37524720389921157,
          1.0999686734455474,
          1.0421707554354742,
          0.23097298500642474,
          1.275767065927078,
          0.49935713028261425,
          0.4541696302826143,
          0.7221581451757081,
          0.12162773386034252,
          0.6658989849083721,
          1.9689103741503984,
          -0.9729213587553815,
          1.048908416453016,
          -0.14714328626034873,
          0.1255413576674031,
          0.5497582228497134,
          -7.630974639969065,
          1.038762651375759,
          0.11508394509028833,
          0.43870854895864225,
          0.13375061175695502,
          0.14219847500481828,
          -28.89454191020177,
          0.41886546361594773,
          0.8225805791735002,
          0.17175061175695502,
          1.1484666363802445,
          0.3193903486058465,
          -1.4389160549097115,
          -24.78075650064968,
          0.0519781788337016,
          0.9437387764514333,
          1.5376577332099401,
          0.2909330781293382,
          1.713006449540115,
          1.494407075655806,
          1.6059889858281966,
          -0.4538036952004642,
          -2.157231275822789,
          0.440155262168734,
          -0.18980369520046433,
          0.4275890123953172,
          5.825479032337478,
          0.3249698163157577,
          0.3780745679465012,
          5.919192451574312,
          -0.9896056096174789,
          0.2308989849083721,
          0.9545725758418403,
          -0.06715465465906643,
          0.6427527666522611,
          0.005641364923129054,
          -0.41243830435308976,
          0.31958417165474906,
          0.5798215018202362,
          0.04731678415325771,
          2.000512325510469,
          0.19675013316808368,
          0.4684268464762017,
          0.8261871142013326,
          0.16308394509028837,
          1.373449389739046,
          1.1836715311777053,
          -0.44075155419911705,
          0.23685343371110074,
          0.9211980237461235,
          -1.465867320296311,
          -0.02110200944828989,
          0.21017613476687283,
          0.4424016371630914,
          0.2877528344152491,
          0.30600645348467176,
          1.0341382984439005,
          1.2376141080748053,
          2.9484695468357502,
          -0.03913337725076853,
          0.16236650249182477,
          1.2309943679927893,
          0.3794266294206645,
          2.5504595717869,
          -0.3774729950328689,
          0.1895583790365236,
          0.535741558078165,
          1.7475910392003986,
          0.9479422840393826,
          2.0578882095935205,
          4.2286759711335336,
          0.2922937761976472,
          1.181103578261465,
          0.9779061900134886,
          0.54273768583817,
          1.737335589537179,
          0.13940503495826603,
          1.33194491725368,
          1.0358532557657953,
          0.5544100369430222,
          1.0765538268433608,
          0.527703692703786,
          0.01734082794767043,
          -0.023534242956087737,
          0.8291423090253465,
          0.7033919926026295,
          2.5567022659569503,
          0.14708394509028835,
          0.10539847500481829,
          1.8335876867759637,
          -0.0740018748747045,
          0.7111939484697095,
          -0.14485867534459557,
          0.0007318083381515963,
          1.0346603805011034,
          1.170909564983877,
          0.5887097613088733,
          1.5705227848065633,
          1.239219333200075,
          -0.3876335821594315,
          -0.0017200775874688487,
          -0.006872266139657452,
          0.1841830154392223,
          0.6820617098838948,
          1.102228482492378,
          1.0231239932229945,
          -0.19096197574888216,
          -6.016226015091626,
          0.48827398412434136,
          -1.7727476079270208,
          0.23916952033806577,
          1.2216375722753992,
          -0.07462753385106806,
          0.325027818885907,
          0.951918938305802,
          2.122865130755476,
          0.9469768890604296,
          0.4981578222566403,
          0.14210444565070565,
          1.9408505474852207,
          0.24243800056291243,
          0.9595238033044857,
          0.7328585412489628,
          0.7966628764049741,
          2.2440789839785964,
          0.6407502571544854,
          0.33450519724540306,
          1.098891616357831,
          0.11073180833815162,
          0.16440264120799836,
          -0.2717352291026203,
          0.04563177426438304,
          0.1821589073492646,
          0.6828989849083722,
          0.8116773252136753,
          0.02087067883370158,
          1.1585350496310838,
          1.0951676442075706,
          0.5047376858381699,
          -2.696849052508438,
          0.5580932413937256,
          -0.10768813073361673,
          0.7156746839409955,
          0.3031473991516652,
          -0.8603092735747613,
          -0.16164829427976732,
          0.17147569794190484,
          0.30549194518642353,
          0.4855316741530583,
          -0.2724822614782051,
          0.8458068518425746,
          1.5482410936863564,
          -0.4283244895937113,
          2.7375932981377082,
          0.4368219035214847,
          0.8356950853773498,
          0.30800597295134857,
          0.7846132060219603,
          0.42240597295134863,
          1.6775288783846873,
          -0.11055004391743523,
          0.07136662274923146,
          0.5100932413937256,
          -0.7094954770723472,
          0.11093352746954249,
          3.020596693288426,
          0.6152613755833086,
          -13.863622651810857,
          1.9451696145343365,
          0.5593217188185357,
          0.5310932413937255,
          3.034829764459014,
          0.8083543568640444,
          -0.11551434746675385,
          1.5413874193105108,
          0.430148611277276,
          0.13806514167148495,
          0.2516068798128613,
          0.5959488501306572,
          -0.9631293211662982,
          0.7325315132910108,
          -3.274111694906675,
          1.189930426473167,
          0.35719935953849336,
          -3.889130911704862,
          7.015370209370995,
          0.04346020141246855,
          1.071672305851916,
          0.15708394509028836,
          -1.372827499573443,
          0.1149997769487359,
          0.6267370312484759,
          -0.6834748470809697,
          -3.819700440322845,
          2.766989056725931,
          -0.15861348985776802,
          0.6427465324486135,
          1.0112941102913662,
          0.05921907218442928,
          0.9891262563186847,
          0.31624714506462964,
          1.2159443790488293,
          0.1649358146684233,
          0.8677370312484758,
          2.0359215491730156,
          0.612029642585521,
          1.725630186642274,
          3.798950572209959,
          1.4587497584313025,
          0.25241207256255654,
          -1.5645599168540003,
          1.5919909537391759,
          -1.466777300316573,
          1.1302265534360907,
          0.4843752926757767,
          -0.09497094580016299,
          0.9243249241832451,
          -7.948534096626358,
          -0.6967136758214636,
          -0.9368890300299016,
          0.376180246968904,
          0.5281095028434927,
          0.7682967555032504,
          1.7981039617008576,
          1.9296603250149191,
          0.36750278420856286,
          4.468403653951839,
          1.263905917537954,
          1.3318053804030923,
          1.1412734778376965,
          1.3474889319472076,
          0.01495343328036698,
          2.5536984068023285,
          0.1842040459941127,
          0.4933650649351556,
          1.0742505701289837,
          0.14721319448276934,
          -9.984412231971987,
          0.06636237166371492,
          0.6710230837216543,
          0.28264669817623567,
          0.2812916012294067,
          0.489471048124447,
          0.17568921916513724,
          0.11006514167148494,
          -0.8516533897960262,
          0.07070183039741229,
          0.9018238471793426,
          0.08641727842362167,
          0.04517867867426691,
          0.07214288537549395,
          -0.07263337725076857,
          0.01352154827203233,
          2.4891237493517413,
          4.456548957875166,
          0.6266960191715031,
          0.8994436622577631,
          0.27299309548732503,
          4.7924838284772875,
          7.735682479011156,
          0.886085164979841,
          -0.3478303854656638,
          1.383592650980078,
          -1.6658637933320037,
          -0.6381160155717857,
          1.6057142184598077,
          0.5125135871453516,
          -1.685576707451614,
          1.3497420882043965,
          -0.47069366123675155,
          0.7048727205989729,
          2.3565336213930013,
          0.1724172784236217,
          0.1710839450902884,
          -2.8669764217459694,
          0.8503448497970567,
          1.4569705947811513,
          0.17204076455105072,
          2.1797732318856964,
          -9.488537224205167,
          0.2706631015858873,
          -0.024368225735616988,
          2.375820567840425,
          0.2994723505634959,
          14.594129938283398,
          0.2937340833284881,
          0.3725394273356873,
          0.5400932413937256,
          1.57792322877812,
          0.4796960191715032,
          -1.7577122927163056,
          0.54247444861528,
          0.5400232011544952,
          2.6572852022750717,
          0.51142019144635,
          0.47169601917150317,
          1.3341493170404637,
          0.33597436792188884,
          7.573509198457653,
          0.22191186926638326,
          0.023015296824387785,
          0.23231186926638328,
          0.40355114510176865,
          0.7757754798371153,
          -0.6876333772507689,
          1.0334847053795384,
          0.3564000251682723,
          -0.3857464392934228,
          -0.17064690644323274,
          0.19916646364225388,
          0.8384664487943883,
          0.0762799224125312,
          0.08961662274923143,
          0.435308328207943,
          -2.812683810087824,
          1.9430362412211257,
          1.8851115198756268,
          1.6938810458604576,
          1.3927083756293124,
          2.091519855148847,
          -0.33846514488418683,
          -2.635052944334875,
          0.06527134424646458,
          0.7535536917792567,
          0.07567607698240914,
          -8.577948703213641,
          0.508357538251601,
          0.2859657027623112,
          -0.07786304729219887,
          2.589105927590914,
          3.4118294190561147,
          -0.05036057212386242,
          0.7147808076170835,
          -0.020219642361606636,
          1.9377837529302446,
          1.1157986081949376,
          0.23640059069208913,
          0.7499107533350411,
          0.0783182330592903,
          0.15308394509028836,
          0.8402726620081613,
          0.08129955967715477,
          1.003064429016148,
          2.4320188538723286,
          -2.5226250126662797,
          1.5187636920024299,
          -6.016235490838072,
          0.20037322615655948,
          0.5087945171792861,
          0.0727944005270092,
          1.0550408868728067,
          1.2160613230213255,
          0.5374969644204767,
          1.4414460090961336,
          0.5813525242782976,
          -0.14308817935488086,
          0.501725391882126,
          0.8426753324536638,
          0.6374120725625565,
          6.142418591430306,
          0.26190585312355247,
          -1.8223793211662984,
          0.0678850165002205,
          7.6812001655556195,
          0.44838779270567475,
          -8.807164025136379,
          1.158005006004445,
          -1.6746916717920572,
          0.6422726620081612,
          2.909059111922083,
          1.1257120435221866,
          0.19580481784917192,
          0.029935814668423356,
          0.4232726620081612,
          0.125750611756955,
          -0.680441638046685,
          1.5389073289423247,
          1.4721054490998184,
          3.1298582573430576,
          0.38070979263056615,
          0.22338651014223196,
          -0.17572007758746883,
          0.18031338321100243,
          0.15789597371339362,
          0.23287784600776593,
          -0.5010188594846742,
          0.11540145199351211,
          1.1278556214399245,
          0.1233903468100526,
          0.24479191244240583,
          1.356748053583089,
          0.41394445398463486,
          1.1901505236987886,
          -2.2386923898797777,
          4.410835952371675,
          0.7849505549971022,
          -0.06867050926341411,
          2.570201150306082,
          0.18241866920324887,
          0.9281579924808112,
          -0.243704346016184,
          0.22654532059968233,
          1.0407725057697435,
          2.8160090276511816,
          0.6132188819818033,
          1.076047959752216,
          1.146324277500996,
          2.2465205663800987,
          3.906961002846347,
          4.0247154002002015,
          1.1031519316461833,
          0.4111680719796013,
          1.254421453411033,
          0.6055032176921089,
          0.4524750380456541,
          0.25313794821735996,
          -0.06855004391743522,
          0.5935264435446324,
          0.5515509161852041,
          0.696316212747442,
          2.686572067354436,
          0.7814025607808919,
          0.8804174995381665,
          1.1140164251492728,
          0.8969142051449812,
          1.4751161938509973,
          0.15191319289351043,
          1.1362797335042873,
          0.12283834735147846,
          0.8032544670683104,
          0.23413270401711578,
          1.9242439623944658,
          0.24511186926638326,
          0.31851597686027927,
          0.12094508228543946,
          0.1364499560825648,
          0.24528960894741625,
          0.24591186926638325,
          0.5341592642685421,
          0.4907824662441031,
          2.252405180182538,
          0.11675263725176466,
          0.5378634876735773,
          -0.022079333150509604,
          1.3061830254667641,
          0.7392726620081612,
          2.3084714526794206,
          0.9231526114318148,
          0.396438049923743,
          0.5576960191715031,
          0.10045980628215413
         ],
         "y0": " ",
         "yaxis": "y"
        }
       ],
       "layout": {
        "autosize": true,
        "boxmode": "group",
        "legend": {
         "tracegroupgap": 0
        },
        "margin": {
         "t": 60
        },
        "template": {
         "data": {
          "bar": [
           {
            "error_x": {
             "color": "#2a3f5f"
            },
            "error_y": {
             "color": "#2a3f5f"
            },
            "marker": {
             "line": {
              "color": "#E5ECF6",
              "width": 0.5
             },
             "pattern": {
              "fillmode": "overlay",
              "size": 10,
              "solidity": 0.2
             }
            },
            "type": "bar"
           }
          ],
          "barpolar": [
           {
            "marker": {
             "line": {
              "color": "#E5ECF6",
              "width": 0.5
             },
             "pattern": {
              "fillmode": "overlay",
              "size": 10,
              "solidity": 0.2
             }
            },
            "type": "barpolar"
           }
          ],
          "carpet": [
           {
            "aaxis": {
             "endlinecolor": "#2a3f5f",
             "gridcolor": "white",
             "linecolor": "white",
             "minorgridcolor": "white",
             "startlinecolor": "#2a3f5f"
            },
            "baxis": {
             "endlinecolor": "#2a3f5f",
             "gridcolor": "white",
             "linecolor": "white",
             "minorgridcolor": "white",
             "startlinecolor": "#2a3f5f"
            },
            "type": "carpet"
           }
          ],
          "choropleth": [
           {
            "colorbar": {
             "outlinewidth": 0,
             "ticks": ""
            },
            "type": "choropleth"
           }
          ],
          "contour": [
           {
            "colorbar": {
             "outlinewidth": 0,
             "ticks": ""
            },
            "colorscale": [
             [
              0,
              "#0d0887"
             ],
             [
              0.1111111111111111,
              "#46039f"
             ],
             [
              0.2222222222222222,
              "#7201a8"
             ],
             [
              0.3333333333333333,
              "#9c179e"
             ],
             [
              0.4444444444444444,
              "#bd3786"
             ],
             [
              0.5555555555555556,
              "#d8576b"
             ],
             [
              0.6666666666666666,
              "#ed7953"
             ],
             [
              0.7777777777777778,
              "#fb9f3a"
             ],
             [
              0.8888888888888888,
              "#fdca26"
             ],
             [
              1,
              "#f0f921"
             ]
            ],
            "type": "contour"
           }
          ],
          "contourcarpet": [
           {
            "colorbar": {
             "outlinewidth": 0,
             "ticks": ""
            },
            "type": "contourcarpet"
           }
          ],
          "heatmap": [
           {
            "colorbar": {
             "outlinewidth": 0,
             "ticks": ""
            },
            "colorscale": [
             [
              0,
              "#0d0887"
             ],
             [
              0.1111111111111111,
              "#46039f"
             ],
             [
              0.2222222222222222,
              "#7201a8"
             ],
             [
              0.3333333333333333,
              "#9c179e"
             ],
             [
              0.4444444444444444,
              "#bd3786"
             ],
             [
              0.5555555555555556,
              "#d8576b"
             ],
             [
              0.6666666666666666,
              "#ed7953"
             ],
             [
              0.7777777777777778,
              "#fb9f3a"
             ],
             [
              0.8888888888888888,
              "#fdca26"
             ],
             [
              1,
              "#f0f921"
             ]
            ],
            "type": "heatmap"
           }
          ],
          "heatmapgl": [
           {
            "colorbar": {
             "outlinewidth": 0,
             "ticks": ""
            },
            "colorscale": [
             [
              0,
              "#0d0887"
             ],
             [
              0.1111111111111111,
              "#46039f"
             ],
             [
              0.2222222222222222,
              "#7201a8"
             ],
             [
              0.3333333333333333,
              "#9c179e"
             ],
             [
              0.4444444444444444,
              "#bd3786"
             ],
             [
              0.5555555555555556,
              "#d8576b"
             ],
             [
              0.6666666666666666,
              "#ed7953"
             ],
             [
              0.7777777777777778,
              "#fb9f3a"
             ],
             [
              0.8888888888888888,
              "#fdca26"
             ],
             [
              1,
              "#f0f921"
             ]
            ],
            "type": "heatmapgl"
           }
          ],
          "histogram": [
           {
            "marker": {
             "pattern": {
              "fillmode": "overlay",
              "size": 10,
              "solidity": 0.2
             }
            },
            "type": "histogram"
           }
          ],
          "histogram2d": [
           {
            "colorbar": {
             "outlinewidth": 0,
             "ticks": ""
            },
            "colorscale": [
             [
              0,
              "#0d0887"
             ],
             [
              0.1111111111111111,
              "#46039f"
             ],
             [
              0.2222222222222222,
              "#7201a8"
             ],
             [
              0.3333333333333333,
              "#9c179e"
             ],
             [
              0.4444444444444444,
              "#bd3786"
             ],
             [
              0.5555555555555556,
              "#d8576b"
             ],
             [
              0.6666666666666666,
              "#ed7953"
             ],
             [
              0.7777777777777778,
              "#fb9f3a"
             ],
             [
              0.8888888888888888,
              "#fdca26"
             ],
             [
              1,
              "#f0f921"
             ]
            ],
            "type": "histogram2d"
           }
          ],
          "histogram2dcontour": [
           {
            "colorbar": {
             "outlinewidth": 0,
             "ticks": ""
            },
            "colorscale": [
             [
              0,
              "#0d0887"
             ],
             [
              0.1111111111111111,
              "#46039f"
             ],
             [
              0.2222222222222222,
              "#7201a8"
             ],
             [
              0.3333333333333333,
              "#9c179e"
             ],
             [
              0.4444444444444444,
              "#bd3786"
             ],
             [
              0.5555555555555556,
              "#d8576b"
             ],
             [
              0.6666666666666666,
              "#ed7953"
             ],
             [
              0.7777777777777778,
              "#fb9f3a"
             ],
             [
              0.8888888888888888,
              "#fdca26"
             ],
             [
              1,
              "#f0f921"
             ]
            ],
            "type": "histogram2dcontour"
           }
          ],
          "mesh3d": [
           {
            "colorbar": {
             "outlinewidth": 0,
             "ticks": ""
            },
            "type": "mesh3d"
           }
          ],
          "parcoords": [
           {
            "line": {
             "colorbar": {
              "outlinewidth": 0,
              "ticks": ""
             }
            },
            "type": "parcoords"
           }
          ],
          "pie": [
           {
            "automargin": true,
            "type": "pie"
           }
          ],
          "scatter": [
           {
            "marker": {
             "colorbar": {
              "outlinewidth": 0,
              "ticks": ""
             }
            },
            "type": "scatter"
           }
          ],
          "scatter3d": [
           {
            "line": {
             "colorbar": {
              "outlinewidth": 0,
              "ticks": ""
             }
            },
            "marker": {
             "colorbar": {
              "outlinewidth": 0,
              "ticks": ""
             }
            },
            "type": "scatter3d"
           }
          ],
          "scattercarpet": [
           {
            "marker": {
             "colorbar": {
              "outlinewidth": 0,
              "ticks": ""
             }
            },
            "type": "scattercarpet"
           }
          ],
          "scattergeo": [
           {
            "marker": {
             "colorbar": {
              "outlinewidth": 0,
              "ticks": ""
             }
            },
            "type": "scattergeo"
           }
          ],
          "scattergl": [
           {
            "marker": {
             "colorbar": {
              "outlinewidth": 0,
              "ticks": ""
             }
            },
            "type": "scattergl"
           }
          ],
          "scattermapbox": [
           {
            "marker": {
             "colorbar": {
              "outlinewidth": 0,
              "ticks": ""
             }
            },
            "type": "scattermapbox"
           }
          ],
          "scatterpolar": [
           {
            "marker": {
             "colorbar": {
              "outlinewidth": 0,
              "ticks": ""
             }
            },
            "type": "scatterpolar"
           }
          ],
          "scatterpolargl": [
           {
            "marker": {
             "colorbar": {
              "outlinewidth": 0,
              "ticks": ""
             }
            },
            "type": "scatterpolargl"
           }
          ],
          "scatterternary": [
           {
            "marker": {
             "colorbar": {
              "outlinewidth": 0,
              "ticks": ""
             }
            },
            "type": "scatterternary"
           }
          ],
          "surface": [
           {
            "colorbar": {
             "outlinewidth": 0,
             "ticks": ""
            },
            "colorscale": [
             [
              0,
              "#0d0887"
             ],
             [
              0.1111111111111111,
              "#46039f"
             ],
             [
              0.2222222222222222,
              "#7201a8"
             ],
             [
              0.3333333333333333,
              "#9c179e"
             ],
             [
              0.4444444444444444,
              "#bd3786"
             ],
             [
              0.5555555555555556,
              "#d8576b"
             ],
             [
              0.6666666666666666,
              "#ed7953"
             ],
             [
              0.7777777777777778,
              "#fb9f3a"
             ],
             [
              0.8888888888888888,
              "#fdca26"
             ],
             [
              1,
              "#f0f921"
             ]
            ],
            "type": "surface"
           }
          ],
          "table": [
           {
            "cells": {
             "fill": {
              "color": "#EBF0F8"
             },
             "line": {
              "color": "white"
             }
            },
            "header": {
             "fill": {
              "color": "#C8D4E3"
             },
             "line": {
              "color": "white"
             }
            },
            "type": "table"
           }
          ]
         },
         "layout": {
          "annotationdefaults": {
           "arrowcolor": "#2a3f5f",
           "arrowhead": 0,
           "arrowwidth": 1
          },
          "autotypenumbers": "strict",
          "coloraxis": {
           "colorbar": {
            "outlinewidth": 0,
            "ticks": ""
           }
          },
          "colorscale": {
           "diverging": [
            [
             0,
             "#8e0152"
            ],
            [
             0.1,
             "#c51b7d"
            ],
            [
             0.2,
             "#de77ae"
            ],
            [
             0.3,
             "#f1b6da"
            ],
            [
             0.4,
             "#fde0ef"
            ],
            [
             0.5,
             "#f7f7f7"
            ],
            [
             0.6,
             "#e6f5d0"
            ],
            [
             0.7,
             "#b8e186"
            ],
            [
             0.8,
             "#7fbc41"
            ],
            [
             0.9,
             "#4d9221"
            ],
            [
             1,
             "#276419"
            ]
           ],
           "sequential": [
            [
             0,
             "#0d0887"
            ],
            [
             0.1111111111111111,
             "#46039f"
            ],
            [
             0.2222222222222222,
             "#7201a8"
            ],
            [
             0.3333333333333333,
             "#9c179e"
            ],
            [
             0.4444444444444444,
             "#bd3786"
            ],
            [
             0.5555555555555556,
             "#d8576b"
            ],
            [
             0.6666666666666666,
             "#ed7953"
            ],
            [
             0.7777777777777778,
             "#fb9f3a"
            ],
            [
             0.8888888888888888,
             "#fdca26"
            ],
            [
             1,
             "#f0f921"
            ]
           ],
           "sequentialminus": [
            [
             0,
             "#0d0887"
            ],
            [
             0.1111111111111111,
             "#46039f"
            ],
            [
             0.2222222222222222,
             "#7201a8"
            ],
            [
             0.3333333333333333,
             "#9c179e"
            ],
            [
             0.4444444444444444,
             "#bd3786"
            ],
            [
             0.5555555555555556,
             "#d8576b"
            ],
            [
             0.6666666666666666,
             "#ed7953"
            ],
            [
             0.7777777777777778,
             "#fb9f3a"
            ],
            [
             0.8888888888888888,
             "#fdca26"
            ],
            [
             1,
             "#f0f921"
            ]
           ]
          },
          "colorway": [
           "#636efa",
           "#EF553B",
           "#00cc96",
           "#ab63fa",
           "#FFA15A",
           "#19d3f3",
           "#FF6692",
           "#B6E880",
           "#FF97FF",
           "#FECB52"
          ],
          "font": {
           "color": "#2a3f5f"
          },
          "geo": {
           "bgcolor": "white",
           "lakecolor": "white",
           "landcolor": "#E5ECF6",
           "showlakes": true,
           "showland": true,
           "subunitcolor": "white"
          },
          "hoverlabel": {
           "align": "left"
          },
          "hovermode": "closest",
          "mapbox": {
           "style": "light"
          },
          "paper_bgcolor": "white",
          "plot_bgcolor": "#E5ECF6",
          "polar": {
           "angularaxis": {
            "gridcolor": "white",
            "linecolor": "white",
            "ticks": ""
           },
           "bgcolor": "#E5ECF6",
           "radialaxis": {
            "gridcolor": "white",
            "linecolor": "white",
            "ticks": ""
           }
          },
          "scene": {
           "xaxis": {
            "backgroundcolor": "#E5ECF6",
            "gridcolor": "white",
            "gridwidth": 2,
            "linecolor": "white",
            "showbackground": true,
            "ticks": "",
            "zerolinecolor": "white"
           },
           "yaxis": {
            "backgroundcolor": "#E5ECF6",
            "gridcolor": "white",
            "gridwidth": 2,
            "linecolor": "white",
            "showbackground": true,
            "ticks": "",
            "zerolinecolor": "white"
           },
           "zaxis": {
            "backgroundcolor": "#E5ECF6",
            "gridcolor": "white",
            "gridwidth": 2,
            "linecolor": "white",
            "showbackground": true,
            "ticks": "",
            "zerolinecolor": "white"
           }
          },
          "shapedefaults": {
           "line": {
            "color": "#2a3f5f"
           }
          },
          "ternary": {
           "aaxis": {
            "gridcolor": "white",
            "linecolor": "white",
            "ticks": ""
           },
           "baxis": {
            "gridcolor": "white",
            "linecolor": "white",
            "ticks": ""
           },
           "bgcolor": "#E5ECF6",
           "caxis": {
            "gridcolor": "white",
            "linecolor": "white",
            "ticks": ""
           }
          },
          "title": {
           "x": 0.05
          },
          "xaxis": {
           "automargin": true,
           "gridcolor": "white",
           "linecolor": "white",
           "ticks": "",
           "title": {
            "standoff": 15
           },
           "zerolinecolor": "white",
           "zerolinewidth": 2
          },
          "yaxis": {
           "automargin": true,
           "gridcolor": "white",
           "linecolor": "white",
           "ticks": "",
           "title": {
            "standoff": 15
           },
           "zerolinecolor": "white",
           "zerolinewidth": 2
          }
         }
        },
        "xaxis": {
         "anchor": "y",
         "autorange": true,
         "domain": [
          0,
          1
         ],
         "range": [
          -0.5,
          37.5
         ],
         "title": {
          "text": "DurationAsHour"
         },
         "type": "linear"
        },
        "yaxis": {
         "anchor": "x",
         "domain": [
          0,
          1
         ],
         "range": [
          -1,
          40
         ],
         "title": {
          "text": "EstimationErrorInHours"
         },
         "type": "linear"
        }
       }
      },
      "image/png": "[encoded data removed]",
      "text/html": [
       "<div>                            <div id=\"ae5d4fd7-421f-4317-bebd-71f17a9da9fd\" class=\"plotly-graph-div\" style=\"height:525px; width:100%;\"></div>            <script type=\"text/javascript\">                require([\"plotly\"], function(Plotly) {                    window.PLOTLYENV=window.PLOTLYENV || {};                                    if (document.getElementById(\"ae5d4fd7-421f-4317-bebd-71f17a9da9fd\")) {                    Plotly.newPlot(                        \"ae5d4fd7-421f-4317-bebd-71f17a9da9fd\",                        [{\"alignmentgroup\":\"True\",\"hovertemplate\":\"DurationAsHour=%{x}<br>EstimationErrorInHours=%{y}<extra></extra>\",\"legendgroup\":\"\",\"marker\":{\"color\":\"#636efa\"},\"name\":\"\",\"notched\":false,\"offsetgroup\":\"\",\"orientation\":\"v\",\"showlegend\":false,\"type\":\"box\",\"x\":[1.0,0.0,0.0,1.0,1.0,0.0,1.0,0.0,0.0,2.0,0.0,0.0,6.0,1.0,0.0,12.0,2.0,0.0,0.0,0.0,1.0,1.0,0.0,0.0,0.0,0.0,4.0,3.0,0.0,0.0,0.0,0.0,1.0,0.0,0.0,1.0,0.0,0.0,1.0,0.0,0.0,0.0,0.0,0.0,1.0,5.0,0.0,0.0,0.0,3.0,0.0,1.0,0.0,1.0,1.0,1.0,1.0,0.0,1.0,2.0,0.0,0.0,0.0,2.0,0.0,0.0,1.0,1.0,0.0,0.0,0.0,1.0,1.0,0.0,0.0,0.0,1.0,0.0,0.0,0.0,0.0,0.0,1.0,0.0,0.0,0.0,0.0,0.0,0.0,2.0,6.0,1.0,0.0,0.0,0.0,2.0,2.0,2.0,1.0,0.0,0.0,0.0,0.0,0.0,18.0,1.0,0.0,1.0,0.0,0.0,0.0,0.0,3.0,8.0,1.0,1.0,0.0,0.0,0.0,1.0,3.0,0.0,10.0,1.0,0.0,0.0,5.0,0.0,20.0,2.0,0.0,0.0,1.0,0.0,1.0,3.0,1.0,0.0,2.0,37.0,1.0,0.0,0.0,1.0,1.0,0.0,4.0,0.0,2.0,0.0,0.0,1.0,0.0,1.0,3.0,0.0,1.0,1.0,1.0,2.0,0.0,4.0,18.0,7.0,1.0,0.0,0.0,1.0,1.0,1.0,1.0,0.0,0.0,0.0,0.0,0.0,0.0,0.0,0.0,0.0,0.0,0.0,0.0,0.0,0.0,0.0,2.0,0.0,1.0,18.0,1.0,0.0,0.0,0.0,0.0,1.0,1.0,1.0,2.0,3.0,0.0,1.0,0.0,0.0,1.0,1.0,0.0,2.0,1.0,0.0,6.0,1.0,0.0,0.0,0.0,0.0,0.0,1.0,0.0,0.0,0.0,0.0,1.0,0.0,0.0,2.0,0.0,0.0,0.0,0.0,0.0,0.0,0.0,0.0,3.0,0.0,0.0,0.0,3.0,0.0,1.0,2.0,0.0,6.0,0.0,0.0,0.0,0.0,0.0,1.0,0.0,1.0,11.0,1.0,2.0,1.0,3.0,0.0,0.0,0.0,1.0,0.0,0.0,0.0,0.0,1.0,1.0,1.0,0.0,0.0,2.0,3.0,3.0,0.0,1.0,4.0,0.0,3.0,1.0,8.0,0.0,0.0,2.0,0.0,0.0,13.0,0.0,0.0,0.0,0.0,1.0,1.0,1.0,0.0,0.0,3.0,3.0,0.0,0.0,1.0,0.0,0.0,0.0,1.0,0.0,1.0,0.0,0.0,1.0,1.0,1.0,0.0,2.0,0.0,0.0,1.0,0.0,1.0,2.0,0.0,0.0,0.0,0.0,0.0,1.0,2.0,0.0,1.0,9.0,0.0,7.0,0.0,2.0,0.0,0.0,1.0,1.0,3.0,2.0,8.0,28.0,0.0,1.0,0.0,0.0,1.0,0.0,1.0,1.0,0.0,9.0,0.0,3.0,0.0,0.0,1.0,1.0,0.0,0.0,1.0,0.0,0.0,0.0,1.0,0.0,5.0,0.0,1.0,1.0,0.0,1.0,1.0,1.0,0.0,0.0,0.0,8.0,0.0,0.0,0.0,0.0,1.0,0.0,0.0,0.0,0.0,0.0,1.0,1.0,1.0,0.0,6.0,0.0,0.0,1.0,0.0,2.0,0.0,0.0,0.0,0.0,1.0,0.0,0.0,0.0,0.0,1.0,0.0,0.0,0.0,0.0,1.0,1.0,0.0,1.0,0.0,0.0,0.0,0.0,3.0,0.0,4.0,0.0,0.0,0.0,0.0,0.0,0.0,0.0,4.0,1.0,2.0,0.0,4.0,0.0,3.0,0.0,3.0,1.0,0.0,1.0,1.0,1.0,0.0,1.0,0.0,0.0,0.0,0.0,2.0,1.0,1.0,1.0,0.0,1.0,0.0,0.0,3.0,1.0,0.0,1.0,1.0,2.0,0.0,2.0,0.0,4.0,1.0,1.0,1.0,5.0,0.0,2.0,0.0,29.0,0.0,7.0,2.0,0.0,0.0,0.0,1.0,0.0,1.0,2.0,1.0,1.0,0.0,0.0,0.0,1.0,0.0,1.0,1.0,0.0,0.0,0.0,0.0,0.0,0.0,13.0,1.0,0.0,3.0,0.0,0.0,0.0,5.0,1.0,0.0,0.0,2.0,0.0,1.0,0.0,5.0,0.0,4.0,0.0,0.0,1.0,0.0,1.0,3.0,0.0,0.0,1.0,1.0,1.0,0.0,0.0,1.0,0.0,1.0,1.0,1.0,0.0,1.0,1.0,0.0,6.0,0.0,0.0,1.0,4.0,0.0,1.0,2.0,0.0,1.0,2.0,2.0,0.0,0.0,0.0,0.0,1.0,0.0,1.0,0.0,4.0,1.0,1.0,1.0,0.0,10.0,0.0,0.0,0.0,0.0,0.0,34.0,0.0,0.0,0.0,0.0,0.0,2.0,33.0,1.0,1.0,0.0,0.0,0.0,0.0,0.0,1.0,3.0,0.0,1.0,0.0,2.0,1.0,0.0,1.0,4.0,1.0,0.0,0.0,0.0,1.0,1.0,1.0,3.0,1.0,2.0,0.0,1.0,0.0,0.0,1.0,0.0,1.0,0.0,1.0,3.0,1.0,0.0,0.0,0.0,0.0,0.0,0.0,0.0,0.0,2.0,1.0,0.0,0.0,2.0,2.0,0.0,0.0,0.0,0.0,3.0,0.0,0.0,0.0,0.0,0.0,0.0,1.0,0.0,0.0,0.0,1.0,1.0,2.0,0.0,0.0,0.0,0.0,0.0,1.0,2.0,1.0,1.0,0.0,0.0,0.0,0.0,0.0,0.0,2.0,0.0,0.0,0.0,1.0,0.0,0.0,1.0,20.0,0.0,6.0,1.0,0.0,1.0,0.0,1.0,0.0,0.0,0.0,0.0,0.0,1.0,0.0,0.0,0.0,0.0,0.0,0.0,0.0,0.0,0.0,1.0,0.0,0.0,1.0,0.0,0.0,0.0,1.0,0.0,6.0,0.0,0.0,0.0,0.0,3.0,1.0,0.0,0.0,1.0,1.0,5.0,0.0,2.0,0.0,0.0,0.0,0.0,0.0,0.0,0.0,0.0,0.0,0.0,3.0,0.0,1.0,0.0,19.0,0.0,0.0,0.0,1.0,0.0,0.0,0.0,0.0,0.0,1.0,1.0,2.0,0.0,5.0,0.0,1.0,6.0,4.0,0.0,1.0,0.0,3.0,1.0,0.0,1.0,4.0,0.0,1.0,0.0,0.0,0.0,0.0,0.0,0.0,0.0,0.0,2.0,0.0,0.0,1.0,0.0,1.0,5.0,0.0,4.0,1.0,0.0,1.0,0.0,17.0,2.0,5.0,0.0,0.0,0.0,3.0,0.0,0.0,0.0,1.0,0.0,0.0,0.0,3.0,0.0,0.0,0.0,2.0,0.0,21.0,0.0,0.0,0.0,0.0,4.0,2.0,0.0,2.0,0.0,0.0,0.0,0.0,0.0,0.0,1.0,0.0,0.0,0.0,1.0,0.0,0.0,0.0,0.0,2.0,2.0,3.0,4.0,0.0,1.0,4.0,0.0,2.0,0.0,2.0,0.0,0.0,7.0,0.0,0.0,1.0,0.0,16.0,0.0,0.0,0.0,0.0,0.0,0.0,0.0,0.0,0.0,0.0,4.0,0.0,1.0,0.0,0.0,0.0,1.0,0.0,8.0,0.0,0.0,0.0,0.0,1.0,3.0,0.0,0.0,3.0,1.0,0.0,1.0,0.0,0.0,2.0,6.0,0.0,0.0,1.0,0.0,0.0,1.0,7.0,1.0,0.0,3.0,15.0,0.0,0.0,0.0,0.0,0.0,1.0,0.0,1.0,0.0,0.0,0.0,0.0,0.0,0.0,0.0,1.0,0.0,0.0,6.0,0.0,10.0,0.0,0.0,0.0,0.0,1.0,0.0,0.0,0.0,1.0,0.0,0.0,0.0,0.0,1.0,3.0,1.0,0.0,0.0,18.0,0.0,4.0,0.0,0.0,0.0,0.0,0.0,0.0,0.0,2.0,4.0,0.0,1.0,1.0,0.0,1.0,1.0,0.0,0.0,2.0,1.0,1.0,1.0,1.0,0.0,0.0,0.0,13.0,1.0,0.0,5.0,1.0,2.0,1.0,3.0,0.0,0.0,3.0,1.0,0.0,0.0,0.0,1.0,0.0,0.0,0.0,0.0,0.0,0.0,0.0,0.0,0.0,0.0,2.0,0.0,0.0,0.0,0.0,2.0,5.0,0.0,0.0,1.0,0.0,0.0,0.0,0.0,0.0,0.0,0.0,0.0,0.0,0.0,0.0,1.0,1.0,1.0,1.0,0.0,0.0,0.0,1.0,2.0,0.0,1.0],\"x0\":\" \",\"xaxis\":\"x\",\"y\":[1.8049504989690386,0.4008751994062484,0.1417310074955908,0.05013009750556648,-0.10612500000000018,0.3600299234774444,-0.11335022016142261,0.22119869719291613,0.12227126523202028,1.5336449072799934,0.22476471154734712,0.8178417526028798,-2.793208007134409,-0.0199294947768639,1.4538959028216405,-6.882399716354525,0.130647806422291,0.5091725354721893,1.3086515623265622,0.3432027900308679,-0.12120249766573302,0.07642748507170394,1.2854296474358973,1.055981684981685,0.05028433140933145,1.1487462740718895,-0.9384555555555563,0.6696133690331776,1.158845644783773,0.2539804724778166,0.022540740740740736,0.5132719783002734,-0.48124585000666936,1.0793104548229548,0.13175061175695502,0.9945431158423649,0.8331169715407285,0.3019545546470088,0.24392973692973682,1.2682134316275853,1.8869397289309533,0.557396101557385,0.15939847500481827,0.09473180833815159,0.5911153125203156,-0.8825199559336816,0.22444228176938016,0.5584264272022178,2.7581632341354694,0.23965771245190154,0.4618433750239411,-0.18135903852250987,1.1974896214896213,-0.33373555491943774,1.5106975603146233,1.0068836984812368,-0.18617231635417458,0.11036411996216347,-0.061643185491260764,-1.1420813903121714,0.12913214285714286,0.5168469713989786,0.687877721331015,5.827717954822956,0.6720595138358534,0.3235340094278864,-0.4045967705826907,1.733495499085919,0.4854813610864091,0.4422900938041626,0.8580369569307353,-0.5246070917582507,-0.2227576520134331,1.1057104168543703,1.0872068485834145,1.5363789353728885,0.01909834541477797,0.9938161094566413,0.159421531447855,0.1642813841120258,0.12073180833815161,0.1530671881048747,-0.2634198213256022,0.37951286559350716,0.9631944096765986,0.24656224833782556,0.6589760314469065,0.0879277430099321,1.1124896214896214,-0.7498783790545203,-1.5972087896139135,-0.25866422340788003,0.4643646431873627,0.7961612804813947,1.9194391748755717,0.9177233269226679,-0.04606081793804657,-0.5412093991967125,-0.07110494037322142,0.8947392596574778,-0.08071566859066864,-0.012128968253968284,0.10594946706831034,1.6372993176417254,-14.162625628787941,-0.033098987992268826,0.11975061175695503,0.05018682016887573,0.17775061175695503,0.13434964609294403,0.9337108465064602,0.20362158079079992,1.589878840571905,-2.1588437053940783,-0.06144590828212396,-0.09300180952380957,0.8274896214896214,0.42923191734223554,1.0503198313280486,0.014860266511422601,-1.2679355082004546,2.004445371387871,-6.50257487294999,1.36253666584618,0.18129306584757987,0.25093462739619343,0.5920500000000003,0.5816845067034095,-13.507068190838561,0.04317402970455355,0.4195281516459786,0.07770871851332023,0.025905178674397702,0.15384221663333977,0.9061954988863774,-0.2591294261294267,-0.10027028428856523,0.6985159161482141,-0.6242087663296346,-17.004177045177045,-0.19807225699006797,0.19139391151275478,0.3143484750048184,-0.7537320335721378,0.016938512007730982,1.8054055091085703,-1.9264657899199564,0.09662083797997885,1.116185964534739,0.22743765392940582,1.0042690481200127,0.3942700266704478,0.3997691771160203,1.230666417147667,-0.162129426129427,0.2506513096267786,-0.02449610172945591,-0.3728789682539683,0.3095577279758797,-1.1990791966762337,0.7408512654772554,4.027862053494224,-4.988710350529101,-1.380012341968657,-0.08368471689879155,2.079937701065656,1.0488258410645546,2.110428538359789,-0.11585338235861829,0.3412344785305916,1.588609562791887,0.2922843314093314,1.335093091781476,1.2442986256704027,3.26550066652323,0.45973532144965074,0.40885318893889216,1.100763668815678,1.077041446593456,1.0187136688156784,0.4231156054415848,0.41682046655269595,2.696344256661589,0.535718671038887,2.4433725049604744,1.4626270504920251,-0.04813159063159093,0.4265495675382903,1.577870573870573,-8.527170429104395,0.14372926084359008,0.843414306551766,0.16518388756132596,0.5465476358241655,0.1461485478486412,-0.3232586423325968,-0.09459843275910342,-0.5072512343936257,2.88545808979823,1.1305053461199288,1.8669226050307621,0.0879545546470089,0.486519434730138,0.9904288910864679,2.291827944337773,0.9572100672242472,0.9168358541112974,-0.6940161762698335,-0.3463762558267141,0.7076421071842253,-3.1215596912999186,0.017615043646682503,0.13713214285714284,0.18271894547448922,1.7046675810685021,1.5855347428250253,0.9348736226455099,-0.17012592592592593,0.2790422208971768,0.42965036980682025,0.3779908767208053,0.10468312437726449,0.2354361073450361,1.0643666784575816,0.21606527836240166,-0.5118611456770431,0.21424871360285358,2.989384606064754,0.4058563390512499,0.11435383136958636,0.4284053071124962,0.4918661909702895,0.31943979104393105,0.5347384715620083,-1.0642181098006285,0.1764930658475799,2.402854022802261,2.2191724580547794,-1.2530624587685444,0.44589269185702113,0.027366990410941476,0.02776930712960368,0.7169278226208303,-3.6971294261294267,3.6577566449814967,7.144823591955764,0.7859948781325381,2.420769307129604,0.5074928240670676,-0.018124905823076586,0.47689671933529215,2.315055032411108,-0.7593879465057761,0.022812594176923415,-0.9745946928875039,0.38899234305645475,-2.2265914720851288,0.4814085279148711,0.5477412478603267,0.22671186926638323,0.12555426084358998,0.0968710317460317,0.1312843314093314,0.33012613816468367,0.4329357095450231,2.11030679335653,-0.27687028461095536,0.8153497049918544,0.16465107654690989,1.304207796117516,-0.5947621205725947,0.5610355169717514,-0.8281294261294271,0.2611127862388318,-0.44808566534717226,-2.3706201595143983,0.18886914179597106,0.021335128556765996,-0.32313144993730986,-2.7539305744305924,0.3550048528969492,0.22597148788585156,1.4832981812169317,3.0126291093409825,0.8657532897721925,-1.2564929577721302,1.006441848021024,1.3128711678799514,0.2786955889141061,0.2810549660730547,1.3026833540429144,0.05328119533847807,1.0252018490494832,0.9735956950549448,0.3841710071476466,-0.8553428906671445,-1.0755390082863954,0.6026473799654034,0.34761464746370063,-0.5194718261129316,1.9748415746971126,0.13524871360285354,0.17113214285714282,0.12128448960176001,0.6749612315067911,0.49541945944819454,1.4506351828610233,1.7356269424939723,0.674655096109964,1.1820016950200938,-0.1335948229565967,1.2341368583851444,-0.4532309299658434,0.6261274989618207,1.9122132978813207,0.575156288156288,0.5945983572252528,-0.07712073915640973,-0.08631037846516695,0.5222168365044298,0.47728143926278255,0.7975600118149365,0.24371556401660951,0.31124871360285356,-0.11487494670775769,0.22161085957693152,0.4107037978806271,1.0087844187709611,-4.866340509266265,1.7770054611360329,-3.692459478750223,3.612509562717671,0.9236193754096299,1.2211473027585769,1.8198000000000003,0.40040995012774133,0.04101234307680241,-1.6338823063641643,2.762710232655372,0.7953620534942244,-8.551634963706823,0.7476691723944218,0.04610555331262946,0.4404085279148712,0.12413214285714286,-0.639374608204029,0.16328433140933138,0.7719583221234729,0.2765977737378608,0.6161826872211592,-4.364090099185665,0.43520562354594045,-0.543501149313634,0.657552951631392,0.11471186926638334,0.01257605222996795,2.8306761144662707,1.388946768164757,0.7003831919201792,0.8128684093684092,0.4646959513525836,0.11970508204922212,-0.02208813073361676,-0.005355348082682414,0.561241947275603,1.2832991452991438,0.5105566866741013,3.162509562717671,0.09961849019659061,1.1711446646226247,0.9569986941428171,-0.21233041054185314,0.10082885766740307,2.462614617055194,2.1903349377199515,0.6160274861227603,-0.6687881283068772,0.40241939229024926,0.20143345550963201,1.0102071097813534,0.8995214667823642,-0.41357357279778206,0.16413214285714287,3.763616411032925,0.4827303012296119,0.3711026976285823,0.868869198710718,1.1561807668257666,0.16453647444189654,0.8031958091810723,0.4924005093714104,-2.042460378510379,1.823944561587747,0.44699024941586085,0.06487238192661923,2.913795218925842,1.2604206517362277,0.09470299270933594,0.9053963412525217,0.8751337558935791,0.28863661660779305,-0.10691308379810847,0.6939918423190722,0.3335140934523858,0.20243467955610114,0.36693764325305517,-0.36524621908167026,0.20831186926638326,1.067478554642632,0.09941412237487739,0.5010782920687701,-0.2837928059951404,0.0,0.3092069735829937,0.022087136352743578,0.5365556980550088,2.050823999027492,0.5724784822287947,3.270940757016353,-1.3213704138840705,0.4232241937746778,-0.04376206054830012,1.5890519014300777,1.1875572107058867,0.09606514167148493,0.4353780639473533,0.2871837304593555,0.9187646514490191,1.5239341335267034,-3.245805557702034,13.303323822267,1.5919964826553723,23.379472970011623,-0.21209412921269682,2.8412245247991157,1.4852149037033955,0.5536359911015062,-0.9929855528962617,1.2791196264037206,0.9199506665153845,2.2074231994718976,0.7659281834577167,-0.29316113703384983,0.10587103174603173,-0.21362896825396824,2.3674023267081585,0.4935607822141578,0.16929306584757986,0.9838229548229548,-0.6557950153202337,0.166204760458136,-0.3033116972890317,3.5170043904805417,0.8143488240898694,-0.2414556998608205,0.3565161410055618,1.6898296169775813,-0.7601445303649845,0.28290801319645714,0.06714749898958024,0.9283121865231571,1.9182019004743465,1.7164983172542339,0.6025287142676745,-0.482359506391996,0.7926117150887805,-1.5509339790438095,-0.3800204725913979,-0.43257010320115963,1.1384372376310805,-1.0512604740518847,3.3872010684588734,1.899602913171831,2.520728605757983,-13.522674772713241,1.6369594624080304,0.38504778722661387,0.4342020568611249,0.1562203301635485,0.14479464285714286,1.951373519345578,1.0512742454689454,0.4507415492339286,1.4155879752800216,0.04051406802364934,-0.058455357142857135,-0.18447193552630767,1.1086237437635023,0.9695353851414481,1.4585815893488445,0.5924727756276997,0.25444938466266886,0.6456497770416042,0.9645032367385813,0.8669953577958417,0.8920717943446961,0.3587253918821259,1.1427211319844588,1.1948089856369002,0.8385188003026592,-7.185539585293308,0.029205335394132954,0.17487727207632486,-0.5602505492435285,2.50590562131205,1.733967887935669,1.6954261987685337,-2.984666859252975,-0.028201300657055475,1.1303792641363921,1.2958926697568884,0.5941625485000622,1.2773225811808084,0.2907027234630951,0.40931509703920427,-1.5449666227535999,1.5309228467700942,-2.110705980458982,0.6428996538334083,0.7736103958149362,1.8423649642295166,0.21957283175477652,0.23693694266248044,-0.6016612527087172,1.6505898585978118,0.6356516407403182,-0.41400426623640896,-0.16737226613965742,1.0928302099262717,0.45838213605568157,0.5733936439921894,0.11142491348248693,2.6178571806652036,0.3615729965856311,-0.13904333333333346,3.1556834685861075,0.6187484685350909,0.3902812881562881,1.4463033460605177,-0.05963337725076852,-1.3472897673446282,3.9364334685861087,4.1987102326553725,0.48968963018224815,-1.4577055992231307,2.2410809062983135,-0.021148315638541818,-0.4140703631161253,0.9255290318119277,0.37524720389921157,1.0999686734455474,1.0421707554354742,0.23097298500642474,1.275767065927078,0.49935713028261425,0.4541696302826143,0.7221581451757081,0.12162773386034252,0.6658989849083721,1.9689103741503984,-0.9729213587553815,1.048908416453016,-0.14714328626034873,0.1255413576674031,0.5497582228497134,-7.630974639969065,1.038762651375759,0.11508394509028833,0.43870854895864225,0.13375061175695502,0.14219847500481828,-28.89454191020177,0.41886546361594773,0.8225805791735002,0.17175061175695502,1.1484666363802445,0.3193903486058465,-1.4389160549097115,-24.78075650064968,0.0519781788337016,0.9437387764514333,1.5376577332099401,0.2909330781293382,1.713006449540115,1.494407075655806,1.6059889858281966,-0.4538036952004642,-2.157231275822789,0.440155262168734,-0.18980369520046433,0.4275890123953172,5.825479032337478,0.3249698163157577,0.3780745679465012,5.919192451574312,-0.9896056096174789,0.2308989849083721,0.9545725758418403,-0.06715465465906643,0.6427527666522611,0.005641364923129054,-0.41243830435308976,0.31958417165474906,0.5798215018202362,0.04731678415325771,2.000512325510469,0.19675013316808368,0.4684268464762017,0.8261871142013326,0.16308394509028837,1.373449389739046,1.1836715311777053,-0.44075155419911705,0.23685343371110074,0.9211980237461235,-1.465867320296311,-0.02110200944828989,0.21017613476687283,0.4424016371630914,0.2877528344152491,0.30600645348467176,1.0341382984439005,1.2376141080748053,2.9484695468357502,-0.03913337725076853,0.16236650249182477,1.2309943679927893,0.3794266294206645,2.5504595717869,-0.3774729950328689,0.1895583790365236,0.535741558078165,1.7475910392003986,0.9479422840393826,2.0578882095935205,4.2286759711335336,0.2922937761976472,1.181103578261465,0.9779061900134886,0.54273768583817,1.737335589537179,0.13940503495826603,1.33194491725368,1.0358532557657953,0.5544100369430222,1.0765538268433608,0.527703692703786,0.01734082794767043,-0.023534242956087737,0.8291423090253465,0.7033919926026295,2.5567022659569503,0.14708394509028835,0.10539847500481829,1.8335876867759637,-0.0740018748747045,0.7111939484697095,-0.14485867534459557,0.0007318083381515963,1.0346603805011034,1.170909564983877,0.5887097613088733,1.5705227848065633,1.239219333200075,-0.3876335821594315,-0.0017200775874688487,-0.006872266139657452,0.1841830154392223,0.6820617098838948,1.102228482492378,1.0231239932229945,-0.19096197574888216,-6.016226015091626,0.48827398412434136,-1.7727476079270208,0.23916952033806577,1.2216375722753992,-0.07462753385106806,0.325027818885907,0.951918938305802,2.122865130755476,0.9469768890604296,0.4981578222566403,0.14210444565070565,1.9408505474852207,0.24243800056291243,0.9595238033044857,0.7328585412489628,0.7966628764049741,2.2440789839785964,0.6407502571544854,0.33450519724540306,1.098891616357831,0.11073180833815162,0.16440264120799836,-0.2717352291026203,0.04563177426438304,0.1821589073492646,0.6828989849083722,0.8116773252136753,0.02087067883370158,1.1585350496310838,1.0951676442075706,0.5047376858381699,-2.696849052508438,0.5580932413937256,-0.10768813073361673,0.7156746839409955,0.3031473991516652,-0.8603092735747613,-0.16164829427976732,0.17147569794190484,0.30549194518642353,0.4855316741530583,-0.2724822614782051,0.8458068518425746,1.5482410936863564,-0.4283244895937113,2.7375932981377082,0.4368219035214847,0.8356950853773498,0.30800597295134857,0.7846132060219603,0.42240597295134863,1.6775288783846873,-0.11055004391743523,0.07136662274923146,0.5100932413937256,-0.7094954770723472,0.11093352746954249,3.020596693288426,0.6152613755833086,-13.863622651810857,1.9451696145343365,0.5593217188185357,0.5310932413937255,3.034829764459014,0.8083543568640444,-0.11551434746675385,1.5413874193105108,0.430148611277276,0.13806514167148495,0.2516068798128613,0.5959488501306572,-0.9631293211662982,0.7325315132910108,-3.274111694906675,1.189930426473167,0.35719935953849336,-3.889130911704862,7.015370209370995,0.04346020141246855,1.071672305851916,0.15708394509028836,-1.372827499573443,0.1149997769487359,0.6267370312484759,-0.6834748470809697,-3.819700440322845,2.766989056725931,-0.15861348985776802,0.6427465324486135,1.0112941102913662,0.05921907218442928,0.9891262563186847,0.31624714506462964,1.2159443790488293,0.1649358146684233,0.8677370312484758,2.0359215491730156,0.612029642585521,1.725630186642274,3.798950572209959,1.4587497584313025,0.25241207256255654,-1.5645599168540003,1.5919909537391759,-1.466777300316573,1.1302265534360907,0.4843752926757767,-0.09497094580016299,0.9243249241832451,-7.948534096626358,-0.6967136758214636,-0.9368890300299016,0.376180246968904,0.5281095028434927,0.7682967555032504,1.7981039617008576,1.9296603250149191,0.36750278420856286,4.468403653951839,1.263905917537954,1.3318053804030923,1.1412734778376965,1.3474889319472076,0.01495343328036698,2.5536984068023285,0.1842040459941127,0.4933650649351556,1.0742505701289837,0.14721319448276934,-9.984412231971987,0.06636237166371492,0.6710230837216543,0.28264669817623567,0.2812916012294067,0.489471048124447,0.17568921916513724,0.11006514167148494,-0.8516533897960262,0.07070183039741229,0.9018238471793426,0.08641727842362167,0.04517867867426691,0.07214288537549395,-0.07263337725076857,0.01352154827203233,2.4891237493517413,4.456548957875166,0.6266960191715031,0.8994436622577631,0.27299309548732503,4.7924838284772875,7.735682479011156,0.886085164979841,-0.3478303854656638,1.383592650980078,-1.6658637933320037,-0.6381160155717857,1.6057142184598077,0.5125135871453516,-1.685576707451614,1.3497420882043965,-0.47069366123675155,0.7048727205989729,2.3565336213930013,0.1724172784236217,0.1710839450902884,-2.8669764217459694,0.8503448497970567,1.4569705947811513,0.17204076455105072,2.1797732318856964,-9.488537224205167,0.2706631015858873,-0.024368225735616988,2.375820567840425,0.2994723505634959,14.594129938283398,0.2937340833284881,0.3725394273356873,0.5400932413937256,1.57792322877812,0.4796960191715032,-1.7577122927163056,0.54247444861528,0.5400232011544952,2.6572852022750717,0.51142019144635,0.47169601917150317,1.3341493170404637,0.33597436792188884,7.573509198457653,0.22191186926638326,0.023015296824387785,0.23231186926638328,0.40355114510176865,0.7757754798371153,-0.6876333772507689,1.0334847053795384,0.3564000251682723,-0.3857464392934228,-0.17064690644323274,0.19916646364225388,0.8384664487943883,0.0762799224125312,0.08961662274923143,0.435308328207943,-2.812683810087824,1.9430362412211257,1.8851115198756268,1.6938810458604576,1.3927083756293124,2.091519855148847,-0.33846514488418683,-2.635052944334875,0.06527134424646458,0.7535536917792567,0.07567607698240914,-8.577948703213641,0.508357538251601,0.2859657027623112,-0.07786304729219887,2.589105927590914,3.4118294190561147,-0.05036057212386242,0.7147808076170835,-0.020219642361606636,1.9377837529302446,1.1157986081949376,0.23640059069208913,0.7499107533350411,0.0783182330592903,0.15308394509028836,0.8402726620081613,0.08129955967715477,1.003064429016148,2.4320188538723286,-2.5226250126662797,1.5187636920024299,-6.016235490838072,0.20037322615655948,0.5087945171792861,0.0727944005270092,1.0550408868728067,1.2160613230213255,0.5374969644204767,1.4414460090961336,0.5813525242782976,-0.14308817935488086,0.501725391882126,0.8426753324536638,0.6374120725625565,6.142418591430306,0.26190585312355247,-1.8223793211662984,0.0678850165002205,7.6812001655556195,0.44838779270567475,-8.807164025136379,1.158005006004445,-1.6746916717920572,0.6422726620081612,2.909059111922083,1.1257120435221866,0.19580481784917192,0.029935814668423356,0.4232726620081612,0.125750611756955,-0.680441638046685,1.5389073289423247,1.4721054490998184,3.1298582573430576,0.38070979263056615,0.22338651014223196,-0.17572007758746883,0.18031338321100243,0.15789597371339362,0.23287784600776593,-0.5010188594846742,0.11540145199351211,1.1278556214399245,0.1233903468100526,0.24479191244240583,1.356748053583089,0.41394445398463486,1.1901505236987886,-2.2386923898797777,4.410835952371675,0.7849505549971022,-0.06867050926341411,2.570201150306082,0.18241866920324887,0.9281579924808112,-0.243704346016184,0.22654532059968233,1.0407725057697435,2.8160090276511816,0.6132188819818033,1.076047959752216,1.146324277500996,2.2465205663800987,3.906961002846347,4.0247154002002015,1.1031519316461833,0.4111680719796013,1.254421453411033,0.6055032176921089,0.4524750380456541,0.25313794821735996,-0.06855004391743522,0.5935264435446324,0.5515509161852041,0.696316212747442,2.686572067354436,0.7814025607808919,0.8804174995381665,1.1140164251492728,0.8969142051449812,1.4751161938509973,0.15191319289351043,1.1362797335042873,0.12283834735147846,0.8032544670683104,0.23413270401711578,1.9242439623944658,0.24511186926638326,0.31851597686027927,0.12094508228543946,0.1364499560825648,0.24528960894741625,0.24591186926638325,0.5341592642685421,0.4907824662441031,2.252405180182538,0.11675263725176466,0.5378634876735773,-0.022079333150509604,1.3061830254667641,0.7392726620081612,2.3084714526794206,0.9231526114318148,0.396438049923743,0.5576960191715031,0.10045980628215413],\"y0\":\" \",\"yaxis\":\"y\"}],                        {\"boxmode\":\"group\",\"legend\":{\"tracegroupgap\":0},\"margin\":{\"t\":60},\"template\":{\"data\":{\"bar\":[{\"error_x\":{\"color\":\"#2a3f5f\"},\"error_y\":{\"color\":\"#2a3f5f\"},\"marker\":{\"line\":{\"color\":\"#E5ECF6\",\"width\":0.5},\"pattern\":{\"fillmode\":\"overlay\",\"size\":10,\"solidity\":0.2}},\"type\":\"bar\"}],\"barpolar\":[{\"marker\":{\"line\":{\"color\":\"#E5ECF6\",\"width\":0.5},\"pattern\":{\"fillmode\":\"overlay\",\"size\":10,\"solidity\":0.2}},\"type\":\"barpolar\"}],\"carpet\":[{\"aaxis\":{\"endlinecolor\":\"#2a3f5f\",\"gridcolor\":\"white\",\"linecolor\":\"white\",\"minorgridcolor\":\"white\",\"startlinecolor\":\"#2a3f5f\"},\"baxis\":{\"endlinecolor\":\"#2a3f5f\",\"gridcolor\":\"white\",\"linecolor\":\"white\",\"minorgridcolor\":\"white\",\"startlinecolor\":\"#2a3f5f\"},\"type\":\"carpet\"}],\"choropleth\":[{\"colorbar\":{\"outlinewidth\":0,\"ticks\":\"\"},\"type\":\"choropleth\"}],\"contour\":[{\"colorbar\":{\"outlinewidth\":0,\"ticks\":\"\"},\"colorscale\":[[0.0,\"#0d0887\"],[0.1111111111111111,\"#46039f\"],[0.2222222222222222,\"#7201a8\"],[0.3333333333333333,\"#9c179e\"],[0.4444444444444444,\"#bd3786\"],[0.5555555555555556,\"#d8576b\"],[0.6666666666666666,\"#ed7953\"],[0.7777777777777778,\"#fb9f3a\"],[0.8888888888888888,\"#fdca26\"],[1.0,\"#f0f921\"]],\"type\":\"contour\"}],\"contourcarpet\":[{\"colorbar\":{\"outlinewidth\":0,\"ticks\":\"\"},\"type\":\"contourcarpet\"}],\"heatmap\":[{\"colorbar\":{\"outlinewidth\":0,\"ticks\":\"\"},\"colorscale\":[[0.0,\"#0d0887\"],[0.1111111111111111,\"#46039f\"],[0.2222222222222222,\"#7201a8\"],[0.3333333333333333,\"#9c179e\"],[0.4444444444444444,\"#bd3786\"],[0.5555555555555556,\"#d8576b\"],[0.6666666666666666,\"#ed7953\"],[0.7777777777777778,\"#fb9f3a\"],[0.8888888888888888,\"#fdca26\"],[1.0,\"#f0f921\"]],\"type\":\"heatmap\"}],\"heatmapgl\":[{\"colorbar\":{\"outlinewidth\":0,\"ticks\":\"\"},\"colorscale\":[[0.0,\"#0d0887\"],[0.1111111111111111,\"#46039f\"],[0.2222222222222222,\"#7201a8\"],[0.3333333333333333,\"#9c179e\"],[0.4444444444444444,\"#bd3786\"],[0.5555555555555556,\"#d8576b\"],[0.6666666666666666,\"#ed7953\"],[0.7777777777777778,\"#fb9f3a\"],[0.8888888888888888,\"#fdca26\"],[1.0,\"#f0f921\"]],\"type\":\"heatmapgl\"}],\"histogram\":[{\"marker\":{\"pattern\":{\"fillmode\":\"overlay\",\"size\":10,\"solidity\":0.2}},\"type\":\"histogram\"}],\"histogram2d\":[{\"colorbar\":{\"outlinewidth\":0,\"ticks\":\"\"},\"colorscale\":[[0.0,\"#0d0887\"],[0.1111111111111111,\"#46039f\"],[0.2222222222222222,\"#7201a8\"],[0.3333333333333333,\"#9c179e\"],[0.4444444444444444,\"#bd3786\"],[0.5555555555555556,\"#d8576b\"],[0.6666666666666666,\"#ed7953\"],[0.7777777777777778,\"#fb9f3a\"],[0.8888888888888888,\"#fdca26\"],[1.0,\"#f0f921\"]],\"type\":\"histogram2d\"}],\"histogram2dcontour\":[{\"colorbar\":{\"outlinewidth\":0,\"ticks\":\"\"},\"colorscale\":[[0.0,\"#0d0887\"],[0.1111111111111111,\"#46039f\"],[0.2222222222222222,\"#7201a8\"],[0.3333333333333333,\"#9c179e\"],[0.4444444444444444,\"#bd3786\"],[0.5555555555555556,\"#d8576b\"],[0.6666666666666666,\"#ed7953\"],[0.7777777777777778,\"#fb9f3a\"],[0.8888888888888888,\"#fdca26\"],[1.0,\"#f0f921\"]],\"type\":\"histogram2dcontour\"}],\"mesh3d\":[{\"colorbar\":{\"outlinewidth\":0,\"ticks\":\"\"},\"type\":\"mesh3d\"}],\"parcoords\":[{\"line\":{\"colorbar\":{\"outlinewidth\":0,\"ticks\":\"\"}},\"type\":\"parcoords\"}],\"pie\":[{\"automargin\":true,\"type\":\"pie\"}],\"scatter\":[{\"marker\":{\"colorbar\":{\"outlinewidth\":0,\"ticks\":\"\"}},\"type\":\"scatter\"}],\"scatter3d\":[{\"line\":{\"colorbar\":{\"outlinewidth\":0,\"ticks\":\"\"}},\"marker\":{\"colorbar\":{\"outlinewidth\":0,\"ticks\":\"\"}},\"type\":\"scatter3d\"}],\"scattercarpet\":[{\"marker\":{\"colorbar\":{\"outlinewidth\":0,\"ticks\":\"\"}},\"type\":\"scattercarpet\"}],\"scattergeo\":[{\"marker\":{\"colorbar\":{\"outlinewidth\":0,\"ticks\":\"\"}},\"type\":\"scattergeo\"}],\"scattergl\":[{\"marker\":{\"colorbar\":{\"outlinewidth\":0,\"ticks\":\"\"}},\"type\":\"scattergl\"}],\"scattermapbox\":[{\"marker\":{\"colorbar\":{\"outlinewidth\":0,\"ticks\":\"\"}},\"type\":\"scattermapbox\"}],\"scatterpolar\":[{\"marker\":{\"colorbar\":{\"outlinewidth\":0,\"ticks\":\"\"}},\"type\":\"scatterpolar\"}],\"scatterpolargl\":[{\"marker\":{\"colorbar\":{\"outlinewidth\":0,\"ticks\":\"\"}},\"type\":\"scatterpolargl\"}],\"scatterternary\":[{\"marker\":{\"colorbar\":{\"outlinewidth\":0,\"ticks\":\"\"}},\"type\":\"scatterternary\"}],\"surface\":[{\"colorbar\":{\"outlinewidth\":0,\"ticks\":\"\"},\"colorscale\":[[0.0,\"#0d0887\"],[0.1111111111111111,\"#46039f\"],[0.2222222222222222,\"#7201a8\"],[0.3333333333333333,\"#9c179e\"],[0.4444444444444444,\"#bd3786\"],[0.5555555555555556,\"#d8576b\"],[0.6666666666666666,\"#ed7953\"],[0.7777777777777778,\"#fb9f3a\"],[0.8888888888888888,\"#fdca26\"],[1.0,\"#f0f921\"]],\"type\":\"surface\"}],\"table\":[{\"cells\":{\"fill\":{\"color\":\"#EBF0F8\"},\"line\":{\"color\":\"white\"}},\"header\":{\"fill\":{\"color\":\"#C8D4E3\"},\"line\":{\"color\":\"white\"}},\"type\":\"table\"}]},\"layout\":{\"annotationdefaults\":{\"arrowcolor\":\"#2a3f5f\",\"arrowhead\":0,\"arrowwidth\":1},\"autotypenumbers\":\"strict\",\"coloraxis\":{\"colorbar\":{\"outlinewidth\":0,\"ticks\":\"\"}},\"colorscale\":{\"diverging\":[[0,\"#8e0152\"],[0.1,\"#c51b7d\"],[0.2,\"#de77ae\"],[0.3,\"#f1b6da\"],[0.4,\"#fde0ef\"],[0.5,\"#f7f7f7\"],[0.6,\"#e6f5d0\"],[0.7,\"#b8e186\"],[0.8,\"#7fbc41\"],[0.9,\"#4d9221\"],[1,\"#276419\"]],\"sequential\":[[0.0,\"#0d0887\"],[0.1111111111111111,\"#46039f\"],[0.2222222222222222,\"#7201a8\"],[0.3333333333333333,\"#9c179e\"],[0.4444444444444444,\"#bd3786\"],[0.5555555555555556,\"#d8576b\"],[0.6666666666666666,\"#ed7953\"],[0.7777777777777778,\"#fb9f3a\"],[0.8888888888888888,\"#fdca26\"],[1.0,\"#f0f921\"]],\"sequentialminus\":[[0.0,\"#0d0887\"],[0.1111111111111111,\"#46039f\"],[0.2222222222222222,\"#7201a8\"],[0.3333333333333333,\"#9c179e\"],[0.4444444444444444,\"#bd3786\"],[0.5555555555555556,\"#d8576b\"],[0.6666666666666666,\"#ed7953\"],[0.7777777777777778,\"#fb9f3a\"],[0.8888888888888888,\"#fdca26\"],[1.0,\"#f0f921\"]]},\"colorway\":[\"#636efa\",\"#EF553B\",\"#00cc96\",\"#ab63fa\",\"#FFA15A\",\"#19d3f3\",\"#FF6692\",\"#B6E880\",\"#FF97FF\",\"#FECB52\"],\"font\":{\"color\":\"#2a3f5f\"},\"geo\":{\"bgcolor\":\"white\",\"lakecolor\":\"white\",\"landcolor\":\"#E5ECF6\",\"showlakes\":true,\"showland\":true,\"subunitcolor\":\"white\"},\"hoverlabel\":{\"align\":\"left\"},\"hovermode\":\"closest\",\"mapbox\":{\"style\":\"light\"},\"paper_bgcolor\":\"white\",\"plot_bgcolor\":\"#E5ECF6\",\"polar\":{\"angularaxis\":{\"gridcolor\":\"white\",\"linecolor\":\"white\",\"ticks\":\"\"},\"bgcolor\":\"#E5ECF6\",\"radialaxis\":{\"gridcolor\":\"white\",\"linecolor\":\"white\",\"ticks\":\"\"}},\"scene\":{\"xaxis\":{\"backgroundcolor\":\"#E5ECF6\",\"gridcolor\":\"white\",\"gridwidth\":2,\"linecolor\":\"white\",\"showbackground\":true,\"ticks\":\"\",\"zerolinecolor\":\"white\"},\"yaxis\":{\"backgroundcolor\":\"#E5ECF6\",\"gridcolor\":\"white\",\"gridwidth\":2,\"linecolor\":\"white\",\"showbackground\":true,\"ticks\":\"\",\"zerolinecolor\":\"white\"},\"zaxis\":{\"backgroundcolor\":\"#E5ECF6\",\"gridcolor\":\"white\",\"gridwidth\":2,\"linecolor\":\"white\",\"showbackground\":true,\"ticks\":\"\",\"zerolinecolor\":\"white\"}},\"shapedefaults\":{\"line\":{\"color\":\"#2a3f5f\"}},\"ternary\":{\"aaxis\":{\"gridcolor\":\"white\",\"linecolor\":\"white\",\"ticks\":\"\"},\"baxis\":{\"gridcolor\":\"white\",\"linecolor\":\"white\",\"ticks\":\"\"},\"bgcolor\":\"#E5ECF6\",\"caxis\":{\"gridcolor\":\"white\",\"linecolor\":\"white\",\"ticks\":\"\"}},\"title\":{\"x\":0.05},\"xaxis\":{\"automargin\":true,\"gridcolor\":\"white\",\"linecolor\":\"white\",\"ticks\":\"\",\"title\":{\"standoff\":15},\"zerolinecolor\":\"white\",\"zerolinewidth\":2},\"yaxis\":{\"automargin\":true,\"gridcolor\":\"white\",\"linecolor\":\"white\",\"ticks\":\"\",\"title\":{\"standoff\":15},\"zerolinecolor\":\"white\",\"zerolinewidth\":2}}},\"xaxis\":{\"anchor\":\"y\",\"domain\":[0.0,1.0],\"title\":{\"text\":\"DurationAsHour\"}},\"yaxis\":{\"anchor\":\"x\",\"domain\":[0.0,1.0],\"range\":[-1,40],\"title\":{\"text\":\"EstimationErrorInHours\"}}},                        {\"responsive\": true}                    ).then(function(){\n",
       "                            \n",
       "var gd = document.getElementById('ae5d4fd7-421f-4317-bebd-71f17a9da9fd');\n",
       "var x = new MutationObserver(function (mutations, observer) {{\n",
       "        var display = window.getComputedStyle(gd).display;\n",
       "        if (!display || display === 'none') {{\n",
       "            console.log([gd, 'removed!']);\n",
       "            Plotly.purge(gd);\n",
       "            observer.disconnect();\n",
       "        }}\n",
       "}});\n",
       "\n",
       "// Listen for the removal of the full notebook cells\n",
       "var notebookContainer = gd.closest('#notebook-container');\n",
       "if (notebookContainer) {{\n",
       "    x.observe(notebookContainer, {childList: true});\n",
       "}}\n",
       "\n",
       "// Listen for the clearing of the current output cell\n",
       "var outputEl = gd.closest('.output');\n",
       "if (outputEl) {{\n",
       "    x.observe(outputEl, {childList: true});\n",
       "}}\n",
       "\n",
       "                        })                };                });            </script>        </div>"
      ]
     },
     "metadata": {},
     "output_type": "display_data"
    }
   ],
   "source": [
    "first_40_hours = df[df[\"DurationAsHour\"]<41]\n",
    "\n",
    "fig = px.box(first_40_hours, x=\"DurationAsHour\", y=\"EstimationErrorInHours\")\n",
    "fig.update(layout_yaxis_range = [-1,40])\n",
    "\n",
    "fig.show()"
   ]
  },
  {
   "cell_type": "code",
   "execution_count": 122,
   "id": "b5cb53e8-aa22-4b2f-bcd0-6bab53e08e2f",
   "metadata": {},
   "outputs": [
    {
     "data": {
      "image/png": "[encoded data removed]",
      "text/plain": [
       "<Figure size 432x288 with 1 Axes>"
      ]
     },
     "metadata": {},
     "output_type": "display_data"
    }
   ],
   "source": [
    "plt.hist(df[\"EstimationErrorInHours\"], bins=40)\n",
    "plt.title(\"Distribution of the estimation error in hours\")\n",
    "plt.xlabel(\"value\")\n",
    "plt.ylabel(\"count\")\n",
    "plt.show()\n",
    "#plt"
   ]
  },
  {
   "cell_type": "code",
   "execution_count": 123,
   "id": "923fd10c-f653-40c0-983b-482cfde42896",
   "metadata": {},
   "outputs": [
    {
     "data": {
      "text/html": [
       "<div>\n",
       "<style scoped>\n",
       "    .dataframe tbody tr th:only-of-type {\n",
       "        vertical-align: middle;\n",
       "    }\n",
       "\n",
       "    .dataframe tbody tr th {\n",
       "        vertical-align: top;\n",
       "    }\n",
       "\n",
       "    .dataframe thead th {\n",
       "        text-align: right;\n",
       "    }\n",
       "</style>\n",
       "<table border=\"1\" class=\"dataframe\">\n",
       "  <thead>\n",
       "    <tr style=\"text-align: right;\">\n",
       "      <th></th>\n",
       "      <th>Name</th>\n",
       "      <th>Column</th>\n",
       "      <th>Color</th>\n",
       "      <th>Time spent</th>\n",
       "      <th>DurationInSeconds</th>\n",
       "      <th>EstimateInSeconds</th>\n",
       "      <th>EstimationErrorInSeconds</th>\n",
       "      <th>EstimationErrorInHours</th>\n",
       "    </tr>\n",
       "  </thead>\n",
       "  <tbody>\n",
       "    <tr>\n",
       "      <th>1256</th>\n",
       "      <td>Webseite: QA ausführen</td>\n",
       "      <td>8.2021</td>\n",
       "      <td>White</td>\n",
       "      <td>1.02</td>\n",
       "      <td>3672.0</td>\n",
       "      <td>1262.859842</td>\n",
       "      <td>-2409.140158</td>\n",
       "      <td>0.350794</td>\n",
       "    </tr>\n",
       "  </tbody>\n",
       "</table>\n",
       "</div>"
      ],
      "text/plain": [
       "                        Name  Column  Color  Time spent  DurationInSeconds  \\\n",
       "1256  Webseite: QA ausführen  8.2021  White        1.02             3672.0   \n",
       "\n",
       "      EstimateInSeconds  EstimationErrorInSeconds  EstimationErrorInHours  \n",
       "1256        1262.859842              -2409.140158                0.350794  "
      ]
     },
     "execution_count": 123,
     "metadata": {},
     "output_type": "execute_result"
    }
   ],
   "source": [
    "df2 = pd.read_csv(\"./output/A004_SWE-Archiv-2020_SWE-Archiv-2021_.csv\")\n",
    "df2['EstimationErrorInSeconds'] = df2.apply (lambda row: row[\"EstimateInSeconds\"] - row[\"DurationInSeconds\"], axis=1)\n",
    "df2['EstimationErrorInHours'] = df2.apply (lambda row: row[\"EstimateInSeconds\"]/60/60, axis=1)\n",
    "df2.tail(1)\n"
   ]
  },
  {
   "cell_type": "code",
   "execution_count": 124,
   "id": "dbd41ae6-3215-4211-a975-2c90c8e2b3fc",
   "metadata": {},
   "outputs": [
    {
     "data": {
      "image/png": "[encoded data removed]",
      "text/plain": [
       "<Figure size 432x288 with 1 Axes>"
      ]
     },
     "metadata": {},
     "output_type": "display_data"
    }
   ],
   "source": [
    "plt.hist(df2[\"EstimationErrorInHours\"], bins=40)\n",
    "plt.title(\"Distribution of the estimation error in hours\")\n",
    "plt.xlabel(\"value\")\n",
    "plt.ylabel(\"count\")\n",
    "plt.show()"
   ]
  }
 ],
 "metadata": {
  "kernelspec": {
   "display_name": "Python 3 (ipykernel)",
   "language": "python",
   "name": "python3"
  },
  "language_info": {
   "codemirror_mode": {
    "name": "ipython",
    "version": 3
   },
   "file_extension": ".py",
   "mimetype": "text/x-python",
   "name": "python",
   "nbconvert_exporter": "python",
   "pygments_lexer": "ipython3",
   "version": "3.8.10"
  }
 },
 "nbformat": 4,
 "nbformat_minor": 5
}
