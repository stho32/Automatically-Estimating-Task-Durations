{
 "cells": [
  {
   "cell_type": "markdown",
   "id": "9611cdbc-c625-4478-a971-1e5975de4830",
   "metadata": {
    "tags": []
   },
   "source": [
    "# Review an algorithm using jupyter lab"
   ]
  },
  {
   "cell_type": "code",
   "execution_count": 104,
   "id": "9fc089ee-0bab-4c0b-889a-498d5d4f3be3",
   "metadata": {},
   "outputs": [],
   "source": [
    "import pandas as pd\n",
    "import numpy as np\n",
    "import seaborn as sns                       #visualisation\n",
    "import matplotlib.pyplot as plt             #visualisation\n",
    "import os\n",
    "import plotly.graph_objects as go\n",
    "import plotly.express as px\n",
    "%matplotlib inline     \n",
    "sns.set(color_codes=True)"
   ]
  },
  {
   "cell_type": "code",
   "execution_count": 105,
   "id": "04591c5b-6a97-479e-82f4-75a72978eda7",
   "metadata": {},
   "outputs": [
    {
     "data": {
      "text/plain": [
       "'/home/shoff/Projekte/Automatically-Estimating-Task-Durations/Scripts'"
      ]
     },
     "execution_count": 105,
     "metadata": {},
     "output_type": "execute_result"
    }
   ],
   "source": [
    "%pwd"
   ]
  },
  {
   "cell_type": "code",
   "execution_count": 115,
   "id": "ba16880a-d6d2-4e67-9267-9ebb9166e2b4",
   "metadata": {},
   "outputs": [
    {
     "ename": "FileNotFoundError",
     "evalue": "[Errno 2] No such file or directory: './output/A004_SWE-Archiv-2020_SWE-Archiv-2020_.csv'",
     "output_type": "error",
     "traceback": [
      "\u001b[0;31m---------------------------------------------------------------------------\u001b[0m",
      "\u001b[0;31mFileNotFoundError\u001b[0m                         Traceback (most recent call last)",
      "\u001b[0;32m/tmp/ipykernel_21329/2028077700.py\u001b[0m in \u001b[0;36m<module>\u001b[0;34m\u001b[0m\n\u001b[0;32m----> 1\u001b[0;31m \u001b[0mdf\u001b[0m \u001b[0;34m=\u001b[0m \u001b[0mpd\u001b[0m\u001b[0;34m.\u001b[0m\u001b[0mread_csv\u001b[0m\u001b[0;34m(\u001b[0m\u001b[0;34m\"./output/A004_SWE-Archiv-2020_SWE-Archiv-2020_.csv\"\u001b[0m\u001b[0;34m)\u001b[0m\u001b[0;34m\u001b[0m\u001b[0;34m\u001b[0m\u001b[0m\n\u001b[0m\u001b[1;32m      2\u001b[0m \u001b[0mdf\u001b[0m\u001b[0;34m[\u001b[0m\u001b[0;34m'EstimationErrorInSeconds'\u001b[0m\u001b[0;34m]\u001b[0m \u001b[0;34m=\u001b[0m \u001b[0mdf\u001b[0m\u001b[0;34m.\u001b[0m\u001b[0mapply\u001b[0m \u001b[0;34m(\u001b[0m\u001b[0;32mlambda\u001b[0m \u001b[0mrow\u001b[0m\u001b[0;34m:\u001b[0m \u001b[0mrow\u001b[0m\u001b[0;34m[\u001b[0m\u001b[0;34m\"EstimateInSeconds\"\u001b[0m\u001b[0;34m]\u001b[0m \u001b[0;34m-\u001b[0m \u001b[0mrow\u001b[0m\u001b[0;34m[\u001b[0m\u001b[0;34m\"DurationInSeconds\"\u001b[0m\u001b[0;34m]\u001b[0m\u001b[0;34m,\u001b[0m \u001b[0maxis\u001b[0m\u001b[0;34m=\u001b[0m\u001b[0;36m1\u001b[0m\u001b[0;34m)\u001b[0m\u001b[0;34m\u001b[0m\u001b[0;34m\u001b[0m\u001b[0m\n\u001b[1;32m      3\u001b[0m \u001b[0mdf\u001b[0m\u001b[0;34m[\u001b[0m\u001b[0;34m'DurationInHours'\u001b[0m\u001b[0;34m]\u001b[0m \u001b[0;34m=\u001b[0m \u001b[0mdf\u001b[0m\u001b[0;34m.\u001b[0m\u001b[0mapply\u001b[0m \u001b[0;34m(\u001b[0m\u001b[0;32mlambda\u001b[0m \u001b[0mrow\u001b[0m\u001b[0;34m:\u001b[0m \u001b[0mrow\u001b[0m\u001b[0;34m[\u001b[0m\u001b[0;34m\"DurationInSeconds\"\u001b[0m\u001b[0;34m]\u001b[0m\u001b[0;34m/\u001b[0m\u001b[0;36m60\u001b[0m\u001b[0;34m/\u001b[0m\u001b[0;36m60\u001b[0m\u001b[0;34m,\u001b[0m \u001b[0maxis\u001b[0m\u001b[0;34m=\u001b[0m\u001b[0;36m1\u001b[0m\u001b[0;34m)\u001b[0m\u001b[0;34m\u001b[0m\u001b[0;34m\u001b[0m\u001b[0m\n\u001b[1;32m      4\u001b[0m \u001b[0mdf\u001b[0m\u001b[0;34m[\u001b[0m\u001b[0;34m'DurationAsHour'\u001b[0m\u001b[0;34m]\u001b[0m \u001b[0;34m=\u001b[0m \u001b[0mdf\u001b[0m\u001b[0;34m.\u001b[0m\u001b[0mapply\u001b[0m \u001b[0;34m(\u001b[0m\u001b[0;32mlambda\u001b[0m \u001b[0mrow\u001b[0m\u001b[0;34m:\u001b[0m \u001b[0mround\u001b[0m\u001b[0;34m(\u001b[0m\u001b[0mrow\u001b[0m\u001b[0;34m[\u001b[0m\u001b[0;34m\"DurationInSeconds\"\u001b[0m\u001b[0;34m]\u001b[0m\u001b[0;34m/\u001b[0m\u001b[0;36m60\u001b[0m\u001b[0;34m/\u001b[0m\u001b[0;36m60\u001b[0m\u001b[0;34m,\u001b[0m\u001b[0;36m0\u001b[0m\u001b[0;34m)\u001b[0m\u001b[0;34m,\u001b[0m \u001b[0maxis\u001b[0m\u001b[0;34m=\u001b[0m\u001b[0;36m1\u001b[0m\u001b[0;34m)\u001b[0m\u001b[0;34m\u001b[0m\u001b[0;34m\u001b[0m\u001b[0m\n\u001b[1;32m      5\u001b[0m \u001b[0mdf\u001b[0m\u001b[0;34m[\u001b[0m\u001b[0;34m'EstimationErrorInHours'\u001b[0m\u001b[0;34m]\u001b[0m \u001b[0;34m=\u001b[0m \u001b[0mdf\u001b[0m\u001b[0;34m.\u001b[0m\u001b[0mapply\u001b[0m \u001b[0;34m(\u001b[0m\u001b[0;32mlambda\u001b[0m \u001b[0mrow\u001b[0m\u001b[0;34m:\u001b[0m \u001b[0;34m(\u001b[0m\u001b[0mrow\u001b[0m\u001b[0;34m[\u001b[0m\u001b[0;34m\"EstimateInSeconds\"\u001b[0m\u001b[0;34m]\u001b[0m \u001b[0;34m-\u001b[0m \u001b[0mrow\u001b[0m\u001b[0;34m[\u001b[0m\u001b[0;34m\"DurationInSeconds\"\u001b[0m\u001b[0;34m]\u001b[0m\u001b[0;34m)\u001b[0m\u001b[0;34m/\u001b[0m\u001b[0;36m60\u001b[0m\u001b[0;34m/\u001b[0m\u001b[0;36m60\u001b[0m\u001b[0;34m,\u001b[0m \u001b[0maxis\u001b[0m\u001b[0;34m=\u001b[0m\u001b[0;36m1\u001b[0m\u001b[0;34m)\u001b[0m\u001b[0;34m\u001b[0m\u001b[0;34m\u001b[0m\u001b[0m\n",
      "\u001b[0;32m~/.local/lib/python3.8/site-packages/pandas/util/_decorators.py\u001b[0m in \u001b[0;36mwrapper\u001b[0;34m(*args, **kwargs)\u001b[0m\n\u001b[1;32m    309\u001b[0m                     \u001b[0mstacklevel\u001b[0m\u001b[0;34m=\u001b[0m\u001b[0mstacklevel\u001b[0m\u001b[0;34m,\u001b[0m\u001b[0;34m\u001b[0m\u001b[0;34m\u001b[0m\u001b[0m\n\u001b[1;32m    310\u001b[0m                 )\n\u001b[0;32m--> 311\u001b[0;31m             \u001b[0;32mreturn\u001b[0m \u001b[0mfunc\u001b[0m\u001b[0;34m(\u001b[0m\u001b[0;34m*\u001b[0m\u001b[0margs\u001b[0m\u001b[0;34m,\u001b[0m \u001b[0;34m**\u001b[0m\u001b[0mkwargs\u001b[0m\u001b[0;34m)\u001b[0m\u001b[0;34m\u001b[0m\u001b[0;34m\u001b[0m\u001b[0m\n\u001b[0m\u001b[1;32m    312\u001b[0m \u001b[0;34m\u001b[0m\u001b[0m\n\u001b[1;32m    313\u001b[0m         \u001b[0;32mreturn\u001b[0m \u001b[0mwrapper\u001b[0m\u001b[0;34m\u001b[0m\u001b[0;34m\u001b[0m\u001b[0m\n",
      "\u001b[0;32m~/.local/lib/python3.8/site-packages/pandas/io/parsers/readers.py\u001b[0m in \u001b[0;36mread_csv\u001b[0;34m(filepath_or_buffer, sep, delimiter, header, names, index_col, usecols, squeeze, prefix, mangle_dupe_cols, dtype, engine, converters, true_values, false_values, skipinitialspace, skiprows, skipfooter, nrows, na_values, keep_default_na, na_filter, verbose, skip_blank_lines, parse_dates, infer_datetime_format, keep_date_col, date_parser, dayfirst, cache_dates, iterator, chunksize, compression, thousands, decimal, lineterminator, quotechar, quoting, doublequote, escapechar, comment, encoding, encoding_errors, dialect, error_bad_lines, warn_bad_lines, on_bad_lines, delim_whitespace, low_memory, memory_map, float_precision, storage_options)\u001b[0m\n\u001b[1;32m    584\u001b[0m     \u001b[0mkwds\u001b[0m\u001b[0;34m.\u001b[0m\u001b[0mupdate\u001b[0m\u001b[0;34m(\u001b[0m\u001b[0mkwds_defaults\u001b[0m\u001b[0;34m)\u001b[0m\u001b[0;34m\u001b[0m\u001b[0;34m\u001b[0m\u001b[0m\n\u001b[1;32m    585\u001b[0m \u001b[0;34m\u001b[0m\u001b[0m\n\u001b[0;32m--> 586\u001b[0;31m     \u001b[0;32mreturn\u001b[0m \u001b[0m_read\u001b[0m\u001b[0;34m(\u001b[0m\u001b[0mfilepath_or_buffer\u001b[0m\u001b[0;34m,\u001b[0m \u001b[0mkwds\u001b[0m\u001b[0;34m)\u001b[0m\u001b[0;34m\u001b[0m\u001b[0;34m\u001b[0m\u001b[0m\n\u001b[0m\u001b[1;32m    587\u001b[0m \u001b[0;34m\u001b[0m\u001b[0m\n\u001b[1;32m    588\u001b[0m \u001b[0;34m\u001b[0m\u001b[0m\n",
      "\u001b[0;32m~/.local/lib/python3.8/site-packages/pandas/io/parsers/readers.py\u001b[0m in \u001b[0;36m_read\u001b[0;34m(filepath_or_buffer, kwds)\u001b[0m\n\u001b[1;32m    480\u001b[0m \u001b[0;34m\u001b[0m\u001b[0m\n\u001b[1;32m    481\u001b[0m     \u001b[0;31m# Create the parser.\u001b[0m\u001b[0;34m\u001b[0m\u001b[0;34m\u001b[0m\u001b[0;34m\u001b[0m\u001b[0m\n\u001b[0;32m--> 482\u001b[0;31m     \u001b[0mparser\u001b[0m \u001b[0;34m=\u001b[0m \u001b[0mTextFileReader\u001b[0m\u001b[0;34m(\u001b[0m\u001b[0mfilepath_or_buffer\u001b[0m\u001b[0;34m,\u001b[0m \u001b[0;34m**\u001b[0m\u001b[0mkwds\u001b[0m\u001b[0;34m)\u001b[0m\u001b[0;34m\u001b[0m\u001b[0;34m\u001b[0m\u001b[0m\n\u001b[0m\u001b[1;32m    483\u001b[0m \u001b[0;34m\u001b[0m\u001b[0m\n\u001b[1;32m    484\u001b[0m     \u001b[0;32mif\u001b[0m \u001b[0mchunksize\u001b[0m \u001b[0;32mor\u001b[0m \u001b[0miterator\u001b[0m\u001b[0;34m:\u001b[0m\u001b[0;34m\u001b[0m\u001b[0;34m\u001b[0m\u001b[0m\n",
      "\u001b[0;32m~/.local/lib/python3.8/site-packages/pandas/io/parsers/readers.py\u001b[0m in \u001b[0;36m__init__\u001b[0;34m(self, f, engine, **kwds)\u001b[0m\n\u001b[1;32m    809\u001b[0m             \u001b[0mself\u001b[0m\u001b[0;34m.\u001b[0m\u001b[0moptions\u001b[0m\u001b[0;34m[\u001b[0m\u001b[0;34m\"has_index_names\"\u001b[0m\u001b[0;34m]\u001b[0m \u001b[0;34m=\u001b[0m \u001b[0mkwds\u001b[0m\u001b[0;34m[\u001b[0m\u001b[0;34m\"has_index_names\"\u001b[0m\u001b[0;34m]\u001b[0m\u001b[0;34m\u001b[0m\u001b[0;34m\u001b[0m\u001b[0m\n\u001b[1;32m    810\u001b[0m \u001b[0;34m\u001b[0m\u001b[0m\n\u001b[0;32m--> 811\u001b[0;31m         \u001b[0mself\u001b[0m\u001b[0;34m.\u001b[0m\u001b[0m_engine\u001b[0m \u001b[0;34m=\u001b[0m \u001b[0mself\u001b[0m\u001b[0;34m.\u001b[0m\u001b[0m_make_engine\u001b[0m\u001b[0;34m(\u001b[0m\u001b[0mself\u001b[0m\u001b[0;34m.\u001b[0m\u001b[0mengine\u001b[0m\u001b[0;34m)\u001b[0m\u001b[0;34m\u001b[0m\u001b[0;34m\u001b[0m\u001b[0m\n\u001b[0m\u001b[1;32m    812\u001b[0m \u001b[0;34m\u001b[0m\u001b[0m\n\u001b[1;32m    813\u001b[0m     \u001b[0;32mdef\u001b[0m \u001b[0mclose\u001b[0m\u001b[0;34m(\u001b[0m\u001b[0mself\u001b[0m\u001b[0;34m)\u001b[0m\u001b[0;34m:\u001b[0m\u001b[0;34m\u001b[0m\u001b[0;34m\u001b[0m\u001b[0m\n",
      "\u001b[0;32m~/.local/lib/python3.8/site-packages/pandas/io/parsers/readers.py\u001b[0m in \u001b[0;36m_make_engine\u001b[0;34m(self, engine)\u001b[0m\n\u001b[1;32m   1038\u001b[0m             )\n\u001b[1;32m   1039\u001b[0m         \u001b[0;31m# error: Too many arguments for \"ParserBase\"\u001b[0m\u001b[0;34m\u001b[0m\u001b[0;34m\u001b[0m\u001b[0;34m\u001b[0m\u001b[0m\n\u001b[0;32m-> 1040\u001b[0;31m         \u001b[0;32mreturn\u001b[0m \u001b[0mmapping\u001b[0m\u001b[0;34m[\u001b[0m\u001b[0mengine\u001b[0m\u001b[0;34m]\u001b[0m\u001b[0;34m(\u001b[0m\u001b[0mself\u001b[0m\u001b[0;34m.\u001b[0m\u001b[0mf\u001b[0m\u001b[0;34m,\u001b[0m \u001b[0;34m**\u001b[0m\u001b[0mself\u001b[0m\u001b[0;34m.\u001b[0m\u001b[0moptions\u001b[0m\u001b[0;34m)\u001b[0m  \u001b[0;31m# type: ignore[call-arg]\u001b[0m\u001b[0;34m\u001b[0m\u001b[0;34m\u001b[0m\u001b[0m\n\u001b[0m\u001b[1;32m   1041\u001b[0m \u001b[0;34m\u001b[0m\u001b[0m\n\u001b[1;32m   1042\u001b[0m     \u001b[0;32mdef\u001b[0m \u001b[0m_failover_to_python\u001b[0m\u001b[0;34m(\u001b[0m\u001b[0mself\u001b[0m\u001b[0;34m)\u001b[0m\u001b[0;34m:\u001b[0m\u001b[0;34m\u001b[0m\u001b[0;34m\u001b[0m\u001b[0m\n",
      "\u001b[0;32m~/.local/lib/python3.8/site-packages/pandas/io/parsers/c_parser_wrapper.py\u001b[0m in \u001b[0;36m__init__\u001b[0;34m(self, src, **kwds)\u001b[0m\n\u001b[1;32m     49\u001b[0m \u001b[0;34m\u001b[0m\u001b[0m\n\u001b[1;32m     50\u001b[0m         \u001b[0;31m# open handles\u001b[0m\u001b[0;34m\u001b[0m\u001b[0;34m\u001b[0m\u001b[0;34m\u001b[0m\u001b[0m\n\u001b[0;32m---> 51\u001b[0;31m         \u001b[0mself\u001b[0m\u001b[0;34m.\u001b[0m\u001b[0m_open_handles\u001b[0m\u001b[0;34m(\u001b[0m\u001b[0msrc\u001b[0m\u001b[0;34m,\u001b[0m \u001b[0mkwds\u001b[0m\u001b[0;34m)\u001b[0m\u001b[0;34m\u001b[0m\u001b[0;34m\u001b[0m\u001b[0m\n\u001b[0m\u001b[1;32m     52\u001b[0m         \u001b[0;32massert\u001b[0m \u001b[0mself\u001b[0m\u001b[0;34m.\u001b[0m\u001b[0mhandles\u001b[0m \u001b[0;32mis\u001b[0m \u001b[0;32mnot\u001b[0m \u001b[0;32mNone\u001b[0m\u001b[0;34m\u001b[0m\u001b[0;34m\u001b[0m\u001b[0m\n\u001b[1;32m     53\u001b[0m \u001b[0;34m\u001b[0m\u001b[0m\n",
      "\u001b[0;32m~/.local/lib/python3.8/site-packages/pandas/io/parsers/base_parser.py\u001b[0m in \u001b[0;36m_open_handles\u001b[0;34m(self, src, kwds)\u001b[0m\n\u001b[1;32m    220\u001b[0m         \u001b[0mLet\u001b[0m \u001b[0mthe\u001b[0m \u001b[0mreaders\u001b[0m \u001b[0mopen\u001b[0m \u001b[0mIOHandles\u001b[0m \u001b[0mafter\u001b[0m \u001b[0mthey\u001b[0m \u001b[0mare\u001b[0m \u001b[0mdone\u001b[0m \u001b[0;32mwith\u001b[0m \u001b[0mtheir\u001b[0m \u001b[0mpotential\u001b[0m \u001b[0mraises\u001b[0m\u001b[0;34m.\u001b[0m\u001b[0;34m\u001b[0m\u001b[0;34m\u001b[0m\u001b[0m\n\u001b[1;32m    221\u001b[0m         \"\"\"\n\u001b[0;32m--> 222\u001b[0;31m         self.handles = get_handle(\n\u001b[0m\u001b[1;32m    223\u001b[0m             \u001b[0msrc\u001b[0m\u001b[0;34m,\u001b[0m\u001b[0;34m\u001b[0m\u001b[0;34m\u001b[0m\u001b[0m\n\u001b[1;32m    224\u001b[0m             \u001b[0;34m\"r\"\u001b[0m\u001b[0;34m,\u001b[0m\u001b[0;34m\u001b[0m\u001b[0;34m\u001b[0m\u001b[0m\n",
      "\u001b[0;32m~/.local/lib/python3.8/site-packages/pandas/io/common.py\u001b[0m in \u001b[0;36mget_handle\u001b[0;34m(path_or_buf, mode, encoding, compression, memory_map, is_text, errors, storage_options)\u001b[0m\n\u001b[1;32m    699\u001b[0m         \u001b[0;32mif\u001b[0m \u001b[0mioargs\u001b[0m\u001b[0;34m.\u001b[0m\u001b[0mencoding\u001b[0m \u001b[0;32mand\u001b[0m \u001b[0;34m\"b\"\u001b[0m \u001b[0;32mnot\u001b[0m \u001b[0;32min\u001b[0m \u001b[0mioargs\u001b[0m\u001b[0;34m.\u001b[0m\u001b[0mmode\u001b[0m\u001b[0;34m:\u001b[0m\u001b[0;34m\u001b[0m\u001b[0;34m\u001b[0m\u001b[0m\n\u001b[1;32m    700\u001b[0m             \u001b[0;31m# Encoding\u001b[0m\u001b[0;34m\u001b[0m\u001b[0;34m\u001b[0m\u001b[0;34m\u001b[0m\u001b[0m\n\u001b[0;32m--> 701\u001b[0;31m             handle = open(\n\u001b[0m\u001b[1;32m    702\u001b[0m                 \u001b[0mhandle\u001b[0m\u001b[0;34m,\u001b[0m\u001b[0;34m\u001b[0m\u001b[0;34m\u001b[0m\u001b[0m\n\u001b[1;32m    703\u001b[0m                 \u001b[0mioargs\u001b[0m\u001b[0;34m.\u001b[0m\u001b[0mmode\u001b[0m\u001b[0;34m,\u001b[0m\u001b[0;34m\u001b[0m\u001b[0;34m\u001b[0m\u001b[0m\n",
      "\u001b[0;31mFileNotFoundError\u001b[0m: [Errno 2] No such file or directory: './output/A004_SWE-Archiv-2020_SWE-Archiv-2020_.csv'"
     ]
    }
   ],
   "source": [
    "df = pd.read_csv(\"./output/A004_SWE-Archiv-2020_SWE-Archiv-2020_.csv\")\n",
    "df['EstimationErrorInSeconds'] = df.apply (lambda row: row[\"EstimateInSeconds\"] - row[\"DurationInSeconds\"], axis=1)\n",
    "df['DurationInHours'] = df.apply (lambda row: row[\"DurationInSeconds\"]/60/60, axis=1)\n",
    "df['DurationAsHour'] = df.apply (lambda row: round(row[\"DurationInSeconds\"]/60/60,0), axis=1)\n",
    "df['EstimationErrorInHours'] = df.apply (lambda row: (row[\"EstimateInSeconds\"] - row[\"DurationInSeconds\"])/60/60, axis=1)\n",
    "df.tail(1)\n"
   ]
  },
  {
   "cell_type": "code",
   "execution_count": 107,
   "id": "638bbced-4e20-4292-9006-0871ee2b5502",
   "metadata": {},
   "outputs": [
    {
     "data": {
      "text/html": [
       "<div>\n",
       "<style scoped>\n",
       "    .dataframe tbody tr th:only-of-type {\n",
       "        vertical-align: middle;\n",
       "    }\n",
       "\n",
       "    .dataframe tbody tr th {\n",
       "        vertical-align: top;\n",
       "    }\n",
       "\n",
       "    .dataframe thead th {\n",
       "        text-align: right;\n",
       "    }\n",
       "</style>\n",
       "<table border=\"1\" class=\"dataframe\">\n",
       "  <thead>\n",
       "    <tr style=\"text-align: right;\">\n",
       "      <th></th>\n",
       "      <th>task_duration_in_about_hours</th>\n",
       "      <th>taskCount</th>\n",
       "      <th>mean</th>\n",
       "      <th>standard_deviation</th>\n",
       "      <th>standard_deviation_minus</th>\n",
       "      <th>standard_deviation_plus</th>\n",
       "    </tr>\n",
       "  </thead>\n",
       "  <tbody>\n",
       "    <tr>\n",
       "      <th>0</th>\n",
       "      <td>0</td>\n",
       "      <td>592</td>\n",
       "      <td>1.134883</td>\n",
       "      <td>1.443164</td>\n",
       "      <td>-0.308281</td>\n",
       "      <td>2.578047</td>\n",
       "    </tr>\n",
       "    <tr>\n",
       "      <th>1</th>\n",
       "      <td>1</td>\n",
       "      <td>241</td>\n",
       "      <td>1.424227</td>\n",
       "      <td>1.276825</td>\n",
       "      <td>0.147402</td>\n",
       "      <td>2.701052</td>\n",
       "    </tr>\n",
       "    <tr>\n",
       "      <th>2</th>\n",
       "      <td>2</td>\n",
       "      <td>64</td>\n",
       "      <td>2.424928</td>\n",
       "      <td>1.403545</td>\n",
       "      <td>1.021383</td>\n",
       "      <td>3.828473</td>\n",
       "    </tr>\n",
       "    <tr>\n",
       "      <th>3</th>\n",
       "      <td>3</td>\n",
       "      <td>39</td>\n",
       "      <td>2.625373</td>\n",
       "      <td>1.271473</td>\n",
       "      <td>1.353900</td>\n",
       "      <td>3.896846</td>\n",
       "    </tr>\n",
       "    <tr>\n",
       "      <th>4</th>\n",
       "      <td>4</td>\n",
       "      <td>21</td>\n",
       "      <td>3.408712</td>\n",
       "      <td>2.375001</td>\n",
       "      <td>1.033711</td>\n",
       "      <td>5.783713</td>\n",
       "    </tr>\n",
       "    <tr>\n",
       "      <th>5</th>\n",
       "      <td>5</td>\n",
       "      <td>12</td>\n",
       "      <td>4.216219</td>\n",
       "      <td>1.540982</td>\n",
       "      <td>2.675237</td>\n",
       "      <td>5.757201</td>\n",
       "    </tr>\n",
       "    <tr>\n",
       "      <th>6</th>\n",
       "      <td>6</td>\n",
       "      <td>11</td>\n",
       "      <td>3.391010</td>\n",
       "      <td>0.848564</td>\n",
       "      <td>2.542446</td>\n",
       "      <td>4.239574</td>\n",
       "    </tr>\n",
       "    <tr>\n",
       "      <th>7</th>\n",
       "      <td>7</td>\n",
       "      <td>5</td>\n",
       "      <td>4.910909</td>\n",
       "      <td>1.328106</td>\n",
       "      <td>3.582803</td>\n",
       "      <td>6.239016</td>\n",
       "    </tr>\n",
       "    <tr>\n",
       "      <th>8</th>\n",
       "      <td>8</td>\n",
       "      <td>5</td>\n",
       "      <td>8.667462</td>\n",
       "      <td>4.305842</td>\n",
       "      <td>4.361620</td>\n",
       "      <td>12.973304</td>\n",
       "    </tr>\n",
       "    <tr>\n",
       "      <th>9</th>\n",
       "      <td>9</td>\n",
       "      <td>2</td>\n",
       "      <td>4.278785</td>\n",
       "      <td>0.513537</td>\n",
       "      <td>3.765248</td>\n",
       "      <td>4.792321</td>\n",
       "    </tr>\n",
       "    <tr>\n",
       "      <th>10</th>\n",
       "      <td>10</td>\n",
       "      <td>3</td>\n",
       "      <td>3.336072</td>\n",
       "      <td>0.939938</td>\n",
       "      <td>2.396134</td>\n",
       "      <td>4.276010</td>\n",
       "    </tr>\n",
       "    <tr>\n",
       "      <th>11</th>\n",
       "      <td>11</td>\n",
       "      <td>1</td>\n",
       "      <td>9.765612</td>\n",
       "      <td>NaN</td>\n",
       "      <td>NaN</td>\n",
       "      <td>NaN</td>\n",
       "    </tr>\n",
       "    <tr>\n",
       "      <th>12</th>\n",
       "      <td>12</td>\n",
       "      <td>1</td>\n",
       "      <td>4.995600</td>\n",
       "      <td>NaN</td>\n",
       "      <td>NaN</td>\n",
       "      <td>NaN</td>\n",
       "    </tr>\n",
       "    <tr>\n",
       "      <th>13</th>\n",
       "      <td>13</td>\n",
       "      <td>3</td>\n",
       "      <td>9.726758</td>\n",
       "      <td>3.041737</td>\n",
       "      <td>6.685022</td>\n",
       "      <td>12.768495</td>\n",
       "    </tr>\n",
       "    <tr>\n",
       "      <th>14</th>\n",
       "      <td>14</td>\n",
       "      <td>0</td>\n",
       "      <td>NaN</td>\n",
       "      <td>NaN</td>\n",
       "      <td>NaN</td>\n",
       "      <td>NaN</td>\n",
       "    </tr>\n",
       "    <tr>\n",
       "      <th>15</th>\n",
       "      <td>15</td>\n",
       "      <td>1</td>\n",
       "      <td>6.793051</td>\n",
       "      <td>NaN</td>\n",
       "      <td>NaN</td>\n",
       "      <td>NaN</td>\n",
       "    </tr>\n",
       "    <tr>\n",
       "      <th>16</th>\n",
       "      <td>16</td>\n",
       "      <td>1</td>\n",
       "      <td>6.070463</td>\n",
       "      <td>NaN</td>\n",
       "      <td>NaN</td>\n",
       "      <td>NaN</td>\n",
       "    </tr>\n",
       "    <tr>\n",
       "      <th>17</th>\n",
       "      <td>17</td>\n",
       "      <td>1</td>\n",
       "      <td>9.372466</td>\n",
       "      <td>NaN</td>\n",
       "      <td>NaN</td>\n",
       "      <td>NaN</td>\n",
       "    </tr>\n",
       "    <tr>\n",
       "      <th>18</th>\n",
       "      <td>18</td>\n",
       "      <td>4</td>\n",
       "      <td>8.751082</td>\n",
       "      <td>3.986054</td>\n",
       "      <td>4.765028</td>\n",
       "      <td>12.737136</td>\n",
       "    </tr>\n",
       "    <tr>\n",
       "      <th>19</th>\n",
       "      <td>19</td>\n",
       "      <td>1</td>\n",
       "      <td>4.729377</td>\n",
       "      <td>NaN</td>\n",
       "      <td>NaN</td>\n",
       "      <td>NaN</td>\n",
       "    </tr>\n",
       "    <tr>\n",
       "      <th>20</th>\n",
       "      <td>20</td>\n",
       "      <td>2</td>\n",
       "      <td>10.642353</td>\n",
       "      <td>5.346323</td>\n",
       "      <td>5.296030</td>\n",
       "      <td>15.988676</td>\n",
       "    </tr>\n",
       "    <tr>\n",
       "      <th>21</th>\n",
       "      <td>21</td>\n",
       "      <td>1</td>\n",
       "      <td>10.635588</td>\n",
       "      <td>NaN</td>\n",
       "      <td>NaN</td>\n",
       "      <td>NaN</td>\n",
       "    </tr>\n",
       "    <tr>\n",
       "      <th>22</th>\n",
       "      <td>22</td>\n",
       "      <td>0</td>\n",
       "      <td>NaN</td>\n",
       "      <td>NaN</td>\n",
       "      <td>NaN</td>\n",
       "      <td>NaN</td>\n",
       "    </tr>\n",
       "    <tr>\n",
       "      <th>23</th>\n",
       "      <td>23</td>\n",
       "      <td>0</td>\n",
       "      <td>NaN</td>\n",
       "      <td>NaN</td>\n",
       "      <td>NaN</td>\n",
       "      <td>NaN</td>\n",
       "    </tr>\n",
       "    <tr>\n",
       "      <th>24</th>\n",
       "      <td>24</td>\n",
       "      <td>0</td>\n",
       "      <td>NaN</td>\n",
       "      <td>NaN</td>\n",
       "      <td>NaN</td>\n",
       "      <td>NaN</td>\n",
       "    </tr>\n",
       "    <tr>\n",
       "      <th>25</th>\n",
       "      <td>25</td>\n",
       "      <td>0</td>\n",
       "      <td>NaN</td>\n",
       "      <td>NaN</td>\n",
       "      <td>NaN</td>\n",
       "      <td>NaN</td>\n",
       "    </tr>\n",
       "    <tr>\n",
       "      <th>26</th>\n",
       "      <td>26</td>\n",
       "      <td>0</td>\n",
       "      <td>NaN</td>\n",
       "      <td>NaN</td>\n",
       "      <td>NaN</td>\n",
       "      <td>NaN</td>\n",
       "    </tr>\n",
       "    <tr>\n",
       "      <th>27</th>\n",
       "      <td>27</td>\n",
       "      <td>0</td>\n",
       "      <td>NaN</td>\n",
       "      <td>NaN</td>\n",
       "      <td>NaN</td>\n",
       "      <td>NaN</td>\n",
       "    </tr>\n",
       "    <tr>\n",
       "      <th>28</th>\n",
       "      <td>28</td>\n",
       "      <td>1</td>\n",
       "      <td>19.782365</td>\n",
       "      <td>NaN</td>\n",
       "      <td>NaN</td>\n",
       "      <td>NaN</td>\n",
       "    </tr>\n",
       "    <tr>\n",
       "      <th>29</th>\n",
       "      <td>29</td>\n",
       "      <td>1</td>\n",
       "      <td>14.988325</td>\n",
       "      <td>NaN</td>\n",
       "      <td>NaN</td>\n",
       "      <td>NaN</td>\n",
       "    </tr>\n",
       "    <tr>\n",
       "      <th>30</th>\n",
       "      <td>30</td>\n",
       "      <td>0</td>\n",
       "      <td>NaN</td>\n",
       "      <td>NaN</td>\n",
       "      <td>NaN</td>\n",
       "      <td>NaN</td>\n",
       "    </tr>\n",
       "    <tr>\n",
       "      <th>31</th>\n",
       "      <td>31</td>\n",
       "      <td>0</td>\n",
       "      <td>NaN</td>\n",
       "      <td>NaN</td>\n",
       "      <td>NaN</td>\n",
       "      <td>NaN</td>\n",
       "    </tr>\n",
       "    <tr>\n",
       "      <th>32</th>\n",
       "      <td>32</td>\n",
       "      <td>0</td>\n",
       "      <td>NaN</td>\n",
       "      <td>NaN</td>\n",
       "      <td>NaN</td>\n",
       "      <td>NaN</td>\n",
       "    </tr>\n",
       "    <tr>\n",
       "      <th>33</th>\n",
       "      <td>33</td>\n",
       "      <td>1</td>\n",
       "      <td>8.012243</td>\n",
       "      <td>NaN</td>\n",
       "      <td>NaN</td>\n",
       "      <td>NaN</td>\n",
       "    </tr>\n",
       "    <tr>\n",
       "      <th>34</th>\n",
       "      <td>34</td>\n",
       "      <td>1</td>\n",
       "      <td>4.889458</td>\n",
       "      <td>NaN</td>\n",
       "      <td>NaN</td>\n",
       "      <td>NaN</td>\n",
       "    </tr>\n",
       "    <tr>\n",
       "      <th>35</th>\n",
       "      <td>35</td>\n",
       "      <td>0</td>\n",
       "      <td>NaN</td>\n",
       "      <td>NaN</td>\n",
       "      <td>NaN</td>\n",
       "      <td>NaN</td>\n",
       "    </tr>\n",
       "    <tr>\n",
       "      <th>36</th>\n",
       "      <td>36</td>\n",
       "      <td>0</td>\n",
       "      <td>NaN</td>\n",
       "      <td>NaN</td>\n",
       "      <td>NaN</td>\n",
       "      <td>NaN</td>\n",
       "    </tr>\n",
       "    <tr>\n",
       "      <th>37</th>\n",
       "      <td>37</td>\n",
       "      <td>1</td>\n",
       "      <td>19.920823</td>\n",
       "      <td>NaN</td>\n",
       "      <td>NaN</td>\n",
       "      <td>NaN</td>\n",
       "    </tr>\n",
       "    <tr>\n",
       "      <th>38</th>\n",
       "      <td>38</td>\n",
       "      <td>0</td>\n",
       "      <td>NaN</td>\n",
       "      <td>NaN</td>\n",
       "      <td>NaN</td>\n",
       "      <td>NaN</td>\n",
       "    </tr>\n",
       "    <tr>\n",
       "      <th>39</th>\n",
       "      <td>39</td>\n",
       "      <td>0</td>\n",
       "      <td>NaN</td>\n",
       "      <td>NaN</td>\n",
       "      <td>NaN</td>\n",
       "      <td>NaN</td>\n",
       "    </tr>\n",
       "  </tbody>\n",
       "</table>\n",
       "</div>"
      ],
      "text/plain": [
       "    task_duration_in_about_hours  taskCount       mean  standard_deviation  \\\n",
       "0                              0        592   1.134883            1.443164   \n",
       "1                              1        241   1.424227            1.276825   \n",
       "2                              2         64   2.424928            1.403545   \n",
       "3                              3         39   2.625373            1.271473   \n",
       "4                              4         21   3.408712            2.375001   \n",
       "5                              5         12   4.216219            1.540982   \n",
       "6                              6         11   3.391010            0.848564   \n",
       "7                              7          5   4.910909            1.328106   \n",
       "8                              8          5   8.667462            4.305842   \n",
       "9                              9          2   4.278785            0.513537   \n",
       "10                            10          3   3.336072            0.939938   \n",
       "11                            11          1   9.765612                 NaN   \n",
       "12                            12          1   4.995600                 NaN   \n",
       "13                            13          3   9.726758            3.041737   \n",
       "14                            14          0        NaN                 NaN   \n",
       "15                            15          1   6.793051                 NaN   \n",
       "16                            16          1   6.070463                 NaN   \n",
       "17                            17          1   9.372466                 NaN   \n",
       "18                            18          4   8.751082            3.986054   \n",
       "19                            19          1   4.729377                 NaN   \n",
       "20                            20          2  10.642353            5.346323   \n",
       "21                            21          1  10.635588                 NaN   \n",
       "22                            22          0        NaN                 NaN   \n",
       "23                            23          0        NaN                 NaN   \n",
       "24                            24          0        NaN                 NaN   \n",
       "25                            25          0        NaN                 NaN   \n",
       "26                            26          0        NaN                 NaN   \n",
       "27                            27          0        NaN                 NaN   \n",
       "28                            28          1  19.782365                 NaN   \n",
       "29                            29          1  14.988325                 NaN   \n",
       "30                            30          0        NaN                 NaN   \n",
       "31                            31          0        NaN                 NaN   \n",
       "32                            32          0        NaN                 NaN   \n",
       "33                            33          1   8.012243                 NaN   \n",
       "34                            34          1   4.889458                 NaN   \n",
       "35                            35          0        NaN                 NaN   \n",
       "36                            36          0        NaN                 NaN   \n",
       "37                            37          1  19.920823                 NaN   \n",
       "38                            38          0        NaN                 NaN   \n",
       "39                            39          0        NaN                 NaN   \n",
       "\n",
       "    standard_deviation_minus  standard_deviation_plus  \n",
       "0                  -0.308281                 2.578047  \n",
       "1                   0.147402                 2.701052  \n",
       "2                   1.021383                 3.828473  \n",
       "3                   1.353900                 3.896846  \n",
       "4                   1.033711                 5.783713  \n",
       "5                   2.675237                 5.757201  \n",
       "6                   2.542446                 4.239574  \n",
       "7                   3.582803                 6.239016  \n",
       "8                   4.361620                12.973304  \n",
       "9                   3.765248                 4.792321  \n",
       "10                  2.396134                 4.276010  \n",
       "11                       NaN                      NaN  \n",
       "12                       NaN                      NaN  \n",
       "13                  6.685022                12.768495  \n",
       "14                       NaN                      NaN  \n",
       "15                       NaN                      NaN  \n",
       "16                       NaN                      NaN  \n",
       "17                       NaN                      NaN  \n",
       "18                  4.765028                12.737136  \n",
       "19                       NaN                      NaN  \n",
       "20                  5.296030                15.988676  \n",
       "21                       NaN                      NaN  \n",
       "22                       NaN                      NaN  \n",
       "23                       NaN                      NaN  \n",
       "24                       NaN                      NaN  \n",
       "25                       NaN                      NaN  \n",
       "26                       NaN                      NaN  \n",
       "27                       NaN                      NaN  \n",
       "28                       NaN                      NaN  \n",
       "29                       NaN                      NaN  \n",
       "30                       NaN                      NaN  \n",
       "31                       NaN                      NaN  \n",
       "32                       NaN                      NaN  \n",
       "33                       NaN                      NaN  \n",
       "34                       NaN                      NaN  \n",
       "35                       NaN                      NaN  \n",
       "36                       NaN                      NaN  \n",
       "37                       NaN                      NaN  \n",
       "38                       NaN                      NaN  \n",
       "39                       NaN                      NaN  "
      ]
     },
     "execution_count": 107,
     "metadata": {},
     "output_type": "execute_result"
    }
   ],
   "source": [
    "result = list()\n",
    "\n",
    "for i in range(0,40):\n",
    "    taskCount=len(df[df[\"DurationAsHour\"]==i])\n",
    "    mean = df[df[\"DurationAsHour\"]==i][\"EstimationErrorInHours\"].mean()\n",
    "    standard_deviation = df[df[\"DurationAsHour\"]==i][\"EstimationErrorInHours\"].std()\n",
    "    standard_deviation_minus = mean - standard_deviation\n",
    "    standard_deviation_plus = mean + standard_deviation\n",
    "    result.append(dict (\n",
    "        task_duration_in_about_hours = i,\n",
    "        taskCount = taskCount,\n",
    "        mean = mean,\n",
    "        standard_deviation = standard_deviation,\n",
    "        standard_deviation_minus = standard_deviation_minus,\n",
    "        standard_deviation_plus = standard_deviation_plus\n",
    "    ))\n",
    "\n",
    "error_distribution = pd.DataFrame(result)\n",
    "error_distribution"
   ]
  },
  {
   "cell_type": "code",
   "execution_count": 108,
   "id": "1bd0380b-8f1a-4e45-9e7b-7b7b544cf9c6",
   "metadata": {},
   "outputs": [
    {
     "data": {
      "application/vnd.plotly.v1+json": {
       "config": {
        "plotlyServerURL": "https://plot.ly"
       },
       "data": [
        {
         "mode": "lines",
         "name": "mean error",
         "type": "scatter",
         "x": [
          0,
          1,
          2,
          3,
          4,
          5,
          6,
          7,
          8,
          9,
          10,
          11,
          12,
          13,
          14,
          15,
          16,
          17,
          18,
          19,
          20,
          21,
          22,
          23,
          24,
          25,
          26,
          27,
          28,
          29,
          30,
          31,
          32,
          33,
          34,
          35,
          36,
          37,
          38,
          39
         ],
         "y": [
          1.1348828827083177,
          1.4242269117492456,
          2.4249278402914367,
          2.6253730560412087,
          3.408712401533766,
          4.216218927328882,
          3.391009776824809,
          4.910909320085379,
          8.667461768764065,
          4.278784695774035,
          3.3360716654142912,
          9.765612053494225,
          4.995600283645476,
          9.726758355684929,
          null,
          6.793051296786358,
          6.070462775794834,
          9.37246590337364,
          8.751082391610547,
          4.729377348189138,
          10.642352897034906,
          10.635587768028014,
          null,
          null,
          null,
          null,
          null,
          null,
          19.782365036293175,
          14.988325227286762,
          null,
          null,
          null,
          8.012243499350316,
          4.88945808979823,
          null,
          null,
          19.920822954822953,
          null,
          null
         ]
        },
        {
         "mode": "lines",
         "name": "+",
         "type": "scatter",
         "x": [
          0,
          1,
          2,
          3,
          4,
          5,
          6,
          7,
          8,
          9,
          10,
          11,
          12,
          13,
          14,
          15,
          16,
          17,
          18,
          19,
          20,
          21,
          22,
          23,
          24,
          25,
          26,
          27,
          28,
          29,
          30,
          31,
          32,
          33,
          34,
          35,
          36,
          37,
          38,
          39
         ],
         "y": [
          2.5780466113907,
          2.7010518959441048,
          3.828472591395639,
          3.896845990308292,
          5.783713454601346,
          5.757200767994316,
          4.239573882543614,
          6.239015701393897,
          12.97330376734143,
          4.792321285581537,
          4.276009804765646,
          null,
          null,
          12.768494900146363,
          null,
          null,
          null,
          null,
          12.737136341636216,
          null,
          15.988675670986815,
          null,
          null,
          null,
          null,
          null,
          null,
          null,
          null,
          null,
          null,
          null,
          null,
          null,
          null,
          null,
          null,
          null,
          null,
          null
         ]
        },
        {
         "mode": "lines",
         "name": "-",
         "type": "scatter",
         "x": [
          0,
          1,
          2,
          3,
          4,
          5,
          6,
          7,
          8,
          9,
          10,
          11,
          12,
          13,
          14,
          15,
          16,
          17,
          18,
          19,
          20,
          21,
          22,
          23,
          24,
          25,
          26,
          27,
          28,
          29,
          30,
          31,
          32,
          33,
          34,
          35,
          36,
          37,
          38,
          39
         ],
         "y": [
          -0.30828084597406447,
          0.14740192755438652,
          1.0213830891872344,
          1.3539001217741256,
          1.0337113484661873,
          2.675237086663447,
          2.5424456711060035,
          3.5828029387768607,
          4.3616197701866986,
          3.7652481059665317,
          2.396133526062936,
          null,
          null,
          6.6850218112234945,
          null,
          null,
          null,
          null,
          4.765028441584878,
          null,
          5.296030123082997,
          null,
          null,
          null,
          null,
          null,
          null,
          null,
          null,
          null,
          null,
          null,
          null,
          null,
          null,
          null,
          null,
          null,
          null,
          null
         ]
        }
       ],
       "layout": {
        "autosize": true,
        "template": {
         "data": {
          "bar": [
           {
            "error_x": {
             "color": "#2a3f5f"
            },
            "error_y": {
             "color": "#2a3f5f"
            },
            "marker": {
             "line": {
              "color": "#E5ECF6",
              "width": 0.5
             },
             "pattern": {
              "fillmode": "overlay",
              "size": 10,
              "solidity": 0.2
             }
            },
            "type": "bar"
           }
          ],
          "barpolar": [
           {
            "marker": {
             "line": {
              "color": "#E5ECF6",
              "width": 0.5
             },
             "pattern": {
              "fillmode": "overlay",
              "size": 10,
              "solidity": 0.2
             }
            },
            "type": "barpolar"
           }
          ],
          "carpet": [
           {
            "aaxis": {
             "endlinecolor": "#2a3f5f",
             "gridcolor": "white",
             "linecolor": "white",
             "minorgridcolor": "white",
             "startlinecolor": "#2a3f5f"
            },
            "baxis": {
             "endlinecolor": "#2a3f5f",
             "gridcolor": "white",
             "linecolor": "white",
             "minorgridcolor": "white",
             "startlinecolor": "#2a3f5f"
            },
            "type": "carpet"
           }
          ],
          "choropleth": [
           {
            "colorbar": {
             "outlinewidth": 0,
             "ticks": ""
            },
            "type": "choropleth"
           }
          ],
          "contour": [
           {
            "colorbar": {
             "outlinewidth": 0,
             "ticks": ""
            },
            "colorscale": [
             [
              0,
              "#0d0887"
             ],
             [
              0.1111111111111111,
              "#46039f"
             ],
             [
              0.2222222222222222,
              "#7201a8"
             ],
             [
              0.3333333333333333,
              "#9c179e"
             ],
             [
              0.4444444444444444,
              "#bd3786"
             ],
             [
              0.5555555555555556,
              "#d8576b"
             ],
             [
              0.6666666666666666,
              "#ed7953"
             ],
             [
              0.7777777777777778,
              "#fb9f3a"
             ],
             [
              0.8888888888888888,
              "#fdca26"
             ],
             [
              1,
              "#f0f921"
             ]
            ],
            "type": "contour"
           }
          ],
          "contourcarpet": [
           {
            "colorbar": {
             "outlinewidth": 0,
             "ticks": ""
            },
            "type": "contourcarpet"
           }
          ],
          "heatmap": [
           {
            "colorbar": {
             "outlinewidth": 0,
             "ticks": ""
            },
            "colorscale": [
             [
              0,
              "#0d0887"
             ],
             [
              0.1111111111111111,
              "#46039f"
             ],
             [
              0.2222222222222222,
              "#7201a8"
             ],
             [
              0.3333333333333333,
              "#9c179e"
             ],
             [
              0.4444444444444444,
              "#bd3786"
             ],
             [
              0.5555555555555556,
              "#d8576b"
             ],
             [
              0.6666666666666666,
              "#ed7953"
             ],
             [
              0.7777777777777778,
              "#fb9f3a"
             ],
             [
              0.8888888888888888,
              "#fdca26"
             ],
             [
              1,
              "#f0f921"
             ]
            ],
            "type": "heatmap"
           }
          ],
          "heatmapgl": [
           {
            "colorbar": {
             "outlinewidth": 0,
             "ticks": ""
            },
            "colorscale": [
             [
              0,
              "#0d0887"
             ],
             [
              0.1111111111111111,
              "#46039f"
             ],
             [
              0.2222222222222222,
              "#7201a8"
             ],
             [
              0.3333333333333333,
              "#9c179e"
             ],
             [
              0.4444444444444444,
              "#bd3786"
             ],
             [
              0.5555555555555556,
              "#d8576b"
             ],
             [
              0.6666666666666666,
              "#ed7953"
             ],
             [
              0.7777777777777778,
              "#fb9f3a"
             ],
             [
              0.8888888888888888,
              "#fdca26"
             ],
             [
              1,
              "#f0f921"
             ]
            ],
            "type": "heatmapgl"
           }
          ],
          "histogram": [
           {
            "marker": {
             "pattern": {
              "fillmode": "overlay",
              "size": 10,
              "solidity": 0.2
             }
            },
            "type": "histogram"
           }
          ],
          "histogram2d": [
           {
            "colorbar": {
             "outlinewidth": 0,
             "ticks": ""
            },
            "colorscale": [
             [
              0,
              "#0d0887"
             ],
             [
              0.1111111111111111,
              "#46039f"
             ],
             [
              0.2222222222222222,
              "#7201a8"
             ],
             [
              0.3333333333333333,
              "#9c179e"
             ],
             [
              0.4444444444444444,
              "#bd3786"
             ],
             [
              0.5555555555555556,
              "#d8576b"
             ],
             [
              0.6666666666666666,
              "#ed7953"
             ],
             [
              0.7777777777777778,
              "#fb9f3a"
             ],
             [
              0.8888888888888888,
              "#fdca26"
             ],
             [
              1,
              "#f0f921"
             ]
            ],
            "type": "histogram2d"
           }
          ],
          "histogram2dcontour": [
           {
            "colorbar": {
             "outlinewidth": 0,
             "ticks": ""
            },
            "colorscale": [
             [
              0,
              "#0d0887"
             ],
             [
              0.1111111111111111,
              "#46039f"
             ],
             [
              0.2222222222222222,
              "#7201a8"
             ],
             [
              0.3333333333333333,
              "#9c179e"
             ],
             [
              0.4444444444444444,
              "#bd3786"
             ],
             [
              0.5555555555555556,
              "#d8576b"
             ],
             [
              0.6666666666666666,
              "#ed7953"
             ],
             [
              0.7777777777777778,
              "#fb9f3a"
             ],
             [
              0.8888888888888888,
              "#fdca26"
             ],
             [
              1,
              "#f0f921"
             ]
            ],
            "type": "histogram2dcontour"
           }
          ],
          "mesh3d": [
           {
            "colorbar": {
             "outlinewidth": 0,
             "ticks": ""
            },
            "type": "mesh3d"
           }
          ],
          "parcoords": [
           {
            "line": {
             "colorbar": {
              "outlinewidth": 0,
              "ticks": ""
             }
            },
            "type": "parcoords"
           }
          ],
          "pie": [
           {
            "automargin": true,
            "type": "pie"
           }
          ],
          "scatter": [
           {
            "marker": {
             "colorbar": {
              "outlinewidth": 0,
              "ticks": ""
             }
            },
            "type": "scatter"
           }
          ],
          "scatter3d": [
           {
            "line": {
             "colorbar": {
              "outlinewidth": 0,
              "ticks": ""
             }
            },
            "marker": {
             "colorbar": {
              "outlinewidth": 0,
              "ticks": ""
             }
            },
            "type": "scatter3d"
           }
          ],
          "scattercarpet": [
           {
            "marker": {
             "colorbar": {
              "outlinewidth": 0,
              "ticks": ""
             }
            },
            "type": "scattercarpet"
           }
          ],
          "scattergeo": [
           {
            "marker": {
             "colorbar": {
              "outlinewidth": 0,
              "ticks": ""
             }
            },
            "type": "scattergeo"
           }
          ],
          "scattergl": [
           {
            "marker": {
             "colorbar": {
              "outlinewidth": 0,
              "ticks": ""
             }
            },
            "type": "scattergl"
           }
          ],
          "scattermapbox": [
           {
            "marker": {
             "colorbar": {
              "outlinewidth": 0,
              "ticks": ""
             }
            },
            "type": "scattermapbox"
           }
          ],
          "scatterpolar": [
           {
            "marker": {
             "colorbar": {
              "outlinewidth": 0,
              "ticks": ""
             }
            },
            "type": "scatterpolar"
           }
          ],
          "scatterpolargl": [
           {
            "marker": {
             "colorbar": {
              "outlinewidth": 0,
              "ticks": ""
             }
            },
            "type": "scatterpolargl"
           }
          ],
          "scatterternary": [
           {
            "marker": {
             "colorbar": {
              "outlinewidth": 0,
              "ticks": ""
             }
            },
            "type": "scatterternary"
           }
          ],
          "surface": [
           {
            "colorbar": {
             "outlinewidth": 0,
             "ticks": ""
            },
            "colorscale": [
             [
              0,
              "#0d0887"
             ],
             [
              0.1111111111111111,
              "#46039f"
             ],
             [
              0.2222222222222222,
              "#7201a8"
             ],
             [
              0.3333333333333333,
              "#9c179e"
             ],
             [
              0.4444444444444444,
              "#bd3786"
             ],
             [
              0.5555555555555556,
              "#d8576b"
             ],
             [
              0.6666666666666666,
              "#ed7953"
             ],
             [
              0.7777777777777778,
              "#fb9f3a"
             ],
             [
              0.8888888888888888,
              "#fdca26"
             ],
             [
              1,
              "#f0f921"
             ]
            ],
            "type": "surface"
           }
          ],
          "table": [
           {
            "cells": {
             "fill": {
              "color": "#EBF0F8"
             },
             "line": {
              "color": "white"
             }
            },
            "header": {
             "fill": {
              "color": "#C8D4E3"
             },
             "line": {
              "color": "white"
             }
            },
            "type": "table"
           }
          ]
         },
         "layout": {
          "annotationdefaults": {
           "arrowcolor": "#2a3f5f",
           "arrowhead": 0,
           "arrowwidth": 1
          },
          "autotypenumbers": "strict",
          "coloraxis": {
           "colorbar": {
            "outlinewidth": 0,
            "ticks": ""
           }
          },
          "colorscale": {
           "diverging": [
            [
             0,
             "#8e0152"
            ],
            [
             0.1,
             "#c51b7d"
            ],
            [
             0.2,
             "#de77ae"
            ],
            [
             0.3,
             "#f1b6da"
            ],
            [
             0.4,
             "#fde0ef"
            ],
            [
             0.5,
             "#f7f7f7"
            ],
            [
             0.6,
             "#e6f5d0"
            ],
            [
             0.7,
             "#b8e186"
            ],
            [
             0.8,
             "#7fbc41"
            ],
            [
             0.9,
             "#4d9221"
            ],
            [
             1,
             "#276419"
            ]
           ],
           "sequential": [
            [
             0,
             "#0d0887"
            ],
            [
             0.1111111111111111,
             "#46039f"
            ],
            [
             0.2222222222222222,
             "#7201a8"
            ],
            [
             0.3333333333333333,
             "#9c179e"
            ],
            [
             0.4444444444444444,
             "#bd3786"
            ],
            [
             0.5555555555555556,
             "#d8576b"
            ],
            [
             0.6666666666666666,
             "#ed7953"
            ],
            [
             0.7777777777777778,
             "#fb9f3a"
            ],
            [
             0.8888888888888888,
             "#fdca26"
            ],
            [
             1,
             "#f0f921"
            ]
           ],
           "sequentialminus": [
            [
             0,
             "#0d0887"
            ],
            [
             0.1111111111111111,
             "#46039f"
            ],
            [
             0.2222222222222222,
             "#7201a8"
            ],
            [
             0.3333333333333333,
             "#9c179e"
            ],
            [
             0.4444444444444444,
             "#bd3786"
            ],
            [
             0.5555555555555556,
             "#d8576b"
            ],
            [
             0.6666666666666666,
             "#ed7953"
            ],
            [
             0.7777777777777778,
             "#fb9f3a"
            ],
            [
             0.8888888888888888,
             "#fdca26"
            ],
            [
             1,
             "#f0f921"
            ]
           ]
          },
          "colorway": [
           "#636efa",
           "#EF553B",
           "#00cc96",
           "#ab63fa",
           "#FFA15A",
           "#19d3f3",
           "#FF6692",
           "#B6E880",
           "#FF97FF",
           "#FECB52"
          ],
          "font": {
           "color": "#2a3f5f"
          },
          "geo": {
           "bgcolor": "white",
           "lakecolor": "white",
           "landcolor": "#E5ECF6",
           "showlakes": true,
           "showland": true,
           "subunitcolor": "white"
          },
          "hoverlabel": {
           "align": "left"
          },
          "hovermode": "closest",
          "mapbox": {
           "style": "light"
          },
          "paper_bgcolor": "white",
          "plot_bgcolor": "#E5ECF6",
          "polar": {
           "angularaxis": {
            "gridcolor": "white",
            "linecolor": "white",
            "ticks": ""
           },
           "bgcolor": "#E5ECF6",
           "radialaxis": {
            "gridcolor": "white",
            "linecolor": "white",
            "ticks": ""
           }
          },
          "scene": {
           "xaxis": {
            "backgroundcolor": "#E5ECF6",
            "gridcolor": "white",
            "gridwidth": 2,
            "linecolor": "white",
            "showbackground": true,
            "ticks": "",
            "zerolinecolor": "white"
           },
           "yaxis": {
            "backgroundcolor": "#E5ECF6",
            "gridcolor": "white",
            "gridwidth": 2,
            "linecolor": "white",
            "showbackground": true,
            "ticks": "",
            "zerolinecolor": "white"
           },
           "zaxis": {
            "backgroundcolor": "#E5ECF6",
            "gridcolor": "white",
            "gridwidth": 2,
            "linecolor": "white",
            "showbackground": true,
            "ticks": "",
            "zerolinecolor": "white"
           }
          },
          "shapedefaults": {
           "line": {
            "color": "#2a3f5f"
           }
          },
          "ternary": {
           "aaxis": {
            "gridcolor": "white",
            "linecolor": "white",
            "ticks": ""
           },
           "baxis": {
            "gridcolor": "white",
            "linecolor": "white",
            "ticks": ""
           },
           "bgcolor": "#E5ECF6",
           "caxis": {
            "gridcolor": "white",
            "linecolor": "white",
            "ticks": ""
           }
          },
          "title": {
           "x": 0.05
          },
          "xaxis": {
           "automargin": true,
           "gridcolor": "white",
           "linecolor": "white",
           "ticks": "",
           "title": {
            "standoff": 15
           },
           "zerolinecolor": "white",
           "zerolinewidth": 2
          },
          "yaxis": {
           "automargin": true,
           "gridcolor": "white",
           "linecolor": "white",
           "ticks": "",
           "title": {
            "standoff": 15
           },
           "zerolinecolor": "white",
           "zerolinewidth": 2
          }
         }
        },
        "xaxis": {
         "autorange": true,
         "range": [
          0,
          39
         ],
         "type": "linear"
        },
        "yaxis": {
         "range": [
          -1,
          40
         ],
         "type": "linear"
        }
       }
      },
      "image/png": "[encoded data removed]",
      "text/html": [
       "<div>                            <div id=\"21752b96-513f-4839-a35a-82d5fa3a7b86\" class=\"plotly-graph-div\" style=\"height:525px; width:100%;\"></div>            <script type=\"text/javascript\">                require([\"plotly\"], function(Plotly) {                    window.PLOTLYENV=window.PLOTLYENV || {};                                    if (document.getElementById(\"21752b96-513f-4839-a35a-82d5fa3a7b86\")) {                    Plotly.newPlot(                        \"21752b96-513f-4839-a35a-82d5fa3a7b86\",                        [{\"mode\":\"lines\",\"name\":\"mean error\",\"type\":\"scatter\",\"x\":[0,1,2,3,4,5,6,7,8,9,10,11,12,13,14,15,16,17,18,19,20,21,22,23,24,25,26,27,28,29,30,31,32,33,34,35,36,37,38,39],\"y\":[1.1348828827083177,1.4242269117492456,2.4249278402914367,2.6253730560412087,3.408712401533766,4.216218927328882,3.391009776824809,4.910909320085379,8.667461768764065,4.278784695774035,3.3360716654142912,9.765612053494225,4.995600283645476,9.726758355684929,null,6.793051296786358,6.070462775794834,9.37246590337364,8.751082391610547,4.729377348189138,10.642352897034906,10.635587768028014,null,null,null,null,null,null,19.782365036293175,14.988325227286762,null,null,null,8.012243499350316,4.88945808979823,null,null,19.920822954822953,null,null]},{\"mode\":\"lines\",\"name\":\"+\",\"type\":\"scatter\",\"x\":[0,1,2,3,4,5,6,7,8,9,10,11,12,13,14,15,16,17,18,19,20,21,22,23,24,25,26,27,28,29,30,31,32,33,34,35,36,37,38,39],\"y\":[2.5780466113907,2.7010518959441048,3.828472591395639,3.896845990308292,5.783713454601346,5.757200767994316,4.239573882543614,6.239015701393897,12.97330376734143,4.792321285581537,4.276009804765646,null,null,12.768494900146363,null,null,null,null,12.737136341636216,null,15.988675670986815,null,null,null,null,null,null,null,null,null,null,null,null,null,null,null,null,null,null,null]},{\"mode\":\"lines\",\"name\":\"-\",\"type\":\"scatter\",\"x\":[0,1,2,3,4,5,6,7,8,9,10,11,12,13,14,15,16,17,18,19,20,21,22,23,24,25,26,27,28,29,30,31,32,33,34,35,36,37,38,39],\"y\":[-0.30828084597406447,0.14740192755438652,1.0213830891872344,1.3539001217741256,1.0337113484661873,2.675237086663447,2.5424456711060035,3.5828029387768607,4.3616197701866986,3.7652481059665317,2.396133526062936,null,null,6.6850218112234945,null,null,null,null,4.765028441584878,null,5.296030123082997,null,null,null,null,null,null,null,null,null,null,null,null,null,null,null,null,null,null,null]}],                        {\"template\":{\"data\":{\"bar\":[{\"error_x\":{\"color\":\"#2a3f5f\"},\"error_y\":{\"color\":\"#2a3f5f\"},\"marker\":{\"line\":{\"color\":\"#E5ECF6\",\"width\":0.5},\"pattern\":{\"fillmode\":\"overlay\",\"size\":10,\"solidity\":0.2}},\"type\":\"bar\"}],\"barpolar\":[{\"marker\":{\"line\":{\"color\":\"#E5ECF6\",\"width\":0.5},\"pattern\":{\"fillmode\":\"overlay\",\"size\":10,\"solidity\":0.2}},\"type\":\"barpolar\"}],\"carpet\":[{\"aaxis\":{\"endlinecolor\":\"#2a3f5f\",\"gridcolor\":\"white\",\"linecolor\":\"white\",\"minorgridcolor\":\"white\",\"startlinecolor\":\"#2a3f5f\"},\"baxis\":{\"endlinecolor\":\"#2a3f5f\",\"gridcolor\":\"white\",\"linecolor\":\"white\",\"minorgridcolor\":\"white\",\"startlinecolor\":\"#2a3f5f\"},\"type\":\"carpet\"}],\"choropleth\":[{\"colorbar\":{\"outlinewidth\":0,\"ticks\":\"\"},\"type\":\"choropleth\"}],\"contour\":[{\"colorbar\":{\"outlinewidth\":0,\"ticks\":\"\"},\"colorscale\":[[0.0,\"#0d0887\"],[0.1111111111111111,\"#46039f\"],[0.2222222222222222,\"#7201a8\"],[0.3333333333333333,\"#9c179e\"],[0.4444444444444444,\"#bd3786\"],[0.5555555555555556,\"#d8576b\"],[0.6666666666666666,\"#ed7953\"],[0.7777777777777778,\"#fb9f3a\"],[0.8888888888888888,\"#fdca26\"],[1.0,\"#f0f921\"]],\"type\":\"contour\"}],\"contourcarpet\":[{\"colorbar\":{\"outlinewidth\":0,\"ticks\":\"\"},\"type\":\"contourcarpet\"}],\"heatmap\":[{\"colorbar\":{\"outlinewidth\":0,\"ticks\":\"\"},\"colorscale\":[[0.0,\"#0d0887\"],[0.1111111111111111,\"#46039f\"],[0.2222222222222222,\"#7201a8\"],[0.3333333333333333,\"#9c179e\"],[0.4444444444444444,\"#bd3786\"],[0.5555555555555556,\"#d8576b\"],[0.6666666666666666,\"#ed7953\"],[0.7777777777777778,\"#fb9f3a\"],[0.8888888888888888,\"#fdca26\"],[1.0,\"#f0f921\"]],\"type\":\"heatmap\"}],\"heatmapgl\":[{\"colorbar\":{\"outlinewidth\":0,\"ticks\":\"\"},\"colorscale\":[[0.0,\"#0d0887\"],[0.1111111111111111,\"#46039f\"],[0.2222222222222222,\"#7201a8\"],[0.3333333333333333,\"#9c179e\"],[0.4444444444444444,\"#bd3786\"],[0.5555555555555556,\"#d8576b\"],[0.6666666666666666,\"#ed7953\"],[0.7777777777777778,\"#fb9f3a\"],[0.8888888888888888,\"#fdca26\"],[1.0,\"#f0f921\"]],\"type\":\"heatmapgl\"}],\"histogram\":[{\"marker\":{\"pattern\":{\"fillmode\":\"overlay\",\"size\":10,\"solidity\":0.2}},\"type\":\"histogram\"}],\"histogram2d\":[{\"colorbar\":{\"outlinewidth\":0,\"ticks\":\"\"},\"colorscale\":[[0.0,\"#0d0887\"],[0.1111111111111111,\"#46039f\"],[0.2222222222222222,\"#7201a8\"],[0.3333333333333333,\"#9c179e\"],[0.4444444444444444,\"#bd3786\"],[0.5555555555555556,\"#d8576b\"],[0.6666666666666666,\"#ed7953\"],[0.7777777777777778,\"#fb9f3a\"],[0.8888888888888888,\"#fdca26\"],[1.0,\"#f0f921\"]],\"type\":\"histogram2d\"}],\"histogram2dcontour\":[{\"colorbar\":{\"outlinewidth\":0,\"ticks\":\"\"},\"colorscale\":[[0.0,\"#0d0887\"],[0.1111111111111111,\"#46039f\"],[0.2222222222222222,\"#7201a8\"],[0.3333333333333333,\"#9c179e\"],[0.4444444444444444,\"#bd3786\"],[0.5555555555555556,\"#d8576b\"],[0.6666666666666666,\"#ed7953\"],[0.7777777777777778,\"#fb9f3a\"],[0.8888888888888888,\"#fdca26\"],[1.0,\"#f0f921\"]],\"type\":\"histogram2dcontour\"}],\"mesh3d\":[{\"colorbar\":{\"outlinewidth\":0,\"ticks\":\"\"},\"type\":\"mesh3d\"}],\"parcoords\":[{\"line\":{\"colorbar\":{\"outlinewidth\":0,\"ticks\":\"\"}},\"type\":\"parcoords\"}],\"pie\":[{\"automargin\":true,\"type\":\"pie\"}],\"scatter\":[{\"marker\":{\"colorbar\":{\"outlinewidth\":0,\"ticks\":\"\"}},\"type\":\"scatter\"}],\"scatter3d\":[{\"line\":{\"colorbar\":{\"outlinewidth\":0,\"ticks\":\"\"}},\"marker\":{\"colorbar\":{\"outlinewidth\":0,\"ticks\":\"\"}},\"type\":\"scatter3d\"}],\"scattercarpet\":[{\"marker\":{\"colorbar\":{\"outlinewidth\":0,\"ticks\":\"\"}},\"type\":\"scattercarpet\"}],\"scattergeo\":[{\"marker\":{\"colorbar\":{\"outlinewidth\":0,\"ticks\":\"\"}},\"type\":\"scattergeo\"}],\"scattergl\":[{\"marker\":{\"colorbar\":{\"outlinewidth\":0,\"ticks\":\"\"}},\"type\":\"scattergl\"}],\"scattermapbox\":[{\"marker\":{\"colorbar\":{\"outlinewidth\":0,\"ticks\":\"\"}},\"type\":\"scattermapbox\"}],\"scatterpolar\":[{\"marker\":{\"colorbar\":{\"outlinewidth\":0,\"ticks\":\"\"}},\"type\":\"scatterpolar\"}],\"scatterpolargl\":[{\"marker\":{\"colorbar\":{\"outlinewidth\":0,\"ticks\":\"\"}},\"type\":\"scatterpolargl\"}],\"scatterternary\":[{\"marker\":{\"colorbar\":{\"outlinewidth\":0,\"ticks\":\"\"}},\"type\":\"scatterternary\"}],\"surface\":[{\"colorbar\":{\"outlinewidth\":0,\"ticks\":\"\"},\"colorscale\":[[0.0,\"#0d0887\"],[0.1111111111111111,\"#46039f\"],[0.2222222222222222,\"#7201a8\"],[0.3333333333333333,\"#9c179e\"],[0.4444444444444444,\"#bd3786\"],[0.5555555555555556,\"#d8576b\"],[0.6666666666666666,\"#ed7953\"],[0.7777777777777778,\"#fb9f3a\"],[0.8888888888888888,\"#fdca26\"],[1.0,\"#f0f921\"]],\"type\":\"surface\"}],\"table\":[{\"cells\":{\"fill\":{\"color\":\"#EBF0F8\"},\"line\":{\"color\":\"white\"}},\"header\":{\"fill\":{\"color\":\"#C8D4E3\"},\"line\":{\"color\":\"white\"}},\"type\":\"table\"}]},\"layout\":{\"annotationdefaults\":{\"arrowcolor\":\"#2a3f5f\",\"arrowhead\":0,\"arrowwidth\":1},\"autotypenumbers\":\"strict\",\"coloraxis\":{\"colorbar\":{\"outlinewidth\":0,\"ticks\":\"\"}},\"colorscale\":{\"diverging\":[[0,\"#8e0152\"],[0.1,\"#c51b7d\"],[0.2,\"#de77ae\"],[0.3,\"#f1b6da\"],[0.4,\"#fde0ef\"],[0.5,\"#f7f7f7\"],[0.6,\"#e6f5d0\"],[0.7,\"#b8e186\"],[0.8,\"#7fbc41\"],[0.9,\"#4d9221\"],[1,\"#276419\"]],\"sequential\":[[0.0,\"#0d0887\"],[0.1111111111111111,\"#46039f\"],[0.2222222222222222,\"#7201a8\"],[0.3333333333333333,\"#9c179e\"],[0.4444444444444444,\"#bd3786\"],[0.5555555555555556,\"#d8576b\"],[0.6666666666666666,\"#ed7953\"],[0.7777777777777778,\"#fb9f3a\"],[0.8888888888888888,\"#fdca26\"],[1.0,\"#f0f921\"]],\"sequentialminus\":[[0.0,\"#0d0887\"],[0.1111111111111111,\"#46039f\"],[0.2222222222222222,\"#7201a8\"],[0.3333333333333333,\"#9c179e\"],[0.4444444444444444,\"#bd3786\"],[0.5555555555555556,\"#d8576b\"],[0.6666666666666666,\"#ed7953\"],[0.7777777777777778,\"#fb9f3a\"],[0.8888888888888888,\"#fdca26\"],[1.0,\"#f0f921\"]]},\"colorway\":[\"#636efa\",\"#EF553B\",\"#00cc96\",\"#ab63fa\",\"#FFA15A\",\"#19d3f3\",\"#FF6692\",\"#B6E880\",\"#FF97FF\",\"#FECB52\"],\"font\":{\"color\":\"#2a3f5f\"},\"geo\":{\"bgcolor\":\"white\",\"lakecolor\":\"white\",\"landcolor\":\"#E5ECF6\",\"showlakes\":true,\"showland\":true,\"subunitcolor\":\"white\"},\"hoverlabel\":{\"align\":\"left\"},\"hovermode\":\"closest\",\"mapbox\":{\"style\":\"light\"},\"paper_bgcolor\":\"white\",\"plot_bgcolor\":\"#E5ECF6\",\"polar\":{\"angularaxis\":{\"gridcolor\":\"white\",\"linecolor\":\"white\",\"ticks\":\"\"},\"bgcolor\":\"#E5ECF6\",\"radialaxis\":{\"gridcolor\":\"white\",\"linecolor\":\"white\",\"ticks\":\"\"}},\"scene\":{\"xaxis\":{\"backgroundcolor\":\"#E5ECF6\",\"gridcolor\":\"white\",\"gridwidth\":2,\"linecolor\":\"white\",\"showbackground\":true,\"ticks\":\"\",\"zerolinecolor\":\"white\"},\"yaxis\":{\"backgroundcolor\":\"#E5ECF6\",\"gridcolor\":\"white\",\"gridwidth\":2,\"linecolor\":\"white\",\"showbackground\":true,\"ticks\":\"\",\"zerolinecolor\":\"white\"},\"zaxis\":{\"backgroundcolor\":\"#E5ECF6\",\"gridcolor\":\"white\",\"gridwidth\":2,\"linecolor\":\"white\",\"showbackground\":true,\"ticks\":\"\",\"zerolinecolor\":\"white\"}},\"shapedefaults\":{\"line\":{\"color\":\"#2a3f5f\"}},\"ternary\":{\"aaxis\":{\"gridcolor\":\"white\",\"linecolor\":\"white\",\"ticks\":\"\"},\"baxis\":{\"gridcolor\":\"white\",\"linecolor\":\"white\",\"ticks\":\"\"},\"bgcolor\":\"#E5ECF6\",\"caxis\":{\"gridcolor\":\"white\",\"linecolor\":\"white\",\"ticks\":\"\"}},\"title\":{\"x\":0.05},\"xaxis\":{\"automargin\":true,\"gridcolor\":\"white\",\"linecolor\":\"white\",\"ticks\":\"\",\"title\":{\"standoff\":15},\"zerolinecolor\":\"white\",\"zerolinewidth\":2},\"yaxis\":{\"automargin\":true,\"gridcolor\":\"white\",\"linecolor\":\"white\",\"ticks\":\"\",\"title\":{\"standoff\":15},\"zerolinecolor\":\"white\",\"zerolinewidth\":2}}},\"yaxis\":{\"range\":[-1,40]}},                        {\"responsive\": true}                    ).then(function(){\n",
       "                            \n",
       "var gd = document.getElementById('21752b96-513f-4839-a35a-82d5fa3a7b86');\n",
       "var x = new MutationObserver(function (mutations, observer) {{\n",
       "        var display = window.getComputedStyle(gd).display;\n",
       "        if (!display || display === 'none') {{\n",
       "            console.log([gd, 'removed!']);\n",
       "            Plotly.purge(gd);\n",
       "            observer.disconnect();\n",
       "        }}\n",
       "}});\n",
       "\n",
       "// Listen for the removal of the full notebook cells\n",
       "var notebookContainer = gd.closest('#notebook-container');\n",
       "if (notebookContainer) {{\n",
       "    x.observe(notebookContainer, {childList: true});\n",
       "}}\n",
       "\n",
       "// Listen for the clearing of the current output cell\n",
       "var outputEl = gd.closest('.output');\n",
       "if (outputEl) {{\n",
       "    x.observe(outputEl, {childList: true});\n",
       "}}\n",
       "\n",
       "                        })                };                });            </script>        </div>"
      ]
     },
     "metadata": {},
     "output_type": "display_data"
    }
   ],
   "source": [
    "fig = go.Figure()\n",
    "\n",
    "fig.add_trace(go.Scatter(x=error_distribution[\"task_duration_in_about_hours\"], y=error_distribution[\"mean\"], mode='lines',name='mean error'))\n",
    "fig.add_trace(go.Scatter(x=error_distribution[\"task_duration_in_about_hours\"], y=error_distribution[\"standard_deviation_plus\"], mode='lines',name='+'))\n",
    "fig.add_trace(go.Scatter(x=error_distribution[\"task_duration_in_about_hours\"], y=error_distribution[\"standard_deviation_minus\"], mode='lines',name='-'))\n",
    "\n",
    "fig.update(layout_yaxis_range = [-1,40])\n",
    "\n"
   ]
  },
  {
   "cell_type": "code",
   "execution_count": 114,
   "id": "791ea246-2421-4665-ba79-025869470354",
   "metadata": {},
   "outputs": [
    {
     "data": {
      "application/vnd.plotly.v1+json": {
       "config": {
        "plotlyServerURL": "https://plot.ly"
       },
       "data": [
        {
         "alignmentgroup": "True",
         "hovertemplate": "DurationAsHour=%{x}<br>EstimationErrorInHours=%{y}<extra></extra>",
         "legendgroup": "",
         "marker": {
          "color": "#636efa"
         },
         "name": "",
         "notched": false,
         "offsetgroup": "",
         "orientation": "v",
         "showlegend": false,
         "type": "box",
         "x": [
          1,
          0,
          0,
          1,
          1,
          0,
          1,
          0,
          0,
          2,
          0,
          0,
          6,
          1,
          0,
          12,
          2,
          0,
          0,
          0,
          1,
          1,
          0,
          0,
          0,
          0,
          4,
          3,
          0,
          0,
          0,
          0,
          1,
          0,
          0,
          1,
          0,
          0,
          1,
          0,
          0,
          0,
          0,
          0,
          1,
          5,
          0,
          0,
          0,
          3,
          0,
          1,
          0,
          1,
          1,
          1,
          1,
          0,
          1,
          2,
          0,
          0,
          0,
          2,
          0,
          0,
          1,
          1,
          0,
          0,
          0,
          1,
          1,
          0,
          0,
          0,
          1,
          0,
          0,
          0,
          0,
          0,
          1,
          0,
          0,
          0,
          0,
          0,
          0,
          2,
          6,
          1,
          0,
          0,
          0,
          2,
          2,
          2,
          1,
          0,
          0,
          0,
          0,
          0,
          18,
          1,
          0,
          1,
          0,
          0,
          0,
          0,
          3,
          8,
          1,
          1,
          0,
          0,
          0,
          1,
          3,
          0,
          10,
          1,
          0,
          0,
          5,
          0,
          20,
          2,
          0,
          0,
          1,
          0,
          1,
          3,
          1,
          0,
          2,
          37,
          1,
          0,
          0,
          1,
          1,
          0,
          4,
          0,
          2,
          0,
          0,
          1,
          0,
          1,
          3,
          0,
          1,
          1,
          1,
          2,
          0,
          4,
          18,
          7,
          1,
          0,
          0,
          1,
          1,
          1,
          1,
          0,
          0,
          0,
          0,
          0,
          0,
          0,
          0,
          0,
          0,
          0,
          0,
          0,
          0,
          0,
          2,
          0,
          1,
          18,
          1,
          0,
          0,
          0,
          0,
          1,
          1,
          1,
          2,
          3,
          0,
          1,
          0,
          0,
          1,
          1,
          0,
          2,
          1,
          0,
          6,
          1,
          0,
          0,
          0,
          0,
          0,
          1,
          0,
          0,
          0,
          0,
          1,
          0,
          0,
          2,
          0,
          0,
          0,
          0,
          0,
          0,
          0,
          0,
          3,
          0,
          0,
          0,
          3,
          0,
          1,
          2,
          0,
          6,
          0,
          0,
          0,
          0,
          0,
          1,
          0,
          1,
          11,
          1,
          2,
          1,
          3,
          0,
          0,
          0,
          1,
          0,
          0,
          0,
          0,
          1,
          1,
          1,
          0,
          0,
          2,
          3,
          3,
          0,
          1,
          4,
          0,
          3,
          1,
          8,
          0,
          0,
          2,
          0,
          0,
          13,
          0,
          0,
          0,
          0,
          1,
          1,
          1,
          0,
          0,
          3,
          3,
          0,
          0,
          1,
          0,
          0,
          0,
          1,
          0,
          1,
          0,
          0,
          1,
          1,
          1,
          0,
          2,
          0,
          0,
          1,
          0,
          1,
          2,
          0,
          0,
          0,
          0,
          0,
          1,
          2,
          0,
          1,
          9,
          0,
          7,
          0,
          2,
          0,
          0,
          1,
          1,
          3,
          2,
          8,
          28,
          0,
          1,
          0,
          0,
          1,
          0,
          1,
          1,
          0,
          9,
          0,
          3,
          0,
          0,
          1,
          1,
          0,
          0,
          1,
          0,
          0,
          0,
          1,
          0,
          5,
          0,
          1,
          1,
          0,
          1,
          1,
          1,
          0,
          0,
          0,
          8,
          0,
          0,
          0,
          0,
          1,
          0,
          0,
          0,
          0,
          0,
          1,
          1,
          1,
          0,
          6,
          0,
          0,
          1,
          0,
          2,
          0,
          0,
          0,
          0,
          1,
          0,
          0,
          0,
          0,
          1,
          0,
          0,
          0,
          0,
          1,
          1,
          0,
          1,
          0,
          0,
          0,
          0,
          3,
          0,
          4,
          0,
          0,
          0,
          0,
          0,
          0,
          0,
          4,
          1,
          2,
          0,
          4,
          0,
          3,
          0,
          3,
          1,
          0,
          1,
          1,
          1,
          0,
          1,
          0,
          0,
          0,
          0,
          2,
          1,
          1,
          1,
          0,
          1,
          0,
          0,
          3,
          1,
          0,
          1,
          1,
          2,
          0,
          2,
          0,
          4,
          1,
          1,
          1,
          5,
          0,
          2,
          0,
          29,
          0,
          7,
          2,
          0,
          0,
          0,
          1,
          0,
          1,
          2,
          1,
          1,
          0,
          0,
          0,
          1,
          0,
          1,
          1,
          0,
          0,
          0,
          0,
          0,
          0,
          13,
          1,
          0,
          3,
          0,
          0,
          0,
          5,
          1,
          0,
          0,
          2,
          0,
          1,
          0,
          5,
          0,
          4,
          0,
          0,
          1,
          0,
          1,
          3,
          0,
          0,
          1,
          1,
          1,
          0,
          0,
          1,
          0,
          1,
          1,
          1,
          0,
          1,
          1,
          0,
          6,
          0,
          0,
          1,
          4,
          0,
          1,
          2,
          0,
          1,
          2,
          2,
          0,
          0,
          0,
          0,
          1,
          0,
          1,
          0,
          4,
          1,
          1,
          1,
          0,
          10,
          0,
          0,
          0,
          0,
          0,
          34,
          0,
          0,
          0,
          0,
          0,
          2,
          33,
          1,
          1,
          0,
          0,
          0,
          0,
          0,
          1,
          3,
          0,
          1,
          0,
          2,
          1,
          0,
          1,
          4,
          1,
          0,
          0,
          0,
          1,
          1,
          1,
          3,
          1,
          2,
          0,
          1,
          0,
          0,
          1,
          0,
          1,
          0,
          1,
          3,
          1,
          0,
          0,
          0,
          0,
          0,
          0,
          0,
          0,
          2,
          1,
          0,
          0,
          2,
          2,
          0,
          0,
          0,
          0,
          3,
          0,
          0,
          0,
          0,
          0,
          0,
          1,
          0,
          0,
          0,
          1,
          1,
          2,
          0,
          0,
          0,
          0,
          0,
          1,
          2,
          1,
          1,
          0,
          0,
          0,
          0,
          0,
          0,
          2,
          0,
          0,
          0,
          1,
          0,
          0,
          1,
          20,
          0,
          6,
          1,
          0,
          1,
          0,
          1,
          0,
          0,
          0,
          0,
          0,
          1,
          0,
          0,
          0,
          0,
          0,
          0,
          0,
          0,
          0,
          1,
          0,
          0,
          1,
          0,
          0,
          0,
          1,
          0,
          6,
          0,
          0,
          0,
          0,
          3,
          1,
          0,
          0,
          1,
          1,
          5,
          0,
          2,
          0,
          0,
          0,
          0,
          0,
          0,
          0,
          0,
          0,
          0,
          3,
          0,
          1,
          0,
          19,
          0,
          0,
          0,
          1,
          0,
          0,
          0,
          0,
          0,
          1,
          1,
          2,
          0,
          5,
          0,
          1,
          6,
          4,
          0,
          1,
          0,
          3,
          1,
          0,
          1,
          4,
          0,
          1,
          0,
          0,
          0,
          0,
          0,
          0,
          0,
          0,
          2,
          0,
          0,
          1,
          0,
          1,
          5,
          0,
          4,
          1,
          0,
          1,
          0,
          17,
          2,
          5,
          0,
          0,
          0,
          3,
          0,
          0,
          0,
          1,
          0,
          0,
          0,
          3,
          0,
          0,
          0,
          2,
          0,
          21,
          0,
          0,
          0,
          0,
          4,
          2,
          0,
          2,
          0,
          0,
          0,
          0,
          0,
          0,
          1,
          0,
          0,
          0,
          1,
          0,
          0,
          0,
          0,
          2,
          2,
          3,
          4,
          0,
          1,
          4,
          0,
          2,
          0,
          2,
          0,
          0,
          7,
          0,
          0,
          1,
          0,
          16,
          0,
          0,
          0,
          0,
          0,
          0,
          0,
          0,
          0,
          0,
          4,
          0,
          1,
          0,
          0,
          0,
          1,
          0,
          8,
          0,
          0,
          0,
          0,
          1,
          3,
          0,
          0,
          3,
          1,
          0,
          1,
          0,
          0,
          2,
          6,
          0,
          0,
          1,
          0,
          0,
          1,
          7,
          1,
          0,
          3,
          15,
          0,
          0,
          0,
          0,
          0,
          1,
          0,
          1,
          0,
          0,
          0,
          0,
          0,
          0,
          0,
          1,
          0,
          0,
          6,
          0,
          10,
          0,
          0,
          0,
          0,
          1,
          0,
          0,
          0,
          1,
          0,
          0,
          0,
          0,
          1,
          3,
          1,
          0,
          0,
          18,
          0,
          4,
          0,
          0,
          0,
          0,
          0,
          0,
          0,
          2,
          4,
          0,
          1,
          1,
          0,
          1,
          1,
          0,
          0,
          2,
          1,
          1,
          1,
          1,
          0,
          0,
          0,
          13,
          1,
          0,
          5,
          1,
          2,
          1,
          3,
          0,
          0,
          3,
          1,
          0,
          0,
          0,
          1,
          0,
          0,
          0,
          0,
          0,
          0,
          0,
          0,
          0,
          0,
          2,
          0,
          0,
          0,
          0,
          2,
          5,
          0,
          0,
          1,
          0,
          0,
          0,
          0,
          0,
          0,
          0,
          0,
          0,
          0,
          0,
          1,
          1,
          1,
          1,
          0,
          0,
          0,
          1,
          2,
          0,
          1
         ],
         "x0": " ",
         "xaxis": "x",
         "y": [
          2.7099504989690386,
          0.7318751994062483,
          0.3437310074955908,
          0.6041300975055665,
          1.122875,
          0.4130299234774444,
          0.7076497798385774,
          0.6301986971929162,
          0.4042712652320203,
          3.695644907279993,
          0.49276471154734713,
          1.03584175260288,
          2.8377919928655904,
          0.5840705052231362,
          1.6068959028216407,
          4.995600283645476,
          2.0126478064222906,
          0.6271725354721892,
          1.4196515623265624,
          0.4522027900308679,
          0.40279750233426703,
          0.654427485071704,
          1.447429647435897,
          1.2599816849816847,
          0.3622843314093314,
          1.2307462740718893,
          3.2215444444444445,
          3.7736133690331775,
          1.1958456447837729,
          0.6329804724778166,
          0.2035407407407407,
          0.7732719783002734,
          0.40775414999333065,
          1.3383104548229547,
          0.22875061175695502,
          1.843543115842365,
          0.8481169715407284,
          0.6459545546470089,
          1.6469297369297367,
          1.760213431627585,
          2.0029397289309534,
          0.6003961015573849,
          0.16839847500481828,
          0.2007318083381516,
          1.5591153125203157,
          4.466480044066318,
          0.5694422817693802,
          0.6404264272022179,
          3.12416323413547,
          3.0676577124519016,
          0.8758433750239412,
          0.6046409614774901,
          1.2104896214896215,
          0.9402644450805622,
          2.5876975603146235,
          2.3858836984812366,
          0.6738276836458253,
          0.4583641199621635,
          0.8603568145087391,
          0.6319186096878285,
          0.24813214285714286,
          0.6598469713989786,
          0.925877721331015,
          7.8087179548229555,
          0.7400595138358536,
          0.8175340094278865,
          0.5174032294173092,
          2.5244954990859187,
          0.681481361086409,
          0.8312900938041626,
          1.1210369569307352,
          0.6333929082417491,
          0.603242347986567,
          1.1427104168543702,
          1.1422068485834145,
          1.6133789353728885,
          0.613098345414778,
          1.1618161094566413,
          0.44942153144785496,
          0.4402813841120258,
          0.1877318083381516,
          0.4760671881048747,
          0.6615801786743979,
          0.4565128655935072,
          0.9781944096765987,
          0.5205622483378256,
          0.7079760314469066,
          0.37092774300993203,
          1.2104896214896215,
          0.9481216209454796,
          4.813791210386086,
          0.3023357765921199,
          0.7143646431873627,
          1.1371612804813946,
          1.9704391748755719,
          3.1827233269226682,
          2.1429391820619537,
          1.8347906008032877,
          0.6358950596267785,
          0.8977392596574778,
          0.3622843314093314,
          0.23287103174603171,
          0.37994946706831034,
          1.7042993176417254,
          3.5203743712120588,
          0.7029010120077311,
          0.23475061175695502,
          0.5711868201688757,
          0.20575061175695503,
          0.6063496460929441,
          1.15971084650646,
          0.6036215807908,
          4.222878840571905,
          5.933156294605922,
          0.6905540917178761,
          0.46499819047619045,
          1.2104896214896215,
          0.8692319173422355,
          1.1493198313280488,
          1.1548602665114225,
          2.030064491799545,
          2.0274453713878713,
          3.8164251270500134,
          2.2215366658461804,
          0.23929306584757987,
          0.3729346273961935,
          5.50305,
          0.6436845067034096,
          6.861931809161438,
          1.8591740297045538,
          0.6695281516459787,
          0.5337087185133202,
          0.6049051786743977,
          0.2508422166333398,
          1.4911954988863771,
          2.603870573870573,
          0.6717297157114347,
          0.7685159161482141,
          0.9377912336703653,
          19.920822954822953,
          0.37092774300993203,
          0.26839391151275477,
          0.46034847500481835,
          0.6712679664278622,
          0.634938512007731,
          2.2454055091085703,
          2.387534210080043,
          0.3906208379799789,
          3.1371859645347384,
          0.6204376539294059,
          1.2282690481200127,
          1.1182700266704477,
          0.5187691771160202,
          2.293666417147667,
          2.603870573870573,
          0.6316513096267786,
          0.6265038982705442,
          0.6481210317460316,
          1.2275577279758798,
          0.9169208033237664,
          0.9048512654772555,
          8.169862053494224,
          13.2092896494709,
          5.428987658031343,
          1.0143152831012086,
          2.1669377010656556,
          1.5098258410645546,
          3.000428538359789,
          0.6401466176413817,
          1.7482344785305914,
          2.508609562791887,
          0.3622843314093314,
          1.4280930917814763,
          1.3372986256704027,
          3.30750066652323,
          0.6407353214496506,
          0.5278531889388922,
          1.1337636688156782,
          1.103041446593456,
          1.1197136688156784,
          0.4651156054415848,
          0.451820466552696,
          2.754344256661589,
          0.8717186710388869,
          2.7153725049604747,
          1.5936270504920254,
          1.5758684093684094,
          0.6595495675382904,
          2.603870573870573,
          9.393829570895607,
          0.6617292608435901,
          0.9674143065517661,
          0.4201838875613259,
          0.8165476358241656,
          0.2431485478486412,
          1.108741357667403,
          0.6674015672408965,
          0.39574876560637434,
          4.88945808979823,
          3.8235053461199286,
          1.9149226050307624,
          0.6459545546470089,
          0.5545194347301379,
          1.199428891086468,
          2.9068279443377727,
          1.809210067224247,
          1.3428358541112972,
          1.1139838237301667,
          1.1106237441732858,
          1.0216421071842252,
          2.6974403087000822,
          0.6176150436466824,
          0.24813214285714286,
          0.4227189454744892,
          1.8626675810685023,
          1.9615347428250254,
          1.1268736226455098,
          0.5888740740740741,
          0.6220422208971768,
          0.49965036980682026,
          0.4869908767208054,
          0.3226831243772645,
          1.0814361073450363,
          1.4353666784575814,
          0.33406527836240163,
          1.1541388543229567,
          0.5152487136028535,
          3.0793846060647545,
          0.5078563390512499,
          0.5433538313695864,
          0.5894053071124962,
          0.6568661909702895,
          0.3894397910439311,
          0.6207384715620082,
          1.6717818901993722,
          0.24049306584757987,
          2.8838540228022613,
          2.35517245805478,
          2.234937541231455,
          0.6448926918570212,
          0.6463669904109415,
          2.4307693071296037,
          1.1599278226208303,
          2.603870573870573,
          3.6577566449814967,
          7.144823591955764,
          1.0799948781325381,
          2.4307693071296037,
          0.5074928240670676,
          0.7158750941769234,
          0.5998967193352922,
          3.336055032411108,
          9.765612053494225,
          0.7038125941769234,
          0.5894053071124962,
          1.2919923430564546,
          0.4914085279148711,
          0.5014085279148711,
          0.6237412478603268,
          0.26671186926638324,
          0.6745542608435902,
          0.23287103174603171,
          0.3622843314093314,
          0.5861261381646836,
          0.6559357095450231,
          3.00830679335653,
          0.6491297153890446,
          1.4763497049918546,
          0.2076510765469099,
          1.7692077961175159,
          1.7642378794274052,
          3.399035516971751,
          2.603870573870573,
          0.5211127862388317,
          0.9509143346528276,
          1.9503798404856016,
          0.6488691417959711,
          2.951335128556766,
          0.48286855006269014,
          5.357069425569407,
          0.6410048528969491,
          0.7059714878858514,
          3.3062981812169316,
          3.096629109340982,
          0.9607532897721925,
          11.80450704222787,
          1.280441848021024,
          1.3128711678799514,
          0.5666955889141061,
          0.4570549660730547,
          2.778683354042914,
          0.5852811953384781,
          1.593201849049483,
          1.1945956950549446,
          0.8611710071476466,
          1.6876571093328552,
          2.0224609917136043,
          0.8816473799654034,
          0.6626146474637006,
          0.7035281738870685,
          1.9928415746971126,
          0.5152487136028535,
          0.24813214285714286,
          0.63228448960176,
          0.7109612315067912,
          1.2944194594481944,
          1.6676351828610232,
          1.8216269424939724,
          1.327655096109964,
          1.733001695020094,
          0.6234051770434034,
          1.5341368583851442,
          1.4207690700341569,
          0.6261274989618207,
          1.9572132978813208,
          1.681156288156288,
          0.7165983572252529,
          0.6178792608435901,
          2.3366896215348327,
          0.5672168365044299,
          0.5722814392627826,
          0.9815600118149365,
          0.5967155640166095,
          0.5152487136028535,
          0.44512505329224233,
          2.692610859576931,
          0.6847037978806271,
          1.7437844187709612,
          3.9156594907337348,
          2.038005461136033,
          3.3455405212497777,
          3.713509562717671,
          2.5626193754096303,
          1.4531473027585768,
          1.8198000000000003,
          1.0074099501277414,
          1.2930123430768026,
          1.2851176936358355,
          4.276710232655373,
          9.247362053494223,
          19.782365036293175,
          0.8196691723944217,
          0.9031055533126295,
          0.4914085279148711,
          0.24813214285714286,
          0.6446253917959711,
          0.3622843314093314,
          1.634958322123473,
          1.3895977737378609,
          0.7581826872211592,
          4.641909900814334,
          0.8692056235459406,
          2.391498850686366,
          0.980552951631392,
          0.2947118692663833,
          0.6115760522299679,
          3.917676114466271,
          1.470946768164757,
          0.9333831919201792,
          1.5758684093684094,
          0.6576959513525836,
          0.3877050820492221,
          0.3289118692663832,
          0.6376446519173177,
          0.6392419472756029,
          5.905299145299144,
          0.6375566866741013,
          3.763509562717671,
          0.6346184901965906,
          1.1751446646226247,
          1.9049986941428174,
          0.48966958945814676,
          0.9868288576674031,
          2.737614617055194,
          2.3243349377199514,
          0.9950274861227603,
          6.9022118716931224,
          0.5214193922902494,
          0.34243345550963206,
          1.0102071097813534,
          1.0455214667823642,
          0.640426427202218,
          0.24813214285714286,
          3.8116164110329245,
          0.529730301229612,
          0.5741026976285823,
          1.004869198710718,
          2.4711807668257664,
          0.7555364744418965,
          1.4361958091810723,
          0.6534005093714104,
          3.726539621489621,
          1.856944561587747,
          0.5349902494158608,
          0.6478723819266193,
          3.053795218925842,
          3.3254206517362275,
          0.3497029927093359,
          1.3063963412525217,
          1.0191337558935794,
          0.3026366166077931,
          0.6120869162018915,
          0.8159918423190723,
          0.6165140934523857,
          0.32243467955610117,
          0.41693764325305516,
          0.6377537809183297,
          0.2713118692663833,
          1.540478554642632,
          0.46041412237487733,
          0.9210782920687701,
          0.6352071940048596,
          1.092,
          0.6212069735829936,
          1.1290871363527435,
          0.5945556980550087,
          2.3318239990274923,
          0.8484784822287946,
          3.548940757016353,
          2.143629586115929,
          0.7132241937746778,
          4.0632379394517,
          1.8710519014300775,
          1.2275572107058867,
          0.20006514167148495,
          0.7523780639473533,
          0.3761837304593555,
          1.0287646514490192,
          1.7169341335267032,
          1.1051944422979656,
          14.093323822267,
          3.7729964826553726,
          23.552472970011625,
          3.8459058707873033,
          3.2262245247991155,
          4.281214903703396,
          0.5836359911015062,
          1.7100144471037382,
          2.1121196264037208,
          1.0469506665153845,
          2.776423199471898,
          2.095928183457717,
          0.6408388629661503,
          0.24687103174603173,
          0.35137103174603174,
          2.6734023267081586,
          0.7345607822141578,
          0.24229306584757987,
          1.4168229548229547,
          1.2002049846797667,
          1.036204760458136,
          0.6106883027109684,
          4.554004390480542,
          0.8573488240898696,
          0.6205443001391795,
          0.7915161410055619,
          1.7898296169775814,
          2.7168554696350156,
          1.227908013196457,
          0.39014749898958023,
          1.6473121865231568,
          3.384201900474346,
          3.689498317254234,
          0.8435287142676746,
          1.5386404936080038,
          0.9596117150887805,
          2.8010660209561906,
          0.9839795274086023,
          0.6134298967988403,
          1.6724372376310805,
          3.6227395259481154,
          3.8742010684588735,
          3.833602913171831,
          2.853728605757983,
          14.988325227286762,
          1.7549594624080305,
          6.8870477872266145,
          2.9082020568611244,
          0.24922033016354847,
          0.4427946428571429,
          2.054373519345578,
          2.0002742454689457,
          0.6017415492339285,
          2.3935879752800218,
          1.5575140680236494,
          1.3005446428571428,
          0.9625280644736925,
          1.2256237437635025,
          1.1725353851414482,
          1.7275815893488442,
          1.2434727756277,
          0.28544938466266884,
          1.7516497770416042,
          1.5345032367385811,
          0.9799953577958417,
          1.070071794344696,
          0.7377253918821259,
          1.1427211319844588,
          1.4708089856369002,
          1.3205188003026591,
          6.235460414706692,
          0.5822053353941329,
          0.3788772720763249,
          2.258749450756471,
          2.72590562131205,
          1.8069678879356692,
          1.8604261987685338,
          1.7423331407470255,
          1.0487986993429446,
          1.1343792641363921,
          1.2958926697568884,
          2.240162548500062,
          1.5563225811808084,
          0.8137027234630951,
          0.8063150970392043,
          3.3150333772464,
          1.7599228467700943,
          2.162294019541018,
          1.0188996538334083,
          1.043610395814936,
          2.7083649642295167,
          0.4085728317547765,
          0.9559369426624805,
          2.239338747291283,
          1.7075898585978118,
          0.6356516407403182,
          0.752995733763591,
          0.39862773386034256,
          1.8768302099262717,
          0.5793821360556816,
          0.6223936439921894,
          0.754424913482487,
          2.6358571806652034,
          1.0205729965856312,
          1.1879566666666668,
          4.034683468586107,
          1.0197484685350908,
          1.515281288156288,
          2.0093033460605176,
          0.3613666227492314,
          4.276710232655373,
          3.9614334685861086,
          4.276710232655373,
          1.1396896301822481,
          2.4182944007768694,
          2.2580809062983134,
          0.563851684361458,
          1.632929636883875,
          1.2065290318119277,
          1.5252472038992118,
          2.632968673445547,
          3.1301707554354743,
          0.6909729850064248,
          1.433767065927078,
          0.6353571302826142,
          0.7151696302826144,
          1.6431581451757082,
          0.39862773386034256,
          1.183898984908372,
          2.0139103741503983,
          2.7940786412446186,
          1.755908416453016,
          0.7348567137396513,
          0.7935413576674031,
          0.9257582228497135,
          2.2530253600309336,
          1.187762651375759,
          0.23708394509028835,
          0.6327085489586424,
          0.22775061175695502,
          0.2001984750048183,
          4.88945808979823,
          0.6738654636159478,
          1.1585805791735002,
          0.20875061175695503,
          1.3324666363802442,
          0.41539034860584645,
          1.0140839450902883,
          8.012243499350316,
          1.0169781788337016,
          2.0997387764514337,
          1.67365773320994,
          0.3969330781293382,
          1.747006449540115,
          1.5104070756558061,
          1.6059889858281966,
          0.5521963047995357,
          1.2197687241772113,
          0.6341552621687341,
          0.48619630479953574,
          0.7885890123953172,
          7.917479032337479,
          1.2909698163157577,
          0.8240745679465011,
          6.432192451574311,
          2.6713943903825212,
          1.183898984908372,
          1.0805725758418403,
          0.060845345340933575,
          0.7767527666522612,
          1.3236413649231291,
          0.9695616956469099,
          1.6155841716547492,
          3.459821501820236,
          0.6993167841532578,
          3.7545123255104684,
          0.3847501331680837,
          1.4214268464762017,
          1.1811871142013326,
          0.21308394509028836,
          2.3294493897390463,
          1.4426715311777052,
          0.859248445800883,
          0.44385343371110075,
          1.5491980237461234,
          1.630132679703689,
          0.7748979905517103,
          0.46017613476687286,
          0.6314016371630914,
          0.4157528344152491,
          0.40200645348467173,
          1.2301382984439004,
          1.2376141080748053,
          2.9614695468357497,
          0.25686662274923144,
          2.176366502491825,
          1.770994367992789,
          0.7504266294206645,
          2.6864595717869,
          1.7905270049671314,
          1.7635583790365235,
          0.7747415580781651,
          2.0995910392003987,
          1.1809422840393826,
          2.3348882095935206,
          7.076675971133533,
          0.6982937761976472,
          1.6571035782614651,
          1.2509061900134886,
          0.6287376858381699,
          2.2003355895371794,
          0.44940503495826606,
          2.26694491725368,
          1.1158532557657954,
          0.5994100369430221,
          1.1965538268433606,
          1.037703692703786,
          1.3273408279476706,
          2.3904657570439123,
          0.9551423090253464,
          0.8483919926026295,
          2.59570226595695,
          0.22108394509028834,
          0.19539847500481827,
          3.0475876867759637,
          2.335998125125296,
          1.4311939484697094,
          0.6291413246554044,
          0.2477318083381516,
          1.1736603805011034,
          1.576909564983877,
          0.7857097613088734,
          1.615522784806563,
          1.239219333200075,
          1.5723664178405685,
          0.37227992241253116,
          0.25812773386034255,
          0.3941830154392223,
          2.0980617098838947,
          1.2492284824923778,
          1.4841239932229946,
          0.8390380242511182,
          14.422773984908373,
          0.7952739841243412,
          4.63225239207298,
          0.8481695203380658,
          1.2966375722753993,
          0.923372466148932,
          0.594027818885907,
          1.665918938305802,
          2.158865130755476,
          1.1899768890604296,
          0.6791578222566402,
          0.3401044456507057,
          2.213850547485221,
          1.1684380005629125,
          1.0435238033044858,
          0.8328585412489627,
          1.1186628764049742,
          2.4480789839785966,
          0.8897502571544855,
          0.43450519724540304,
          1.2718916163578309,
          0.19273180833815162,
          0.3154026412079984,
          0.2692647708973796,
          0.250631774264383,
          0.38615890734926456,
          1.183898984908372,
          0.8616773252136752,
          0.37187067883370156,
          1.4165350496310838,
          1.6221676442075705,
          0.6287376858381699,
          3.3821509474915628,
          0.6630932413937256,
          0.35031186926638325,
          0.8236746839409955,
          0.4991473991516652,
          1.7936907264252386,
          0.8293517057202326,
          0.28047569794190486,
          0.38149194518642354,
          1.0365316741530584,
          0.8005177385217949,
          5.596806851842574,
          1.9252410936863564,
          1.4196755104062888,
          3.0995932981377083,
          0.7428219035214847,
          0.9376950853773497,
          0.5670059729513486,
          1.0836132060219603,
          0.5384059729513486,
          1.8605288783846874,
          0.30944995608256476,
          0.3613666227492314,
          0.6630932413937256,
          2.1315045229276532,
          0.43293352746954256,
          3.980596693288426,
          1.0292613755833087,
          4.729377348189138,
          1.9451696145343365,
          0.8083217188185358,
          0.6630932413937256,
          3.9578297644590146,
          1.2283543568640447,
          0.3814856525332461,
          1.760387419310511,
          0.534148611277276,
          0.17906514167148496,
          0.8036068798128614,
          1.0999488501306574,
          1.3558706788337014,
          0.9395315132910107,
          1.7318883050933243,
          1.5769304264731667,
          1.4281993595384932,
          2.4918690882951378,
          11.150370209370996,
          0.4324602014124686,
          1.5766723058519159,
          0.21608394509028836,
          1.471172500426557,
          0.7839997769487359,
          0.8817370312484758,
          0.49952515291903027,
          0.5942995596771546,
          3.130989056725931,
          0.43238651014223195,
          0.7887465324486134,
          1.038294110291366,
          0.2482190721844293,
          1.0311262563186847,
          0.3542471450646296,
          1.2619443790488298,
          0.39793581466842337,
          0.8817370312484758,
          3.6359215491730152,
          0.6650296425855211,
          2.035630186642274,
          4.4039505722099594,
          1.5607497584313024,
          0.8104120725625565,
          3.2164400831459994,
          1.8049909537391757,
          2.274222699683427,
          1.8972265534360908,
          0.6373752926757768,
          0.727029054199837,
          1.377324924183245,
          9.37246590337364,
          1.7672863241785361,
          4.102110969970099,
          0.5701802469689041,
          0.7071095028434927,
          0.8262967555032504,
          4.507103961700858,
          2.013660325014919,
          0.6465027842085629,
          4.544403653951838,
          1.7869059175379538,
          1.4288053804030922,
          1.2672734778376966,
          1.5954889319472079,
          2.743953433280367,
          2.6256984068023286,
          0.2562040459941127,
          0.6783650649351556,
          2.907250570128984,
          0.5772131944827694,
          10.635587768028014,
          0.3413623716637149,
          0.9510230837216544,
          0.6156466981762356,
          0.35529160122940673,
          4.102471048124447,
          1.730689219165137,
          0.19306514167148495,
          0.8823466102039735,
          0.38370183039741235,
          0.9708238471793428,
          0.25141727842362166,
          0.0921786786742669,
          0.361142885375494,
          0.3613666227492314,
          0.8945215482720322,
          2.9691237493517417,
          4.621548957875165,
          0.6266960191715031,
          2.013443662257763,
          0.39599309548732503,
          5.046483828477288,
          8.002682479011156,
          0.9830851649798411,
          1.9451696145343365,
          3.057592650980078,
          1.3081362066679962,
          3.8328839844282143,
          1.6257142184598075,
          1.0755135871453516,
          1.9634232925483857,
          1.4187420882043964,
          1.6083063387632486,
          0.8108727205989729,
          4.354533621393001,
          0.2084172784236217,
          0.20908394509028835,
          4.43702357825403,
          1.1343448497970567,
          1.8509705947811514,
          1.4660407645510505,
          2.222773231885696,
          6.070462775794834,
          0.4596631015858873,
          0.30563177426438304,
          2.5588205678404248,
          0.3654723505634959,
          14.869129938283399,
          0.605734083328488,
          0.3775394273356873,
          0.6630932413937256,
          1.57792322877812,
          0.6266960191715031,
          2.363287707283695,
          0.73547444861528,
          1.2250232011544953,
          2.740285202275072,
          0.9804201914463501,
          0.6266960191715031,
          2.0531493170404636,
          0.4099743679218888,
          15.897509198457652,
          0.2679118692663833,
          0.33001529682438774,
          0.2653118692663833,
          0.7715511451017687,
          1.4277754798371154,
          2.6533666227492314,
          1.0904847053795383,
          0.6214000251682723,
          2.277253560706577,
          0.6023530935567672,
          0.4941664636422539,
          1.3484664487943883,
          0.37227992241253116,
          0.20561662274923143,
          2.476308328207943,
          2.721316189912176,
          2.4180362412211256,
          2.065111519875627,
          2.3988810458604575,
          1.4847083756293125,
          2.535519855148847,
          0.7665348551158131,
          4.455947055665124,
          1.1082713442464647,
          1.1705536917792567,
          2.5926760769824093,
          6.793051296786358,
          0.677357538251601,
          0.6519657027623111,
          0.20313695270780116,
          2.805105927590914,
          3.676829419056115,
          1.4256394278761377,
          0.8177808076170835,
          0.5057803576383934,
          2.0167837529302446,
          1.4617986081949377,
          0.43740059069208914,
          0.7829107533350412,
          0.36531823305929023,
          0.21808394509028836,
          0.8772726620081612,
          0.5942995596771546,
          1.2370644290161479,
          2.5570188538723286,
          3.11737498733372,
          1.62676369200243,
          3.9387645091619277,
          0.28337322615655947,
          0.612794517179286,
          0.3507944005270092,
          1.1920408868728067,
          1.9710613230213256,
          0.5634969644204767,
          1.5594460090961337,
          0.8423525242782977,
          0.5379118206451191,
          0.7377253918821259,
          0.9306753324536636,
          0.8104120725625565,
          6.232418591430306,
          0.8329058531235525,
          0.8876206788337017,
          1.1978850165002204,
          7.6812001655556195,
          0.6053877927056747,
          8.880835974863624,
          1.182005006004445,
          2.476308328207943,
          0.8772726620081612,
          3.206059111922083,
          1.5017120435221867,
          0.40780481784917194,
          0.39793581466842337,
          0.8772726620081612,
          0.23175061175695502,
          0.9415583619533153,
          5.234907328942325,
          1.5221054490998185,
          4.577858257343057,
          1.313709792630566,
          0.43238651014223195,
          0.37227992241253116,
          1.5873133832110022,
          0.3608959737133936,
          0.3218778460077659,
          1.487981140515326,
          0.9884014519935121,
          1.6978556214399243,
          0.7333903468100527,
          1.6257919124424058,
          1.356748053583089,
          0.41394445398463486,
          1.2711505236987888,
          11.140307610120223,
          5.164835952371675,
          0.8939505549971023,
          5.066329490736586,
          4.0362011503060815,
          1.9004186692032488,
          1.9931579924808112,
          3.0172956539838163,
          0.5775453205996823,
          1.2577725057697433,
          5.4050090276511815,
          1.1362188819818033,
          1.260047959752216,
          1.1843242775009961,
          2.327520566380099,
          4.470961002846347,
          4.065715400200201,
          1.365151931646183,
          0.43316807197960133,
          1.615421453411033,
          0.8715032176921089,
          0.5014750380456541,
          0.37113794821735996,
          0.30944995608256476,
          0.9655264435446324,
          0.6175509161852041,
          3.146316212747442,
          2.8135720673544364,
          0.8254025607808919,
          1.3714174995381663,
          1.4100164251492728,
          2.4629142051449815,
          6.326116193850996,
          0.5189131928935105,
          1.3952797335042875,
          1.4018383473514784,
          0.8452544670683103,
          0.2651327040171158,
          2.2222439623944656,
          0.26211186926638325,
          0.42651597686027926,
          0.26594508228543945,
          0.30944995608256476,
          0.2922896089474163,
          0.26191186926638327,
          0.5771592642685422,
          0.5217824662441031,
          3.4814051801825387,
          1.4837526372517647,
          1.4558634876735774,
          0.6609206668494905,
          1.357183025466764,
          0.8772726620081612,
          2.3754714526794207,
          1.530152611431815,
          2.7154380499237427,
          0.6266960191715031,
          0.6754598062821541
         ],
         "y0": " ",
         "yaxis": "y"
        }
       ],
       "layout": {
        "autosize": true,
        "boxmode": "group",
        "legend": {
         "tracegroupgap": 0
        },
        "margin": {
         "t": 60
        },
        "template": {
         "data": {
          "bar": [
           {
            "error_x": {
             "color": "#2a3f5f"
            },
            "error_y": {
             "color": "#2a3f5f"
            },
            "marker": {
             "line": {
              "color": "#E5ECF6",
              "width": 0.5
             },
             "pattern": {
              "fillmode": "overlay",
              "size": 10,
              "solidity": 0.2
             }
            },
            "type": "bar"
           }
          ],
          "barpolar": [
           {
            "marker": {
             "line": {
              "color": "#E5ECF6",
              "width": 0.5
             },
             "pattern": {
              "fillmode": "overlay",
              "size": 10,
              "solidity": 0.2
             }
            },
            "type": "barpolar"
           }
          ],
          "carpet": [
           {
            "aaxis": {
             "endlinecolor": "#2a3f5f",
             "gridcolor": "white",
             "linecolor": "white",
             "minorgridcolor": "white",
             "startlinecolor": "#2a3f5f"
            },
            "baxis": {
             "endlinecolor": "#2a3f5f",
             "gridcolor": "white",
             "linecolor": "white",
             "minorgridcolor": "white",
             "startlinecolor": "#2a3f5f"
            },
            "type": "carpet"
           }
          ],
          "choropleth": [
           {
            "colorbar": {
             "outlinewidth": 0,
             "ticks": ""
            },
            "type": "choropleth"
           }
          ],
          "contour": [
           {
            "colorbar": {
             "outlinewidth": 0,
             "ticks": ""
            },
            "colorscale": [
             [
              0,
              "#0d0887"
             ],
             [
              0.1111111111111111,
              "#46039f"
             ],
             [
              0.2222222222222222,
              "#7201a8"
             ],
             [
              0.3333333333333333,
              "#9c179e"
             ],
             [
              0.4444444444444444,
              "#bd3786"
             ],
             [
              0.5555555555555556,
              "#d8576b"
             ],
             [
              0.6666666666666666,
              "#ed7953"
             ],
             [
              0.7777777777777778,
              "#fb9f3a"
             ],
             [
              0.8888888888888888,
              "#fdca26"
             ],
             [
              1,
              "#f0f921"
             ]
            ],
            "type": "contour"
           }
          ],
          "contourcarpet": [
           {
            "colorbar": {
             "outlinewidth": 0,
             "ticks": ""
            },
            "type": "contourcarpet"
           }
          ],
          "heatmap": [
           {
            "colorbar": {
             "outlinewidth": 0,
             "ticks": ""
            },
            "colorscale": [
             [
              0,
              "#0d0887"
             ],
             [
              0.1111111111111111,
              "#46039f"
             ],
             [
              0.2222222222222222,
              "#7201a8"
             ],
             [
              0.3333333333333333,
              "#9c179e"
             ],
             [
              0.4444444444444444,
              "#bd3786"
             ],
             [
              0.5555555555555556,
              "#d8576b"
             ],
             [
              0.6666666666666666,
              "#ed7953"
             ],
             [
              0.7777777777777778,
              "#fb9f3a"
             ],
             [
              0.8888888888888888,
              "#fdca26"
             ],
             [
              1,
              "#f0f921"
             ]
            ],
            "type": "heatmap"
           }
          ],
          "heatmapgl": [
           {
            "colorbar": {
             "outlinewidth": 0,
             "ticks": ""
            },
            "colorscale": [
             [
              0,
              "#0d0887"
             ],
             [
              0.1111111111111111,
              "#46039f"
             ],
             [
              0.2222222222222222,
              "#7201a8"
             ],
             [
              0.3333333333333333,
              "#9c179e"
             ],
             [
              0.4444444444444444,
              "#bd3786"
             ],
             [
              0.5555555555555556,
              "#d8576b"
             ],
             [
              0.6666666666666666,
              "#ed7953"
             ],
             [
              0.7777777777777778,
              "#fb9f3a"
             ],
             [
              0.8888888888888888,
              "#fdca26"
             ],
             [
              1,
              "#f0f921"
             ]
            ],
            "type": "heatmapgl"
           }
          ],
          "histogram": [
           {
            "marker": {
             "pattern": {
              "fillmode": "overlay",
              "size": 10,
              "solidity": 0.2
             }
            },
            "type": "histogram"
           }
          ],
          "histogram2d": [
           {
            "colorbar": {
             "outlinewidth": 0,
             "ticks": ""
            },
            "colorscale": [
             [
              0,
              "#0d0887"
             ],
             [
              0.1111111111111111,
              "#46039f"
             ],
             [
              0.2222222222222222,
              "#7201a8"
             ],
             [
              0.3333333333333333,
              "#9c179e"
             ],
             [
              0.4444444444444444,
              "#bd3786"
             ],
             [
              0.5555555555555556,
              "#d8576b"
             ],
             [
              0.6666666666666666,
              "#ed7953"
             ],
             [
              0.7777777777777778,
              "#fb9f3a"
             ],
             [
              0.8888888888888888,
              "#fdca26"
             ],
             [
              1,
              "#f0f921"
             ]
            ],
            "type": "histogram2d"
           }
          ],
          "histogram2dcontour": [
           {
            "colorbar": {
             "outlinewidth": 0,
             "ticks": ""
            },
            "colorscale": [
             [
              0,
              "#0d0887"
             ],
             [
              0.1111111111111111,
              "#46039f"
             ],
             [
              0.2222222222222222,
              "#7201a8"
             ],
             [
              0.3333333333333333,
              "#9c179e"
             ],
             [
              0.4444444444444444,
              "#bd3786"
             ],
             [
              0.5555555555555556,
              "#d8576b"
             ],
             [
              0.6666666666666666,
              "#ed7953"
             ],
             [
              0.7777777777777778,
              "#fb9f3a"
             ],
             [
              0.8888888888888888,
              "#fdca26"
             ],
             [
              1,
              "#f0f921"
             ]
            ],
            "type": "histogram2dcontour"
           }
          ],
          "mesh3d": [
           {
            "colorbar": {
             "outlinewidth": 0,
             "ticks": ""
            },
            "type": "mesh3d"
           }
          ],
          "parcoords": [
           {
            "line": {
             "colorbar": {
              "outlinewidth": 0,
              "ticks": ""
             }
            },
            "type": "parcoords"
           }
          ],
          "pie": [
           {
            "automargin": true,
            "type": "pie"
           }
          ],
          "scatter": [
           {
            "marker": {
             "colorbar": {
              "outlinewidth": 0,
              "ticks": ""
             }
            },
            "type": "scatter"
           }
          ],
          "scatter3d": [
           {
            "line": {
             "colorbar": {
              "outlinewidth": 0,
              "ticks": ""
             }
            },
            "marker": {
             "colorbar": {
              "outlinewidth": 0,
              "ticks": ""
             }
            },
            "type": "scatter3d"
           }
          ],
          "scattercarpet": [
           {
            "marker": {
             "colorbar": {
              "outlinewidth": 0,
              "ticks": ""
             }
            },
            "type": "scattercarpet"
           }
          ],
          "scattergeo": [
           {
            "marker": {
             "colorbar": {
              "outlinewidth": 0,
              "ticks": ""
             }
            },
            "type": "scattergeo"
           }
          ],
          "scattergl": [
           {
            "marker": {
             "colorbar": {
              "outlinewidth": 0,
              "ticks": ""
             }
            },
            "type": "scattergl"
           }
          ],
          "scattermapbox": [
           {
            "marker": {
             "colorbar": {
              "outlinewidth": 0,
              "ticks": ""
             }
            },
            "type": "scattermapbox"
           }
          ],
          "scatterpolar": [
           {
            "marker": {
             "colorbar": {
              "outlinewidth": 0,
              "ticks": ""
             }
            },
            "type": "scatterpolar"
           }
          ],
          "scatterpolargl": [
           {
            "marker": {
             "colorbar": {
              "outlinewidth": 0,
              "ticks": ""
             }
            },
            "type": "scatterpolargl"
           }
          ],
          "scatterternary": [
           {
            "marker": {
             "colorbar": {
              "outlinewidth": 0,
              "ticks": ""
             }
            },
            "type": "scatterternary"
           }
          ],
          "surface": [
           {
            "colorbar": {
             "outlinewidth": 0,
             "ticks": ""
            },
            "colorscale": [
             [
              0,
              "#0d0887"
             ],
             [
              0.1111111111111111,
              "#46039f"
             ],
             [
              0.2222222222222222,
              "#7201a8"
             ],
             [
              0.3333333333333333,
              "#9c179e"
             ],
             [
              0.4444444444444444,
              "#bd3786"
             ],
             [
              0.5555555555555556,
              "#d8576b"
             ],
             [
              0.6666666666666666,
              "#ed7953"
             ],
             [
              0.7777777777777778,
              "#fb9f3a"
             ],
             [
              0.8888888888888888,
              "#fdca26"
             ],
             [
              1,
              "#f0f921"
             ]
            ],
            "type": "surface"
           }
          ],
          "table": [
           {
            "cells": {
             "fill": {
              "color": "#EBF0F8"
             },
             "line": {
              "color": "white"
             }
            },
            "header": {
             "fill": {
              "color": "#C8D4E3"
             },
             "line": {
              "color": "white"
             }
            },
            "type": "table"
           }
          ]
         },
         "layout": {
          "annotationdefaults": {
           "arrowcolor": "#2a3f5f",
           "arrowhead": 0,
           "arrowwidth": 1
          },
          "autotypenumbers": "strict",
          "coloraxis": {
           "colorbar": {
            "outlinewidth": 0,
            "ticks": ""
           }
          },
          "colorscale": {
           "diverging": [
            [
             0,
             "#8e0152"
            ],
            [
             0.1,
             "#c51b7d"
            ],
            [
             0.2,
             "#de77ae"
            ],
            [
             0.3,
             "#f1b6da"
            ],
            [
             0.4,
             "#fde0ef"
            ],
            [
             0.5,
             "#f7f7f7"
            ],
            [
             0.6,
             "#e6f5d0"
            ],
            [
             0.7,
             "#b8e186"
            ],
            [
             0.8,
             "#7fbc41"
            ],
            [
             0.9,
             "#4d9221"
            ],
            [
             1,
             "#276419"
            ]
           ],
           "sequential": [
            [
             0,
             "#0d0887"
            ],
            [
             0.1111111111111111,
             "#46039f"
            ],
            [
             0.2222222222222222,
             "#7201a8"
            ],
            [
             0.3333333333333333,
             "#9c179e"
            ],
            [
             0.4444444444444444,
             "#bd3786"
            ],
            [
             0.5555555555555556,
             "#d8576b"
            ],
            [
             0.6666666666666666,
             "#ed7953"
            ],
            [
             0.7777777777777778,
             "#fb9f3a"
            ],
            [
             0.8888888888888888,
             "#fdca26"
            ],
            [
             1,
             "#f0f921"
            ]
           ],
           "sequentialminus": [
            [
             0,
             "#0d0887"
            ],
            [
             0.1111111111111111,
             "#46039f"
            ],
            [
             0.2222222222222222,
             "#7201a8"
            ],
            [
             0.3333333333333333,
             "#9c179e"
            ],
            [
             0.4444444444444444,
             "#bd3786"
            ],
            [
             0.5555555555555556,
             "#d8576b"
            ],
            [
             0.6666666666666666,
             "#ed7953"
            ],
            [
             0.7777777777777778,
             "#fb9f3a"
            ],
            [
             0.8888888888888888,
             "#fdca26"
            ],
            [
             1,
             "#f0f921"
            ]
           ]
          },
          "colorway": [
           "#636efa",
           "#EF553B",
           "#00cc96",
           "#ab63fa",
           "#FFA15A",
           "#19d3f3",
           "#FF6692",
           "#B6E880",
           "#FF97FF",
           "#FECB52"
          ],
          "font": {
           "color": "#2a3f5f"
          },
          "geo": {
           "bgcolor": "white",
           "lakecolor": "white",
           "landcolor": "#E5ECF6",
           "showlakes": true,
           "showland": true,
           "subunitcolor": "white"
          },
          "hoverlabel": {
           "align": "left"
          },
          "hovermode": "closest",
          "mapbox": {
           "style": "light"
          },
          "paper_bgcolor": "white",
          "plot_bgcolor": "#E5ECF6",
          "polar": {
           "angularaxis": {
            "gridcolor": "white",
            "linecolor": "white",
            "ticks": ""
           },
           "bgcolor": "#E5ECF6",
           "radialaxis": {
            "gridcolor": "white",
            "linecolor": "white",
            "ticks": ""
           }
          },
          "scene": {
           "xaxis": {
            "backgroundcolor": "#E5ECF6",
            "gridcolor": "white",
            "gridwidth": 2,
            "linecolor": "white",
            "showbackground": true,
            "ticks": "",
            "zerolinecolor": "white"
           },
           "yaxis": {
            "backgroundcolor": "#E5ECF6",
            "gridcolor": "white",
            "gridwidth": 2,
            "linecolor": "white",
            "showbackground": true,
            "ticks": "",
            "zerolinecolor": "white"
           },
           "zaxis": {
            "backgroundcolor": "#E5ECF6",
            "gridcolor": "white",
            "gridwidth": 2,
            "linecolor": "white",
            "showbackground": true,
            "ticks": "",
            "zerolinecolor": "white"
           }
          },
          "shapedefaults": {
           "line": {
            "color": "#2a3f5f"
           }
          },
          "ternary": {
           "aaxis": {
            "gridcolor": "white",
            "linecolor": "white",
            "ticks": ""
           },
           "baxis": {
            "gridcolor": "white",
            "linecolor": "white",
            "ticks": ""
           },
           "bgcolor": "#E5ECF6",
           "caxis": {
            "gridcolor": "white",
            "linecolor": "white",
            "ticks": ""
           }
          },
          "title": {
           "x": 0.05
          },
          "xaxis": {
           "automargin": true,
           "gridcolor": "white",
           "linecolor": "white",
           "ticks": "",
           "title": {
            "standoff": 15
           },
           "zerolinecolor": "white",
           "zerolinewidth": 2
          },
          "yaxis": {
           "automargin": true,
           "gridcolor": "white",
           "linecolor": "white",
           "ticks": "",
           "title": {
            "standoff": 15
           },
           "zerolinecolor": "white",
           "zerolinewidth": 2
          }
         }
        },
        "xaxis": {
         "anchor": "y",
         "autorange": true,
         "domain": [
          0,
          1
         ],
         "range": [
          -0.5,
          37.5
         ],
         "title": {
          "text": "DurationAsHour"
         },
         "type": "linear"
        },
        "yaxis": {
         "anchor": "x",
         "domain": [
          0,
          1
         ],
         "range": [
          -1,
          40
         ],
         "title": {
          "text": "EstimationErrorInHours"
         },
         "type": "linear"
        }
       }
      },
      "image/png": "[encoded data removed]",
      "text/html": [
       "<div>                            <div id=\"36a99e4b-d8e9-4169-8319-d1f214c9f811\" class=\"plotly-graph-div\" style=\"height:525px; width:100%;\"></div>            <script type=\"text/javascript\">                require([\"plotly\"], function(Plotly) {                    window.PLOTLYENV=window.PLOTLYENV || {};                                    if (document.getElementById(\"36a99e4b-d8e9-4169-8319-d1f214c9f811\")) {                    Plotly.newPlot(                        \"36a99e4b-d8e9-4169-8319-d1f214c9f811\",                        [{\"alignmentgroup\":\"True\",\"hovertemplate\":\"DurationAsHour=%{x}<br>EstimationErrorInHours=%{y}<extra></extra>\",\"legendgroup\":\"\",\"marker\":{\"color\":\"#636efa\"},\"name\":\"\",\"notched\":false,\"offsetgroup\":\"\",\"orientation\":\"v\",\"showlegend\":false,\"type\":\"box\",\"x\":[1.0,0.0,0.0,1.0,1.0,0.0,1.0,0.0,0.0,2.0,0.0,0.0,6.0,1.0,0.0,12.0,2.0,0.0,0.0,0.0,1.0,1.0,0.0,0.0,0.0,0.0,4.0,3.0,0.0,0.0,0.0,0.0,1.0,0.0,0.0,1.0,0.0,0.0,1.0,0.0,0.0,0.0,0.0,0.0,1.0,5.0,0.0,0.0,0.0,3.0,0.0,1.0,0.0,1.0,1.0,1.0,1.0,0.0,1.0,2.0,0.0,0.0,0.0,2.0,0.0,0.0,1.0,1.0,0.0,0.0,0.0,1.0,1.0,0.0,0.0,0.0,1.0,0.0,0.0,0.0,0.0,0.0,1.0,0.0,0.0,0.0,0.0,0.0,0.0,2.0,6.0,1.0,0.0,0.0,0.0,2.0,2.0,2.0,1.0,0.0,0.0,0.0,0.0,0.0,18.0,1.0,0.0,1.0,0.0,0.0,0.0,0.0,3.0,8.0,1.0,1.0,0.0,0.0,0.0,1.0,3.0,0.0,10.0,1.0,0.0,0.0,5.0,0.0,20.0,2.0,0.0,0.0,1.0,0.0,1.0,3.0,1.0,0.0,2.0,37.0,1.0,0.0,0.0,1.0,1.0,0.0,4.0,0.0,2.0,0.0,0.0,1.0,0.0,1.0,3.0,0.0,1.0,1.0,1.0,2.0,0.0,4.0,18.0,7.0,1.0,0.0,0.0,1.0,1.0,1.0,1.0,0.0,0.0,0.0,0.0,0.0,0.0,0.0,0.0,0.0,0.0,0.0,0.0,0.0,0.0,0.0,2.0,0.0,1.0,18.0,1.0,0.0,0.0,0.0,0.0,1.0,1.0,1.0,2.0,3.0,0.0,1.0,0.0,0.0,1.0,1.0,0.0,2.0,1.0,0.0,6.0,1.0,0.0,0.0,0.0,0.0,0.0,1.0,0.0,0.0,0.0,0.0,1.0,0.0,0.0,2.0,0.0,0.0,0.0,0.0,0.0,0.0,0.0,0.0,3.0,0.0,0.0,0.0,3.0,0.0,1.0,2.0,0.0,6.0,0.0,0.0,0.0,0.0,0.0,1.0,0.0,1.0,11.0,1.0,2.0,1.0,3.0,0.0,0.0,0.0,1.0,0.0,0.0,0.0,0.0,1.0,1.0,1.0,0.0,0.0,2.0,3.0,3.0,0.0,1.0,4.0,0.0,3.0,1.0,8.0,0.0,0.0,2.0,0.0,0.0,13.0,0.0,0.0,0.0,0.0,1.0,1.0,1.0,0.0,0.0,3.0,3.0,0.0,0.0,1.0,0.0,0.0,0.0,1.0,0.0,1.0,0.0,0.0,1.0,1.0,1.0,0.0,2.0,0.0,0.0,1.0,0.0,1.0,2.0,0.0,0.0,0.0,0.0,0.0,1.0,2.0,0.0,1.0,9.0,0.0,7.0,0.0,2.0,0.0,0.0,1.0,1.0,3.0,2.0,8.0,28.0,0.0,1.0,0.0,0.0,1.0,0.0,1.0,1.0,0.0,9.0,0.0,3.0,0.0,0.0,1.0,1.0,0.0,0.0,1.0,0.0,0.0,0.0,1.0,0.0,5.0,0.0,1.0,1.0,0.0,1.0,1.0,1.0,0.0,0.0,0.0,8.0,0.0,0.0,0.0,0.0,1.0,0.0,0.0,0.0,0.0,0.0,1.0,1.0,1.0,0.0,6.0,0.0,0.0,1.0,0.0,2.0,0.0,0.0,0.0,0.0,1.0,0.0,0.0,0.0,0.0,1.0,0.0,0.0,0.0,0.0,1.0,1.0,0.0,1.0,0.0,0.0,0.0,0.0,3.0,0.0,4.0,0.0,0.0,0.0,0.0,0.0,0.0,0.0,4.0,1.0,2.0,0.0,4.0,0.0,3.0,0.0,3.0,1.0,0.0,1.0,1.0,1.0,0.0,1.0,0.0,0.0,0.0,0.0,2.0,1.0,1.0,1.0,0.0,1.0,0.0,0.0,3.0,1.0,0.0,1.0,1.0,2.0,0.0,2.0,0.0,4.0,1.0,1.0,1.0,5.0,0.0,2.0,0.0,29.0,0.0,7.0,2.0,0.0,0.0,0.0,1.0,0.0,1.0,2.0,1.0,1.0,0.0,0.0,0.0,1.0,0.0,1.0,1.0,0.0,0.0,0.0,0.0,0.0,0.0,13.0,1.0,0.0,3.0,0.0,0.0,0.0,5.0,1.0,0.0,0.0,2.0,0.0,1.0,0.0,5.0,0.0,4.0,0.0,0.0,1.0,0.0,1.0,3.0,0.0,0.0,1.0,1.0,1.0,0.0,0.0,1.0,0.0,1.0,1.0,1.0,0.0,1.0,1.0,0.0,6.0,0.0,0.0,1.0,4.0,0.0,1.0,2.0,0.0,1.0,2.0,2.0,0.0,0.0,0.0,0.0,1.0,0.0,1.0,0.0,4.0,1.0,1.0,1.0,0.0,10.0,0.0,0.0,0.0,0.0,0.0,34.0,0.0,0.0,0.0,0.0,0.0,2.0,33.0,1.0,1.0,0.0,0.0,0.0,0.0,0.0,1.0,3.0,0.0,1.0,0.0,2.0,1.0,0.0,1.0,4.0,1.0,0.0,0.0,0.0,1.0,1.0,1.0,3.0,1.0,2.0,0.0,1.0,0.0,0.0,1.0,0.0,1.0,0.0,1.0,3.0,1.0,0.0,0.0,0.0,0.0,0.0,0.0,0.0,0.0,2.0,1.0,0.0,0.0,2.0,2.0,0.0,0.0,0.0,0.0,3.0,0.0,0.0,0.0,0.0,0.0,0.0,1.0,0.0,0.0,0.0,1.0,1.0,2.0,0.0,0.0,0.0,0.0,0.0,1.0,2.0,1.0,1.0,0.0,0.0,0.0,0.0,0.0,0.0,2.0,0.0,0.0,0.0,1.0,0.0,0.0,1.0,20.0,0.0,6.0,1.0,0.0,1.0,0.0,1.0,0.0,0.0,0.0,0.0,0.0,1.0,0.0,0.0,0.0,0.0,0.0,0.0,0.0,0.0,0.0,1.0,0.0,0.0,1.0,0.0,0.0,0.0,1.0,0.0,6.0,0.0,0.0,0.0,0.0,3.0,1.0,0.0,0.0,1.0,1.0,5.0,0.0,2.0,0.0,0.0,0.0,0.0,0.0,0.0,0.0,0.0,0.0,0.0,3.0,0.0,1.0,0.0,19.0,0.0,0.0,0.0,1.0,0.0,0.0,0.0,0.0,0.0,1.0,1.0,2.0,0.0,5.0,0.0,1.0,6.0,4.0,0.0,1.0,0.0,3.0,1.0,0.0,1.0,4.0,0.0,1.0,0.0,0.0,0.0,0.0,0.0,0.0,0.0,0.0,2.0,0.0,0.0,1.0,0.0,1.0,5.0,0.0,4.0,1.0,0.0,1.0,0.0,17.0,2.0,5.0,0.0,0.0,0.0,3.0,0.0,0.0,0.0,1.0,0.0,0.0,0.0,3.0,0.0,0.0,0.0,2.0,0.0,21.0,0.0,0.0,0.0,0.0,4.0,2.0,0.0,2.0,0.0,0.0,0.0,0.0,0.0,0.0,1.0,0.0,0.0,0.0,1.0,0.0,0.0,0.0,0.0,2.0,2.0,3.0,4.0,0.0,1.0,4.0,0.0,2.0,0.0,2.0,0.0,0.0,7.0,0.0,0.0,1.0,0.0,16.0,0.0,0.0,0.0,0.0,0.0,0.0,0.0,0.0,0.0,0.0,4.0,0.0,1.0,0.0,0.0,0.0,1.0,0.0,8.0,0.0,0.0,0.0,0.0,1.0,3.0,0.0,0.0,3.0,1.0,0.0,1.0,0.0,0.0,2.0,6.0,0.0,0.0,1.0,0.0,0.0,1.0,7.0,1.0,0.0,3.0,15.0,0.0,0.0,0.0,0.0,0.0,1.0,0.0,1.0,0.0,0.0,0.0,0.0,0.0,0.0,0.0,1.0,0.0,0.0,6.0,0.0,10.0,0.0,0.0,0.0,0.0,1.0,0.0,0.0,0.0,1.0,0.0,0.0,0.0,0.0,1.0,3.0,1.0,0.0,0.0,18.0,0.0,4.0,0.0,0.0,0.0,0.0,0.0,0.0,0.0,2.0,4.0,0.0,1.0,1.0,0.0,1.0,1.0,0.0,0.0,2.0,1.0,1.0,1.0,1.0,0.0,0.0,0.0,13.0,1.0,0.0,5.0,1.0,2.0,1.0,3.0,0.0,0.0,3.0,1.0,0.0,0.0,0.0,1.0,0.0,0.0,0.0,0.0,0.0,0.0,0.0,0.0,0.0,0.0,2.0,0.0,0.0,0.0,0.0,2.0,5.0,0.0,0.0,1.0,0.0,0.0,0.0,0.0,0.0,0.0,0.0,0.0,0.0,0.0,0.0,1.0,1.0,1.0,1.0,0.0,0.0,0.0,1.0,2.0,0.0,1.0],\"x0\":\" \",\"xaxis\":\"x\",\"y\":[2.7099504989690386,0.7318751994062483,0.3437310074955908,0.6041300975055665,1.122875,0.4130299234774444,0.7076497798385774,0.6301986971929162,0.4042712652320203,3.695644907279993,0.49276471154734713,1.03584175260288,2.8377919928655904,0.5840705052231362,1.6068959028216407,4.995600283645476,2.0126478064222906,0.6271725354721892,1.4196515623265624,0.4522027900308679,0.40279750233426703,0.654427485071704,1.447429647435897,1.2599816849816847,0.3622843314093314,1.2307462740718893,3.2215444444444445,3.7736133690331775,1.1958456447837729,0.6329804724778166,0.2035407407407407,0.7732719783002734,0.40775414999333065,1.3383104548229547,0.22875061175695502,1.843543115842365,0.8481169715407284,0.6459545546470089,1.6469297369297367,1.760213431627585,2.0029397289309534,0.6003961015573849,0.16839847500481828,0.2007318083381516,1.5591153125203157,4.466480044066318,0.5694422817693802,0.6404264272022179,3.12416323413547,3.0676577124519016,0.8758433750239412,0.6046409614774901,1.2104896214896215,0.9402644450805622,2.5876975603146235,2.3858836984812366,0.6738276836458253,0.4583641199621635,0.8603568145087391,0.6319186096878285,0.24813214285714286,0.6598469713989786,0.925877721331015,7.8087179548229555,0.7400595138358536,0.8175340094278865,0.5174032294173092,2.5244954990859187,0.681481361086409,0.8312900938041626,1.1210369569307352,0.6333929082417491,0.603242347986567,1.1427104168543702,1.1422068485834145,1.6133789353728885,0.613098345414778,1.1618161094566413,0.44942153144785496,0.4402813841120258,0.1877318083381516,0.4760671881048747,0.6615801786743979,0.4565128655935072,0.9781944096765987,0.5205622483378256,0.7079760314469066,0.37092774300993203,1.2104896214896215,0.9481216209454796,4.813791210386086,0.3023357765921199,0.7143646431873627,1.1371612804813946,1.9704391748755719,3.1827233269226682,2.1429391820619537,1.8347906008032877,0.6358950596267785,0.8977392596574778,0.3622843314093314,0.23287103174603171,0.37994946706831034,1.7042993176417254,3.5203743712120588,0.7029010120077311,0.23475061175695502,0.5711868201688757,0.20575061175695503,0.6063496460929441,1.15971084650646,0.6036215807908,4.222878840571905,5.933156294605922,0.6905540917178761,0.46499819047619045,1.2104896214896215,0.8692319173422355,1.1493198313280488,1.1548602665114225,2.030064491799545,2.0274453713878713,3.8164251270500134,2.2215366658461804,0.23929306584757987,0.3729346273961935,5.50305,0.6436845067034096,6.861931809161438,1.8591740297045538,0.6695281516459787,0.5337087185133202,0.6049051786743977,0.2508422166333398,1.4911954988863771,2.603870573870573,0.6717297157114347,0.7685159161482141,0.9377912336703653,19.920822954822953,0.37092774300993203,0.26839391151275477,0.46034847500481835,0.6712679664278622,0.634938512007731,2.2454055091085703,2.387534210080043,0.3906208379799789,3.1371859645347384,0.6204376539294059,1.2282690481200127,1.1182700266704477,0.5187691771160202,2.293666417147667,2.603870573870573,0.6316513096267786,0.6265038982705442,0.6481210317460316,1.2275577279758798,0.9169208033237664,0.9048512654772555,8.169862053494224,13.2092896494709,5.428987658031343,1.0143152831012086,2.1669377010656556,1.5098258410645546,3.000428538359789,0.6401466176413817,1.7482344785305914,2.508609562791887,0.3622843314093314,1.4280930917814763,1.3372986256704027,3.30750066652323,0.6407353214496506,0.5278531889388922,1.1337636688156782,1.103041446593456,1.1197136688156784,0.4651156054415848,0.451820466552696,2.754344256661589,0.8717186710388869,2.7153725049604747,1.5936270504920254,1.5758684093684094,0.6595495675382904,2.603870573870573,9.393829570895607,0.6617292608435901,0.9674143065517661,0.4201838875613259,0.8165476358241656,0.2431485478486412,1.108741357667403,0.6674015672408965,0.39574876560637434,4.88945808979823,3.8235053461199286,1.9149226050307624,0.6459545546470089,0.5545194347301379,1.199428891086468,2.9068279443377727,1.809210067224247,1.3428358541112972,1.1139838237301667,1.1106237441732858,1.0216421071842252,2.6974403087000822,0.6176150436466824,0.24813214285714286,0.4227189454744892,1.8626675810685023,1.9615347428250254,1.1268736226455098,0.5888740740740741,0.6220422208971768,0.49965036980682026,0.4869908767208054,0.3226831243772645,1.0814361073450363,1.4353666784575814,0.33406527836240163,1.1541388543229567,0.5152487136028535,3.0793846060647545,0.5078563390512499,0.5433538313695864,0.5894053071124962,0.6568661909702895,0.3894397910439311,0.6207384715620082,1.6717818901993722,0.24049306584757987,2.8838540228022613,2.35517245805478,2.234937541231455,0.6448926918570212,0.6463669904109415,2.4307693071296037,1.1599278226208303,2.603870573870573,3.6577566449814967,7.144823591955764,1.0799948781325381,2.4307693071296037,0.5074928240670676,0.7158750941769234,0.5998967193352922,3.336055032411108,9.765612053494225,0.7038125941769234,0.5894053071124962,1.2919923430564546,0.4914085279148711,0.5014085279148711,0.6237412478603268,0.26671186926638324,0.6745542608435902,0.23287103174603171,0.3622843314093314,0.5861261381646836,0.6559357095450231,3.00830679335653,0.6491297153890446,1.4763497049918546,0.2076510765469099,1.7692077961175159,1.7642378794274052,3.399035516971751,2.603870573870573,0.5211127862388317,0.9509143346528276,1.9503798404856016,0.6488691417959711,2.951335128556766,0.48286855006269014,5.357069425569407,0.6410048528969491,0.7059714878858514,3.3062981812169316,3.096629109340982,0.9607532897721925,11.80450704222787,1.280441848021024,1.3128711678799514,0.5666955889141061,0.4570549660730547,2.778683354042914,0.5852811953384781,1.593201849049483,1.1945956950549446,0.8611710071476466,1.6876571093328552,2.0224609917136043,0.8816473799654034,0.6626146474637006,0.7035281738870685,1.9928415746971126,0.5152487136028535,0.24813214285714286,0.63228448960176,0.7109612315067912,1.2944194594481944,1.6676351828610232,1.8216269424939724,1.327655096109964,1.733001695020094,0.6234051770434034,1.5341368583851442,1.4207690700341569,0.6261274989618207,1.9572132978813208,1.681156288156288,0.7165983572252529,0.6178792608435901,2.3366896215348327,0.5672168365044299,0.5722814392627826,0.9815600118149365,0.5967155640166095,0.5152487136028535,0.44512505329224233,2.692610859576931,0.6847037978806271,1.7437844187709612,3.9156594907337348,2.038005461136033,3.3455405212497777,3.713509562717671,2.5626193754096303,1.4531473027585768,1.8198000000000003,1.0074099501277414,1.2930123430768026,1.2851176936358355,4.276710232655373,9.247362053494223,19.782365036293175,0.8196691723944217,0.9031055533126295,0.4914085279148711,0.24813214285714286,0.6446253917959711,0.3622843314093314,1.634958322123473,1.3895977737378609,0.7581826872211592,4.641909900814334,0.8692056235459406,2.391498850686366,0.980552951631392,0.2947118692663833,0.6115760522299679,3.917676114466271,1.470946768164757,0.9333831919201792,1.5758684093684094,0.6576959513525836,0.3877050820492221,0.3289118692663832,0.6376446519173177,0.6392419472756029,5.905299145299144,0.6375566866741013,3.763509562717671,0.6346184901965906,1.1751446646226247,1.9049986941428174,0.48966958945814676,0.9868288576674031,2.737614617055194,2.3243349377199514,0.9950274861227603,6.9022118716931224,0.5214193922902494,0.34243345550963206,1.0102071097813534,1.0455214667823642,0.640426427202218,0.24813214285714286,3.8116164110329245,0.529730301229612,0.5741026976285823,1.004869198710718,2.4711807668257664,0.7555364744418965,1.4361958091810723,0.6534005093714104,3.726539621489621,1.856944561587747,0.5349902494158608,0.6478723819266193,3.053795218925842,3.3254206517362275,0.3497029927093359,1.3063963412525217,1.0191337558935794,0.3026366166077931,0.6120869162018915,0.8159918423190723,0.6165140934523857,0.32243467955610117,0.41693764325305516,0.6377537809183297,0.2713118692663833,1.540478554642632,0.46041412237487733,0.9210782920687701,0.6352071940048596,1.092,0.6212069735829936,1.1290871363527435,0.5945556980550087,2.3318239990274923,0.8484784822287946,3.548940757016353,2.143629586115929,0.7132241937746778,4.0632379394517,1.8710519014300775,1.2275572107058867,0.20006514167148495,0.7523780639473533,0.3761837304593555,1.0287646514490192,1.7169341335267032,1.1051944422979656,14.093323822267,3.7729964826553726,23.552472970011625,3.8459058707873033,3.2262245247991155,4.281214903703396,0.5836359911015062,1.7100144471037382,2.1121196264037208,1.0469506665153845,2.776423199471898,2.095928183457717,0.6408388629661503,0.24687103174603173,0.35137103174603174,2.6734023267081586,0.7345607822141578,0.24229306584757987,1.4168229548229547,1.2002049846797667,1.036204760458136,0.6106883027109684,4.554004390480542,0.8573488240898696,0.6205443001391795,0.7915161410055619,1.7898296169775814,2.7168554696350156,1.227908013196457,0.39014749898958023,1.6473121865231568,3.384201900474346,3.689498317254234,0.8435287142676746,1.5386404936080038,0.9596117150887805,2.8010660209561906,0.9839795274086023,0.6134298967988403,1.6724372376310805,3.6227395259481154,3.8742010684588735,3.833602913171831,2.853728605757983,14.988325227286762,1.7549594624080305,6.8870477872266145,2.9082020568611244,0.24922033016354847,0.4427946428571429,2.054373519345578,2.0002742454689457,0.6017415492339285,2.3935879752800218,1.5575140680236494,1.3005446428571428,0.9625280644736925,1.2256237437635025,1.1725353851414482,1.7275815893488442,1.2434727756277,0.28544938466266884,1.7516497770416042,1.5345032367385811,0.9799953577958417,1.070071794344696,0.7377253918821259,1.1427211319844588,1.4708089856369002,1.3205188003026591,6.235460414706692,0.5822053353941329,0.3788772720763249,2.258749450756471,2.72590562131205,1.8069678879356692,1.8604261987685338,1.7423331407470255,1.0487986993429446,1.1343792641363921,1.2958926697568884,2.240162548500062,1.5563225811808084,0.8137027234630951,0.8063150970392043,3.3150333772464,1.7599228467700943,2.162294019541018,1.0188996538334083,1.043610395814936,2.7083649642295167,0.4085728317547765,0.9559369426624805,2.239338747291283,1.7075898585978118,0.6356516407403182,0.752995733763591,0.39862773386034256,1.8768302099262717,0.5793821360556816,0.6223936439921894,0.754424913482487,2.6358571806652034,1.0205729965856312,1.1879566666666668,4.034683468586107,1.0197484685350908,1.515281288156288,2.0093033460605176,0.3613666227492314,4.276710232655373,3.9614334685861086,4.276710232655373,1.1396896301822481,2.4182944007768694,2.2580809062983134,0.563851684361458,1.632929636883875,1.2065290318119277,1.5252472038992118,2.632968673445547,3.1301707554354743,0.6909729850064248,1.433767065927078,0.6353571302826142,0.7151696302826144,1.6431581451757082,0.39862773386034256,1.183898984908372,2.0139103741503983,2.7940786412446186,1.755908416453016,0.7348567137396513,0.7935413576674031,0.9257582228497135,2.2530253600309336,1.187762651375759,0.23708394509028835,0.6327085489586424,0.22775061175695502,0.2001984750048183,4.88945808979823,0.6738654636159478,1.1585805791735002,0.20875061175695503,1.3324666363802442,0.41539034860584645,1.0140839450902883,8.012243499350316,1.0169781788337016,2.0997387764514337,1.67365773320994,0.3969330781293382,1.747006449540115,1.5104070756558061,1.6059889858281966,0.5521963047995357,1.2197687241772113,0.6341552621687341,0.48619630479953574,0.7885890123953172,7.917479032337479,1.2909698163157577,0.8240745679465011,6.432192451574311,2.6713943903825212,1.183898984908372,1.0805725758418403,0.060845345340933575,0.7767527666522612,1.3236413649231291,0.9695616956469099,1.6155841716547492,3.459821501820236,0.6993167841532578,3.7545123255104684,0.3847501331680837,1.4214268464762017,1.1811871142013326,0.21308394509028836,2.3294493897390463,1.4426715311777052,0.859248445800883,0.44385343371110075,1.5491980237461234,1.630132679703689,0.7748979905517103,0.46017613476687286,0.6314016371630914,0.4157528344152491,0.40200645348467173,1.2301382984439004,1.2376141080748053,2.9614695468357497,0.25686662274923144,2.176366502491825,1.770994367992789,0.7504266294206645,2.6864595717869,1.7905270049671314,1.7635583790365235,0.7747415580781651,2.0995910392003987,1.1809422840393826,2.3348882095935206,7.076675971133533,0.6982937761976472,1.6571035782614651,1.2509061900134886,0.6287376858381699,2.2003355895371794,0.44940503495826606,2.26694491725368,1.1158532557657954,0.5994100369430221,1.1965538268433606,1.037703692703786,1.3273408279476706,2.3904657570439123,0.9551423090253464,0.8483919926026295,2.59570226595695,0.22108394509028834,0.19539847500481827,3.0475876867759637,2.335998125125296,1.4311939484697094,0.6291413246554044,0.2477318083381516,1.1736603805011034,1.576909564983877,0.7857097613088734,1.615522784806563,1.239219333200075,1.5723664178405685,0.37227992241253116,0.25812773386034255,0.3941830154392223,2.0980617098838947,1.2492284824923778,1.4841239932229946,0.8390380242511182,14.422773984908373,0.7952739841243412,4.63225239207298,0.8481695203380658,1.2966375722753993,0.923372466148932,0.594027818885907,1.665918938305802,2.158865130755476,1.1899768890604296,0.6791578222566402,0.3401044456507057,2.213850547485221,1.1684380005629125,1.0435238033044858,0.8328585412489627,1.1186628764049742,2.4480789839785966,0.8897502571544855,0.43450519724540304,1.2718916163578309,0.19273180833815162,0.3154026412079984,0.2692647708973796,0.250631774264383,0.38615890734926456,1.183898984908372,0.8616773252136752,0.37187067883370156,1.4165350496310838,1.6221676442075705,0.6287376858381699,3.3821509474915628,0.6630932413937256,0.35031186926638325,0.8236746839409955,0.4991473991516652,1.7936907264252386,0.8293517057202326,0.28047569794190486,0.38149194518642354,1.0365316741530584,0.8005177385217949,5.596806851842574,1.9252410936863564,1.4196755104062888,3.0995932981377083,0.7428219035214847,0.9376950853773497,0.5670059729513486,1.0836132060219603,0.5384059729513486,1.8605288783846874,0.30944995608256476,0.3613666227492314,0.6630932413937256,2.1315045229276532,0.43293352746954256,3.980596693288426,1.0292613755833087,4.729377348189138,1.9451696145343365,0.8083217188185358,0.6630932413937256,3.9578297644590146,1.2283543568640447,0.3814856525332461,1.760387419310511,0.534148611277276,0.17906514167148496,0.8036068798128614,1.0999488501306574,1.3558706788337014,0.9395315132910107,1.7318883050933243,1.5769304264731667,1.4281993595384932,2.4918690882951378,11.150370209370996,0.4324602014124686,1.5766723058519159,0.21608394509028836,1.471172500426557,0.7839997769487359,0.8817370312484758,0.49952515291903027,0.5942995596771546,3.130989056725931,0.43238651014223195,0.7887465324486134,1.038294110291366,0.2482190721844293,1.0311262563186847,0.3542471450646296,1.2619443790488298,0.39793581466842337,0.8817370312484758,3.6359215491730152,0.6650296425855211,2.035630186642274,4.4039505722099594,1.5607497584313024,0.8104120725625565,3.2164400831459994,1.8049909537391757,2.274222699683427,1.8972265534360908,0.6373752926757768,0.727029054199837,1.377324924183245,9.37246590337364,1.7672863241785361,4.102110969970099,0.5701802469689041,0.7071095028434927,0.8262967555032504,4.507103961700858,2.013660325014919,0.6465027842085629,4.544403653951838,1.7869059175379538,1.4288053804030922,1.2672734778376966,1.5954889319472079,2.743953433280367,2.6256984068023286,0.2562040459941127,0.6783650649351556,2.907250570128984,0.5772131944827694,10.635587768028014,0.3413623716637149,0.9510230837216544,0.6156466981762356,0.35529160122940673,4.102471048124447,1.730689219165137,0.19306514167148495,0.8823466102039735,0.38370183039741235,0.9708238471793428,0.25141727842362166,0.0921786786742669,0.361142885375494,0.3613666227492314,0.8945215482720322,2.9691237493517417,4.621548957875165,0.6266960191715031,2.013443662257763,0.39599309548732503,5.046483828477288,8.002682479011156,0.9830851649798411,1.9451696145343365,3.057592650980078,1.3081362066679962,3.8328839844282143,1.6257142184598075,1.0755135871453516,1.9634232925483857,1.4187420882043964,1.6083063387632486,0.8108727205989729,4.354533621393001,0.2084172784236217,0.20908394509028835,4.43702357825403,1.1343448497970567,1.8509705947811514,1.4660407645510505,2.222773231885696,6.070462775794834,0.4596631015858873,0.30563177426438304,2.5588205678404248,0.3654723505634959,14.869129938283399,0.605734083328488,0.3775394273356873,0.6630932413937256,1.57792322877812,0.6266960191715031,2.363287707283695,0.73547444861528,1.2250232011544953,2.740285202275072,0.9804201914463501,0.6266960191715031,2.0531493170404636,0.4099743679218888,15.897509198457652,0.2679118692663833,0.33001529682438774,0.2653118692663833,0.7715511451017687,1.4277754798371154,2.6533666227492314,1.0904847053795383,0.6214000251682723,2.277253560706577,0.6023530935567672,0.4941664636422539,1.3484664487943883,0.37227992241253116,0.20561662274923143,2.476308328207943,2.721316189912176,2.4180362412211256,2.065111519875627,2.3988810458604575,1.4847083756293125,2.535519855148847,0.7665348551158131,4.455947055665124,1.1082713442464647,1.1705536917792567,2.5926760769824093,6.793051296786358,0.677357538251601,0.6519657027623111,0.20313695270780116,2.805105927590914,3.676829419056115,1.4256394278761377,0.8177808076170835,0.5057803576383934,2.0167837529302446,1.4617986081949377,0.43740059069208914,0.7829107533350412,0.36531823305929023,0.21808394509028836,0.8772726620081612,0.5942995596771546,1.2370644290161479,2.5570188538723286,3.11737498733372,1.62676369200243,3.9387645091619277,0.28337322615655947,0.612794517179286,0.3507944005270092,1.1920408868728067,1.9710613230213256,0.5634969644204767,1.5594460090961337,0.8423525242782977,0.5379118206451191,0.7377253918821259,0.9306753324536636,0.8104120725625565,6.232418591430306,0.8329058531235525,0.8876206788337017,1.1978850165002204,7.6812001655556195,0.6053877927056747,8.880835974863624,1.182005006004445,2.476308328207943,0.8772726620081612,3.206059111922083,1.5017120435221867,0.40780481784917194,0.39793581466842337,0.8772726620081612,0.23175061175695502,0.9415583619533153,5.234907328942325,1.5221054490998185,4.577858257343057,1.313709792630566,0.43238651014223195,0.37227992241253116,1.5873133832110022,0.3608959737133936,0.3218778460077659,1.487981140515326,0.9884014519935121,1.6978556214399243,0.7333903468100527,1.6257919124424058,1.356748053583089,0.41394445398463486,1.2711505236987888,11.140307610120223,5.164835952371675,0.8939505549971023,5.066329490736586,4.0362011503060815,1.9004186692032488,1.9931579924808112,3.0172956539838163,0.5775453205996823,1.2577725057697433,5.4050090276511815,1.1362188819818033,1.260047959752216,1.1843242775009961,2.327520566380099,4.470961002846347,4.065715400200201,1.365151931646183,0.43316807197960133,1.615421453411033,0.8715032176921089,0.5014750380456541,0.37113794821735996,0.30944995608256476,0.9655264435446324,0.6175509161852041,3.146316212747442,2.8135720673544364,0.8254025607808919,1.3714174995381663,1.4100164251492728,2.4629142051449815,6.326116193850996,0.5189131928935105,1.3952797335042875,1.4018383473514784,0.8452544670683103,0.2651327040171158,2.2222439623944656,0.26211186926638325,0.42651597686027926,0.26594508228543945,0.30944995608256476,0.2922896089474163,0.26191186926638327,0.5771592642685422,0.5217824662441031,3.4814051801825387,1.4837526372517647,1.4558634876735774,0.6609206668494905,1.357183025466764,0.8772726620081612,2.3754714526794207,1.530152611431815,2.7154380499237427,0.6266960191715031,0.6754598062821541],\"y0\":\" \",\"yaxis\":\"y\"}],                        {\"boxmode\":\"group\",\"legend\":{\"tracegroupgap\":0},\"margin\":{\"t\":60},\"template\":{\"data\":{\"bar\":[{\"error_x\":{\"color\":\"#2a3f5f\"},\"error_y\":{\"color\":\"#2a3f5f\"},\"marker\":{\"line\":{\"color\":\"#E5ECF6\",\"width\":0.5},\"pattern\":{\"fillmode\":\"overlay\",\"size\":10,\"solidity\":0.2}},\"type\":\"bar\"}],\"barpolar\":[{\"marker\":{\"line\":{\"color\":\"#E5ECF6\",\"width\":0.5},\"pattern\":{\"fillmode\":\"overlay\",\"size\":10,\"solidity\":0.2}},\"type\":\"barpolar\"}],\"carpet\":[{\"aaxis\":{\"endlinecolor\":\"#2a3f5f\",\"gridcolor\":\"white\",\"linecolor\":\"white\",\"minorgridcolor\":\"white\",\"startlinecolor\":\"#2a3f5f\"},\"baxis\":{\"endlinecolor\":\"#2a3f5f\",\"gridcolor\":\"white\",\"linecolor\":\"white\",\"minorgridcolor\":\"white\",\"startlinecolor\":\"#2a3f5f\"},\"type\":\"carpet\"}],\"choropleth\":[{\"colorbar\":{\"outlinewidth\":0,\"ticks\":\"\"},\"type\":\"choropleth\"}],\"contour\":[{\"colorbar\":{\"outlinewidth\":0,\"ticks\":\"\"},\"colorscale\":[[0.0,\"#0d0887\"],[0.1111111111111111,\"#46039f\"],[0.2222222222222222,\"#7201a8\"],[0.3333333333333333,\"#9c179e\"],[0.4444444444444444,\"#bd3786\"],[0.5555555555555556,\"#d8576b\"],[0.6666666666666666,\"#ed7953\"],[0.7777777777777778,\"#fb9f3a\"],[0.8888888888888888,\"#fdca26\"],[1.0,\"#f0f921\"]],\"type\":\"contour\"}],\"contourcarpet\":[{\"colorbar\":{\"outlinewidth\":0,\"ticks\":\"\"},\"type\":\"contourcarpet\"}],\"heatmap\":[{\"colorbar\":{\"outlinewidth\":0,\"ticks\":\"\"},\"colorscale\":[[0.0,\"#0d0887\"],[0.1111111111111111,\"#46039f\"],[0.2222222222222222,\"#7201a8\"],[0.3333333333333333,\"#9c179e\"],[0.4444444444444444,\"#bd3786\"],[0.5555555555555556,\"#d8576b\"],[0.6666666666666666,\"#ed7953\"],[0.7777777777777778,\"#fb9f3a\"],[0.8888888888888888,\"#fdca26\"],[1.0,\"#f0f921\"]],\"type\":\"heatmap\"}],\"heatmapgl\":[{\"colorbar\":{\"outlinewidth\":0,\"ticks\":\"\"},\"colorscale\":[[0.0,\"#0d0887\"],[0.1111111111111111,\"#46039f\"],[0.2222222222222222,\"#7201a8\"],[0.3333333333333333,\"#9c179e\"],[0.4444444444444444,\"#bd3786\"],[0.5555555555555556,\"#d8576b\"],[0.6666666666666666,\"#ed7953\"],[0.7777777777777778,\"#fb9f3a\"],[0.8888888888888888,\"#fdca26\"],[1.0,\"#f0f921\"]],\"type\":\"heatmapgl\"}],\"histogram\":[{\"marker\":{\"pattern\":{\"fillmode\":\"overlay\",\"size\":10,\"solidity\":0.2}},\"type\":\"histogram\"}],\"histogram2d\":[{\"colorbar\":{\"outlinewidth\":0,\"ticks\":\"\"},\"colorscale\":[[0.0,\"#0d0887\"],[0.1111111111111111,\"#46039f\"],[0.2222222222222222,\"#7201a8\"],[0.3333333333333333,\"#9c179e\"],[0.4444444444444444,\"#bd3786\"],[0.5555555555555556,\"#d8576b\"],[0.6666666666666666,\"#ed7953\"],[0.7777777777777778,\"#fb9f3a\"],[0.8888888888888888,\"#fdca26\"],[1.0,\"#f0f921\"]],\"type\":\"histogram2d\"}],\"histogram2dcontour\":[{\"colorbar\":{\"outlinewidth\":0,\"ticks\":\"\"},\"colorscale\":[[0.0,\"#0d0887\"],[0.1111111111111111,\"#46039f\"],[0.2222222222222222,\"#7201a8\"],[0.3333333333333333,\"#9c179e\"],[0.4444444444444444,\"#bd3786\"],[0.5555555555555556,\"#d8576b\"],[0.6666666666666666,\"#ed7953\"],[0.7777777777777778,\"#fb9f3a\"],[0.8888888888888888,\"#fdca26\"],[1.0,\"#f0f921\"]],\"type\":\"histogram2dcontour\"}],\"mesh3d\":[{\"colorbar\":{\"outlinewidth\":0,\"ticks\":\"\"},\"type\":\"mesh3d\"}],\"parcoords\":[{\"line\":{\"colorbar\":{\"outlinewidth\":0,\"ticks\":\"\"}},\"type\":\"parcoords\"}],\"pie\":[{\"automargin\":true,\"type\":\"pie\"}],\"scatter\":[{\"marker\":{\"colorbar\":{\"outlinewidth\":0,\"ticks\":\"\"}},\"type\":\"scatter\"}],\"scatter3d\":[{\"line\":{\"colorbar\":{\"outlinewidth\":0,\"ticks\":\"\"}},\"marker\":{\"colorbar\":{\"outlinewidth\":0,\"ticks\":\"\"}},\"type\":\"scatter3d\"}],\"scattercarpet\":[{\"marker\":{\"colorbar\":{\"outlinewidth\":0,\"ticks\":\"\"}},\"type\":\"scattercarpet\"}],\"scattergeo\":[{\"marker\":{\"colorbar\":{\"outlinewidth\":0,\"ticks\":\"\"}},\"type\":\"scattergeo\"}],\"scattergl\":[{\"marker\":{\"colorbar\":{\"outlinewidth\":0,\"ticks\":\"\"}},\"type\":\"scattergl\"}],\"scattermapbox\":[{\"marker\":{\"colorbar\":{\"outlinewidth\":0,\"ticks\":\"\"}},\"type\":\"scattermapbox\"}],\"scatterpolar\":[{\"marker\":{\"colorbar\":{\"outlinewidth\":0,\"ticks\":\"\"}},\"type\":\"scatterpolar\"}],\"scatterpolargl\":[{\"marker\":{\"colorbar\":{\"outlinewidth\":0,\"ticks\":\"\"}},\"type\":\"scatterpolargl\"}],\"scatterternary\":[{\"marker\":{\"colorbar\":{\"outlinewidth\":0,\"ticks\":\"\"}},\"type\":\"scatterternary\"}],\"surface\":[{\"colorbar\":{\"outlinewidth\":0,\"ticks\":\"\"},\"colorscale\":[[0.0,\"#0d0887\"],[0.1111111111111111,\"#46039f\"],[0.2222222222222222,\"#7201a8\"],[0.3333333333333333,\"#9c179e\"],[0.4444444444444444,\"#bd3786\"],[0.5555555555555556,\"#d8576b\"],[0.6666666666666666,\"#ed7953\"],[0.7777777777777778,\"#fb9f3a\"],[0.8888888888888888,\"#fdca26\"],[1.0,\"#f0f921\"]],\"type\":\"surface\"}],\"table\":[{\"cells\":{\"fill\":{\"color\":\"#EBF0F8\"},\"line\":{\"color\":\"white\"}},\"header\":{\"fill\":{\"color\":\"#C8D4E3\"},\"line\":{\"color\":\"white\"}},\"type\":\"table\"}]},\"layout\":{\"annotationdefaults\":{\"arrowcolor\":\"#2a3f5f\",\"arrowhead\":0,\"arrowwidth\":1},\"autotypenumbers\":\"strict\",\"coloraxis\":{\"colorbar\":{\"outlinewidth\":0,\"ticks\":\"\"}},\"colorscale\":{\"diverging\":[[0,\"#8e0152\"],[0.1,\"#c51b7d\"],[0.2,\"#de77ae\"],[0.3,\"#f1b6da\"],[0.4,\"#fde0ef\"],[0.5,\"#f7f7f7\"],[0.6,\"#e6f5d0\"],[0.7,\"#b8e186\"],[0.8,\"#7fbc41\"],[0.9,\"#4d9221\"],[1,\"#276419\"]],\"sequential\":[[0.0,\"#0d0887\"],[0.1111111111111111,\"#46039f\"],[0.2222222222222222,\"#7201a8\"],[0.3333333333333333,\"#9c179e\"],[0.4444444444444444,\"#bd3786\"],[0.5555555555555556,\"#d8576b\"],[0.6666666666666666,\"#ed7953\"],[0.7777777777777778,\"#fb9f3a\"],[0.8888888888888888,\"#fdca26\"],[1.0,\"#f0f921\"]],\"sequentialminus\":[[0.0,\"#0d0887\"],[0.1111111111111111,\"#46039f\"],[0.2222222222222222,\"#7201a8\"],[0.3333333333333333,\"#9c179e\"],[0.4444444444444444,\"#bd3786\"],[0.5555555555555556,\"#d8576b\"],[0.6666666666666666,\"#ed7953\"],[0.7777777777777778,\"#fb9f3a\"],[0.8888888888888888,\"#fdca26\"],[1.0,\"#f0f921\"]]},\"colorway\":[\"#636efa\",\"#EF553B\",\"#00cc96\",\"#ab63fa\",\"#FFA15A\",\"#19d3f3\",\"#FF6692\",\"#B6E880\",\"#FF97FF\",\"#FECB52\"],\"font\":{\"color\":\"#2a3f5f\"},\"geo\":{\"bgcolor\":\"white\",\"lakecolor\":\"white\",\"landcolor\":\"#E5ECF6\",\"showlakes\":true,\"showland\":true,\"subunitcolor\":\"white\"},\"hoverlabel\":{\"align\":\"left\"},\"hovermode\":\"closest\",\"mapbox\":{\"style\":\"light\"},\"paper_bgcolor\":\"white\",\"plot_bgcolor\":\"#E5ECF6\",\"polar\":{\"angularaxis\":{\"gridcolor\":\"white\",\"linecolor\":\"white\",\"ticks\":\"\"},\"bgcolor\":\"#E5ECF6\",\"radialaxis\":{\"gridcolor\":\"white\",\"linecolor\":\"white\",\"ticks\":\"\"}},\"scene\":{\"xaxis\":{\"backgroundcolor\":\"#E5ECF6\",\"gridcolor\":\"white\",\"gridwidth\":2,\"linecolor\":\"white\",\"showbackground\":true,\"ticks\":\"\",\"zerolinecolor\":\"white\"},\"yaxis\":{\"backgroundcolor\":\"#E5ECF6\",\"gridcolor\":\"white\",\"gridwidth\":2,\"linecolor\":\"white\",\"showbackground\":true,\"ticks\":\"\",\"zerolinecolor\":\"white\"},\"zaxis\":{\"backgroundcolor\":\"#E5ECF6\",\"gridcolor\":\"white\",\"gridwidth\":2,\"linecolor\":\"white\",\"showbackground\":true,\"ticks\":\"\",\"zerolinecolor\":\"white\"}},\"shapedefaults\":{\"line\":{\"color\":\"#2a3f5f\"}},\"ternary\":{\"aaxis\":{\"gridcolor\":\"white\",\"linecolor\":\"white\",\"ticks\":\"\"},\"baxis\":{\"gridcolor\":\"white\",\"linecolor\":\"white\",\"ticks\":\"\"},\"bgcolor\":\"#E5ECF6\",\"caxis\":{\"gridcolor\":\"white\",\"linecolor\":\"white\",\"ticks\":\"\"}},\"title\":{\"x\":0.05},\"xaxis\":{\"automargin\":true,\"gridcolor\":\"white\",\"linecolor\":\"white\",\"ticks\":\"\",\"title\":{\"standoff\":15},\"zerolinecolor\":\"white\",\"zerolinewidth\":2},\"yaxis\":{\"automargin\":true,\"gridcolor\":\"white\",\"linecolor\":\"white\",\"ticks\":\"\",\"title\":{\"standoff\":15},\"zerolinecolor\":\"white\",\"zerolinewidth\":2}}},\"xaxis\":{\"anchor\":\"y\",\"domain\":[0.0,1.0],\"title\":{\"text\":\"DurationAsHour\"}},\"yaxis\":{\"anchor\":\"x\",\"domain\":[0.0,1.0],\"range\":[-1,40],\"title\":{\"text\":\"EstimationErrorInHours\"}}},                        {\"responsive\": true}                    ).then(function(){\n",
       "                            \n",
       "var gd = document.getElementById('36a99e4b-d8e9-4169-8319-d1f214c9f811');\n",
       "var x = new MutationObserver(function (mutations, observer) {{\n",
       "        var display = window.getComputedStyle(gd).display;\n",
       "        if (!display || display === 'none') {{\n",
       "            console.log([gd, 'removed!']);\n",
       "            Plotly.purge(gd);\n",
       "            observer.disconnect();\n",
       "        }}\n",
       "}});\n",
       "\n",
       "// Listen for the removal of the full notebook cells\n",
       "var notebookContainer = gd.closest('#notebook-container');\n",
       "if (notebookContainer) {{\n",
       "    x.observe(notebookContainer, {childList: true});\n",
       "}}\n",
       "\n",
       "// Listen for the clearing of the current output cell\n",
       "var outputEl = gd.closest('.output');\n",
       "if (outputEl) {{\n",
       "    x.observe(outputEl, {childList: true});\n",
       "}}\n",
       "\n",
       "                        })                };                });            </script>        </div>"
      ]
     },
     "metadata": {},
     "output_type": "display_data"
    }
   ],
   "source": [
    "first_40_hours = df[df[\"DurationAsHour\"]<41]\n",
    "\n",
    "fig = px.box(first_40_hours, x=\"DurationAsHour\", y=\"EstimationErrorInHours\")\n",
    "fig.update(layout_yaxis_range = [-1,40])\n",
    "\n",
    "fig.show()"
   ]
  },
  {
   "cell_type": "code",
   "execution_count": 110,
   "id": "b5cb53e8-aa22-4b2f-bcd0-6bab53e08e2f",
   "metadata": {},
   "outputs": [
    {
     "data": {
      "image/png": "[encoded data removed]",
      "text/plain": [
       "<Figure size 432x288 with 1 Axes>"
      ]
     },
     "metadata": {},
     "output_type": "display_data"
    }
   ],
   "source": [
    "plt.hist(df[\"EstimationErrorInHours\"], bins=40)\n",
    "plt.title(\"Distribution of the estimation error in hours\")\n",
    "plt.xlabel(\"value\")\n",
    "plt.ylabel(\"count\")\n",
    "plt.show()\n",
    "#plt"
   ]
  },
  {
   "cell_type": "code",
   "execution_count": 111,
   "id": "923fd10c-f653-40c0-983b-482cfde42896",
   "metadata": {},
   "outputs": [
    {
     "data": {
      "text/html": [
       "<div>\n",
       "<style scoped>\n",
       "    .dataframe tbody tr th:only-of-type {\n",
       "        vertical-align: middle;\n",
       "    }\n",
       "\n",
       "    .dataframe tbody tr th {\n",
       "        vertical-align: top;\n",
       "    }\n",
       "\n",
       "    .dataframe thead th {\n",
       "        text-align: right;\n",
       "    }\n",
       "</style>\n",
       "<table border=\"1\" class=\"dataframe\">\n",
       "  <thead>\n",
       "    <tr style=\"text-align: right;\">\n",
       "      <th></th>\n",
       "      <th>Name</th>\n",
       "      <th>Column</th>\n",
       "      <th>Color</th>\n",
       "      <th>Time spent</th>\n",
       "      <th>DurationInSeconds</th>\n",
       "      <th>EstimateInSeconds</th>\n",
       "      <th>EstimationErrorInSeconds</th>\n",
       "      <th>EstimationErrorInHours</th>\n",
       "    </tr>\n",
       "  </thead>\n",
       "  <tbody>\n",
       "    <tr>\n",
       "      <th>1256</th>\n",
       "      <td>Webseite: QA ausführen</td>\n",
       "      <td>8.2021</td>\n",
       "      <td>White</td>\n",
       "      <td>1.02</td>\n",
       "      <td>3672.0</td>\n",
       "      <td>1262.859842</td>\n",
       "      <td>-2409.140158</td>\n",
       "      <td>0.350794</td>\n",
       "    </tr>\n",
       "  </tbody>\n",
       "</table>\n",
       "</div>"
      ],
      "text/plain": [
       "                        Name  Column  Color  Time spent  DurationInSeconds  \\\n",
       "1256  Webseite: QA ausführen  8.2021  White        1.02             3672.0   \n",
       "\n",
       "      EstimateInSeconds  EstimationErrorInSeconds  EstimationErrorInHours  \n",
       "1256        1262.859842              -2409.140158                0.350794  "
      ]
     },
     "execution_count": 111,
     "metadata": {},
     "output_type": "execute_result"
    }
   ],
   "source": [
    "df2 = pd.read_csv(\"./output/A004_SWE-Archiv-2020_SWE-Archiv-2021_.csv\")\n",
    "df2['EstimationErrorInSeconds'] = df2.apply (lambda row: row[\"EstimateInSeconds\"] - row[\"DurationInSeconds\"], axis=1)\n",
    "df2['EstimationErrorInHours'] = df2.apply (lambda row: row[\"EstimateInSeconds\"]/60/60, axis=1)\n",
    "df2.tail(1)\n"
   ]
  },
  {
   "cell_type": "code",
   "execution_count": 112,
   "id": "dbd41ae6-3215-4211-a975-2c90c8e2b3fc",
   "metadata": {},
   "outputs": [
    {
     "data": {
      "image/png": "[encoded data removed]",
      "text/plain": [
       "<Figure size 432x288 with 1 Axes>"
      ]
     },
     "metadata": {},
     "output_type": "display_data"
    }
   ],
   "source": [
    "plt.hist(df2[\"EstimationErrorInHours\"], bins=40)\n",
    "plt.title(\"Distribution of the estimation error in hours\")\n",
    "plt.xlabel(\"value\")\n",
    "plt.ylabel(\"count\")\n",
    "plt.show()"
   ]
  }
 ],
 "metadata": {
  "kernelspec": {
   "display_name": "Python 3 (ipykernel)",
   "language": "python",
   "name": "python3"
  },
  "language_info": {
   "codemirror_mode": {
    "name": "ipython",
    "version": 3
   },
   "file_extension": ".py",
   "mimetype": "text/x-python",
   "name": "python",
   "nbconvert_exporter": "python",
   "pygments_lexer": "ipython3",
   "version": "3.8.10"
  }
 },
 "nbformat": 4,
 "nbformat_minor": 5
}
